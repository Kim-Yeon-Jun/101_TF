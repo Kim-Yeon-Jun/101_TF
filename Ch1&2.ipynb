{
  "nbformat": 4,
  "nbformat_minor": 0,
  "metadata": {
    "colab": {
      "provenance": [],
      "gpuType": "T4",
      "authorship_tag": "ABX9TyOa3+pY8PZ0HcL0dbvgicAF",
      "include_colab_link": true
    },
    "kernelspec": {
      "name": "python3",
      "display_name": "Python 3"
    },
    "language_info": {
      "name": "python"
    },
    "accelerator": "GPU"
  },
  "cells": [
    {
      "cell_type": "markdown",
      "metadata": {
        "id": "view-in-github",
        "colab_type": "text"
      },
      "source": [
        "<a href=\"https://colab.research.google.com/github/Kim-Yeon-Jun/101_TF/blob/main/Ch1%262.ipynb\" target=\"_parent\"><img src=\"https://colab.research.google.com/assets/colab-badge.svg\" alt=\"Open In Colab\"/></a>"
      ]
    },
    {
      "cell_type": "markdown",
      "source": [
        "# 허깅페이스 트랜스포머 라이브러리 설치"
      ],
      "metadata": {
        "id": "E-UXcuayGZi_"
      }
    },
    {
      "cell_type": "code",
      "execution_count": null,
      "metadata": {
        "colab": {
          "base_uri": "https://localhost:8080/"
        },
        "id": "w9f-bzu_GQ0w",
        "outputId": "e1f9c5e8-82e3-47cb-c68e-ababe925216a"
      },
      "outputs": [
        {
          "output_type": "stream",
          "name": "stdout",
          "text": [
            "Requirement already satisfied: transformers in /usr/local/lib/python3.10/dist-packages (4.35.2)\n",
            "Requirement already satisfied: filelock in /usr/local/lib/python3.10/dist-packages (from transformers) (3.13.1)\n",
            "Requirement already satisfied: huggingface-hub<1.0,>=0.16.4 in /usr/local/lib/python3.10/dist-packages (from transformers) (0.20.3)\n",
            "Requirement already satisfied: numpy>=1.17 in /usr/local/lib/python3.10/dist-packages (from transformers) (1.23.5)\n",
            "Requirement already satisfied: packaging>=20.0 in /usr/local/lib/python3.10/dist-packages (from transformers) (23.2)\n",
            "Requirement already satisfied: pyyaml>=5.1 in /usr/local/lib/python3.10/dist-packages (from transformers) (6.0.1)\n",
            "Requirement already satisfied: regex!=2019.12.17 in /usr/local/lib/python3.10/dist-packages (from transformers) (2023.12.25)\n",
            "Requirement already satisfied: requests in /usr/local/lib/python3.10/dist-packages (from transformers) (2.31.0)\n",
            "Requirement already satisfied: tokenizers<0.19,>=0.14 in /usr/local/lib/python3.10/dist-packages (from transformers) (0.15.1)\n",
            "Requirement already satisfied: safetensors>=0.3.1 in /usr/local/lib/python3.10/dist-packages (from transformers) (0.4.2)\n",
            "Requirement already satisfied: tqdm>=4.27 in /usr/local/lib/python3.10/dist-packages (from transformers) (4.66.1)\n",
            "Requirement already satisfied: fsspec>=2023.5.0 in /usr/local/lib/python3.10/dist-packages (from huggingface-hub<1.0,>=0.16.4->transformers) (2023.6.0)\n",
            "Requirement already satisfied: typing-extensions>=3.7.4.3 in /usr/local/lib/python3.10/dist-packages (from huggingface-hub<1.0,>=0.16.4->transformers) (4.5.0)\n",
            "Requirement already satisfied: charset-normalizer<4,>=2 in /usr/local/lib/python3.10/dist-packages (from requests->transformers) (3.3.2)\n",
            "Requirement already satisfied: idna<4,>=2.5 in /usr/local/lib/python3.10/dist-packages (from requests->transformers) (3.6)\n",
            "Requirement already satisfied: urllib3<3,>=1.21.1 in /usr/local/lib/python3.10/dist-packages (from requests->transformers) (2.0.7)\n",
            "Requirement already satisfied: certifi>=2017.4.17 in /usr/local/lib/python3.10/dist-packages (from requests->transformers) (2023.11.17)\n"
          ]
        }
      ],
      "source": [
        "!pip install transformers"
      ]
    },
    {
      "cell_type": "code",
      "source": [
        "# transformers 버전 확인\n",
        "import transformers\n",
        "print(transformers.__version__)"
      ],
      "metadata": {
        "colab": {
          "base_uri": "https://localhost:8080/"
        },
        "id": "UJsM1shCGdSt",
        "outputId": "5b488880-2e88-4fdd-efde-57bef82dcb86"
      },
      "execution_count": null,
      "outputs": [
        {
          "output_type": "stream",
          "name": "stdout",
          "text": [
            "4.35.2\n"
          ]
        }
      ]
    },
    {
      "cell_type": "markdown",
      "source": [
        "# Distilbert 모델"
      ],
      "metadata": {
        "id": "eIIKCs2RGvpk"
      }
    },
    {
      "cell_type": "markdown",
      "source": [
        "## 감성분석(sentiment-analysis)"
      ],
      "metadata": {
        "id": "BU29R2i5Ks6H"
      }
    },
    {
      "cell_type": "code",
      "source": [
        "from transformers import pipeline\n",
        "sentiment = pipeline('sentiment-analysis')"
      ],
      "metadata": {
        "colab": {
          "base_uri": "https://localhost:8080/"
        },
        "id": "gd6TkZhUGqyX",
        "outputId": "7fa97082-a0c7-4093-99fc-b6e9011eac3c"
      },
      "execution_count": null,
      "outputs": [
        {
          "output_type": "stream",
          "name": "stderr",
          "text": [
            "No model was supplied, defaulted to distilbert-base-uncased-finetuned-sst-2-english and revision af0f99b (https://huggingface.co/distilbert-base-uncased-finetuned-sst-2-english).\n",
            "Using a pipeline without specifying a model name and revision in production is not recommended.\n"
          ]
        }
      ]
    },
    {
      "cell_type": "code",
      "source": [
        "sentiment.model"
      ],
      "metadata": {
        "colab": {
          "base_uri": "https://localhost:8080/"
        },
        "id": "8h1kHb8vG99H",
        "outputId": "3a2faf93-08c1-40cc-b860-a2ecebbe32e6"
      },
      "execution_count": null,
      "outputs": [
        {
          "output_type": "execute_result",
          "data": {
            "text/plain": [
              "DistilBertForSequenceClassification(\n",
              "  (distilbert): DistilBertModel(\n",
              "    (embeddings): Embeddings(\n",
              "      (word_embeddings): Embedding(30522, 768, padding_idx=0)\n",
              "      (position_embeddings): Embedding(512, 768)\n",
              "      (LayerNorm): LayerNorm((768,), eps=1e-12, elementwise_affine=True)\n",
              "      (dropout): Dropout(p=0.1, inplace=False)\n",
              "    )\n",
              "    (transformer): Transformer(\n",
              "      (layer): ModuleList(\n",
              "        (0-5): 6 x TransformerBlock(\n",
              "          (attention): MultiHeadSelfAttention(\n",
              "            (dropout): Dropout(p=0.1, inplace=False)\n",
              "            (q_lin): Linear(in_features=768, out_features=768, bias=True)\n",
              "            (k_lin): Linear(in_features=768, out_features=768, bias=True)\n",
              "            (v_lin): Linear(in_features=768, out_features=768, bias=True)\n",
              "            (out_lin): Linear(in_features=768, out_features=768, bias=True)\n",
              "          )\n",
              "          (sa_layer_norm): LayerNorm((768,), eps=1e-12, elementwise_affine=True)\n",
              "          (ffn): FFN(\n",
              "            (dropout): Dropout(p=0.1, inplace=False)\n",
              "            (lin1): Linear(in_features=768, out_features=3072, bias=True)\n",
              "            (lin2): Linear(in_features=3072, out_features=768, bias=True)\n",
              "            (activation): GELUActivation()\n",
              "          )\n",
              "          (output_layer_norm): LayerNorm((768,), eps=1e-12, elementwise_affine=True)\n",
              "        )\n",
              "      )\n",
              "    )\n",
              "  )\n",
              "  (pre_classifier): Linear(in_features=768, out_features=768, bias=True)\n",
              "  (classifier): Linear(in_features=768, out_features=2, bias=True)\n",
              "  (dropout): Dropout(p=0.2, inplace=False)\n",
              ")"
            ]
          },
          "metadata": {},
          "execution_count": 7
        }
      ]
    },
    {
      "cell_type": "code",
      "source": [
        "# sentiment 모델에 input(문장)을 넣고 감성분석 결과 출력\n",
        "print(sentiment([\"I like Olympic games as it's very exciting.\"]))\n",
        "val1 = sentiment([\"I like Olympic games as it's very exciting.\"])\n",
        "print(val1[0]['label'])\n",
        "print(sentiment([\"I'm against to hold Olympic games in Tokyo in terms of preventing the covid19 to be spread \"]))\n",
        "val2 = sentiment([\"I'm against to hold Olympic games in Tokyo in terms of preventing the covid19 to be spread \"])\n",
        "print(val2[0]['label'])"
      ],
      "metadata": {
        "colab": {
          "base_uri": "https://localhost:8080/"
        },
        "id": "CF36nVj0HgJa",
        "outputId": "1b2c232b-5456-476d-b798-63f53bb58112"
      },
      "execution_count": null,
      "outputs": [
        {
          "output_type": "stream",
          "name": "stdout",
          "text": [
            "[{'label': 'POSITIVE', 'score': 0.9998026490211487}]\n",
            "POSITIVE\n",
            "[{'label': 'NEGATIVE', 'score': 0.9758422374725342}]\n",
            "NEGATIVE\n"
          ]
        }
      ]
    },
    {
      "cell_type": "code",
      "source": [
        "def get_sen(x):\n",
        "  return x[0]['label']"
      ],
      "metadata": {
        "id": "xP96yEPgIE5o"
      },
      "execution_count": null,
      "outputs": []
    },
    {
      "cell_type": "code",
      "source": [
        "def get_sen2(x):\n",
        "  y = sentiment([f\"{x}\"])\n",
        "  return y[0]['label']"
      ],
      "metadata": {
        "id": "djIXKAS1JoE5"
      },
      "execution_count": null,
      "outputs": []
    },
    {
      "cell_type": "code",
      "source": [
        "# val1 = sentiment([\"I like Olympic games as it's very exciting.\"])\n",
        "# val1 = get_sen(val1)\n",
        "val1 = get_sen(sentiment([\"I like Olympic games as it's very exciting.\"]))\n",
        "print(val1)\n",
        "val1 = get_sen2(\"I like Olympic games as it's very exciting.\")\n",
        "print(val1)"
      ],
      "metadata": {
        "colab": {
          "base_uri": "https://localhost:8080/"
        },
        "id": "5Wqb9KJsJPWG",
        "outputId": "16b0676b-1b62-416a-f535-7f497b6cbfbc"
      },
      "execution_count": null,
      "outputs": [
        {
          "output_type": "stream",
          "name": "stdout",
          "text": [
            "POSITIVE\n",
            "POSITIVE\n"
          ]
        }
      ]
    },
    {
      "cell_type": "markdown",
      "source": [
        "# 질의응답(questoin-answering)"
      ],
      "metadata": {
        "id": "5emWTMTwKiUP"
      }
    },
    {
      "cell_type": "code",
      "source": [
        "from transformers import pipeline\n",
        "qa = pipeline(\"question-answering\")\n",
        "qa_pipeline = pipeline('question-answering', model='distilbert-base-cased-distilled-squad', tokenizer='distilbert-base-cased-distilled-squad')"
      ],
      "metadata": {
        "colab": {
          "base_uri": "https://localhost:8080/"
        },
        "id": "rGLVsneAJTkz",
        "outputId": "977bb723-6b2e-439f-dc49-123bf3b3bedf"
      },
      "execution_count": null,
      "outputs": [
        {
          "output_type": "stream",
          "name": "stderr",
          "text": [
            "No model was supplied, defaulted to distilbert-base-cased-distilled-squad and revision 626af31 (https://huggingface.co/distilbert-base-cased-distilled-squad).\n",
            "Using a pipeline without specifying a model name and revision in production is not recommended.\n"
          ]
        }
      ]
    },
    {
      "cell_type": "code",
      "source": [
        "hp_text = \"\"\"Harry Potter is a series of seven fantasy novels written by British author J. K. Rowling.\n",
        "The novels chronicle the lives of a young wizard, Harry Potter, and his friends Hermione Granger and Ron Weasley, all of whom are students at Hogwarts School of Witchcraft and Wizardry.\n",
        "The main story arc concerns Harry's conflict with Lord Voldemort, a dark wizard who intends to become immortal, overthrow the wizard governing body known as the Ministry of Magic, and subjugate all wizards and Muggles (non-magical people).\n",
        "The series was originally published in English by Bloomsbury in the United Kingdom and Scholastic Press in the United States.\n",
        "A series of many genres, including fantasy, drama, coming-of-age fiction, and the British school story (which includes elements of mystery, thriller, adventure, horror, and romance),\n",
        "the world of Harry Potter explores numerous themes and includes many cultural meanings and references. Major themes in the series include prejudice, corruption, madness, and death.\n",
        "Since the release of the first novel, Harry Potter and the Philosopher's Stone, on 26 June 1997, the books have found immense popularity, positive reviews, and commercial success worldwide.\n",
        "They have attracted a wide adult audience as well as younger readers, and are widely considered cornerstones of modern literature.\n",
        "As of February 2023, the books have sold more than 600 million copies worldwide, making them the best-selling book series in history, and have been available in 85 languages.\n",
        "The last four books consecutively set records as the fastest-selling books in history,\n",
        "with the final instalment selling roughly 2.7 million copies in the United Kingdom and 8.3 million copies in the United States within twenty-four hours of its release.\n",
        "The original seven books were adapted into an eight-part namesake film series by Warner Bros.\n",
        "Pictures. In 2016, the total value of the Harry Potter franchise was estimated at $25 billion, making Harry Potter one of the highest-grossing media franchises of all time.\n",
        "Harry Potter and the Cursed Child is a play based on a story co-written by Rowling\n",
        "The success of the books and films has allowed the Harry Potter franchise to expand with numerous derivative works, a travelling exhibition that premiered in Chicago in 2009,\n",
        "a studio tour in London that opened in 2012, a digital platform on which J. K. Rowling updates the series with new information and insight,\n",
        "and a trilogy of spin-off films premiering in November 2016 with Fantastic Beasts and Where to Find Them, among many other developments.\n",
        "Themed attractions, collectively known as The Wizarding World of Harry Potter, have been built at several Universal Destinations & Experiences amusement parks around the world. \"\"\"\n",
        "\n",
        "print(qa(question=\"What is Harry Potter\", context=hp_text))"
      ],
      "metadata": {
        "colab": {
          "base_uri": "https://localhost:8080/"
        },
        "id": "tNh4dReGK-8e",
        "outputId": "ba854e89-833b-4e4e-aba8-9431e5aeb1cd"
      },
      "execution_count": null,
      "outputs": [
        {
          "output_type": "stream",
          "name": "stdout",
          "text": [
            "{'score': 0.03481076657772064, 'start': 1966, 'end': 2022, 'answer': 'one of the highest-grossing media franchises of all time'}\n"
          ]
        }
      ]
    },
    {
      "cell_type": "code",
      "source": [
        "qa.model"
      ],
      "metadata": {
        "colab": {
          "base_uri": "https://localhost:8080/"
        },
        "id": "lNLzD21rOAAB",
        "outputId": "c1d55c91-8ec9-42c8-eafa-1480f7c0b61c"
      },
      "execution_count": null,
      "outputs": [
        {
          "output_type": "execute_result",
          "data": {
            "text/plain": [
              "DistilBertForQuestionAnswering(\n",
              "  (distilbert): DistilBertModel(\n",
              "    (embeddings): Embeddings(\n",
              "      (word_embeddings): Embedding(28996, 768, padding_idx=0)\n",
              "      (position_embeddings): Embedding(512, 768)\n",
              "      (LayerNorm): LayerNorm((768,), eps=1e-12, elementwise_affine=True)\n",
              "      (dropout): Dropout(p=0.1, inplace=False)\n",
              "    )\n",
              "    (transformer): Transformer(\n",
              "      (layer): ModuleList(\n",
              "        (0-5): 6 x TransformerBlock(\n",
              "          (attention): MultiHeadSelfAttention(\n",
              "            (dropout): Dropout(p=0.1, inplace=False)\n",
              "            (q_lin): Linear(in_features=768, out_features=768, bias=True)\n",
              "            (k_lin): Linear(in_features=768, out_features=768, bias=True)\n",
              "            (v_lin): Linear(in_features=768, out_features=768, bias=True)\n",
              "            (out_lin): Linear(in_features=768, out_features=768, bias=True)\n",
              "          )\n",
              "          (sa_layer_norm): LayerNorm((768,), eps=1e-12, elementwise_affine=True)\n",
              "          (ffn): FFN(\n",
              "            (dropout): Dropout(p=0.1, inplace=False)\n",
              "            (lin1): Linear(in_features=768, out_features=3072, bias=True)\n",
              "            (lin2): Linear(in_features=3072, out_features=768, bias=True)\n",
              "            (activation): GELUActivation()\n",
              "          )\n",
              "          (output_layer_norm): LayerNorm((768,), eps=1e-12, elementwise_affine=True)\n",
              "        )\n",
              "      )\n",
              "    )\n",
              "  )\n",
              "  (qa_outputs): Linear(in_features=768, out_features=2, bias=True)\n",
              "  (dropout): Dropout(p=0.1, inplace=False)\n",
              ")"
            ]
          },
          "metadata": {},
          "execution_count": 14
        }
      ]
    },
    {
      "cell_type": "markdown",
      "source": [
        "## GPU 설정 확인"
      ],
      "metadata": {
        "id": "c-oWhOQdPifP"
      }
    },
    {
      "cell_type": "code",
      "source": [
        "import torch\n",
        "device = \"cuda\" if torch.cuda.is_available() else \"cpu\"\n",
        "print(device)"
      ],
      "metadata": {
        "colab": {
          "base_uri": "https://localhost:8080/"
        },
        "id": "WgkxOtajODma",
        "outputId": "10224a1d-4c06-43cd-ec93-333042b6cd2c"
      },
      "execution_count": null,
      "outputs": [
        {
          "output_type": "stream",
          "name": "stdout",
          "text": [
            "cuda\n"
          ]
        }
      ]
    },
    {
      "cell_type": "markdown",
      "source": [
        "## IMDB Dataset"
      ],
      "metadata": {
        "id": "X-yMKGyMPmpJ"
      }
    },
    {
      "cell_type": "code",
      "source": [
        "!pip install torchtext\n",
        "import torchtext\n",
        "print(torch.__version__)"
      ],
      "metadata": {
        "colab": {
          "base_uri": "https://localhost:8080/"
        },
        "id": "zVEDhlksPO2b",
        "outputId": "9eb51df3-507a-4d09-866f-ed50b1580b65"
      },
      "execution_count": null,
      "outputs": [
        {
          "output_type": "stream",
          "name": "stdout",
          "text": [
            "Requirement already satisfied: torchtext in /usr/local/lib/python3.10/dist-packages (0.16.0)\n",
            "Requirement already satisfied: tqdm in /usr/local/lib/python3.10/dist-packages (from torchtext) (4.66.1)\n",
            "Requirement already satisfied: requests in /usr/local/lib/python3.10/dist-packages (from torchtext) (2.31.0)\n",
            "Requirement already satisfied: torch==2.1.0 in /usr/local/lib/python3.10/dist-packages (from torchtext) (2.1.0+cu121)\n",
            "Requirement already satisfied: numpy in /usr/local/lib/python3.10/dist-packages (from torchtext) (1.23.5)\n",
            "Requirement already satisfied: torchdata==0.7.0 in /usr/local/lib/python3.10/dist-packages (from torchtext) (0.7.0)\n",
            "Requirement already satisfied: filelock in /usr/local/lib/python3.10/dist-packages (from torch==2.1.0->torchtext) (3.13.1)\n",
            "Requirement already satisfied: typing-extensions in /usr/local/lib/python3.10/dist-packages (from torch==2.1.0->torchtext) (4.5.0)\n",
            "Requirement already satisfied: sympy in /usr/local/lib/python3.10/dist-packages (from torch==2.1.0->torchtext) (1.12)\n",
            "Requirement already satisfied: networkx in /usr/local/lib/python3.10/dist-packages (from torch==2.1.0->torchtext) (3.2.1)\n",
            "Requirement already satisfied: jinja2 in /usr/local/lib/python3.10/dist-packages (from torch==2.1.0->torchtext) (3.1.3)\n",
            "Requirement already satisfied: fsspec in /usr/local/lib/python3.10/dist-packages (from torch==2.1.0->torchtext) (2023.6.0)\n",
            "Requirement already satisfied: triton==2.1.0 in /usr/local/lib/python3.10/dist-packages (from torch==2.1.0->torchtext) (2.1.0)\n",
            "Requirement already satisfied: urllib3>=1.25 in /usr/local/lib/python3.10/dist-packages (from torchdata==0.7.0->torchtext) (2.0.7)\n",
            "Requirement already satisfied: charset-normalizer<4,>=2 in /usr/local/lib/python3.10/dist-packages (from requests->torchtext) (3.3.2)\n",
            "Requirement already satisfied: idna<4,>=2.5 in /usr/local/lib/python3.10/dist-packages (from requests->torchtext) (3.6)\n",
            "Requirement already satisfied: certifi>=2017.4.17 in /usr/local/lib/python3.10/dist-packages (from requests->torchtext) (2023.11.17)\n",
            "Requirement already satisfied: MarkupSafe>=2.0 in /usr/local/lib/python3.10/dist-packages (from jinja2->torch==2.1.0->torchtext) (2.1.4)\n",
            "Requirement already satisfied: mpmath>=0.19 in /usr/local/lib/python3.10/dist-packages (from sympy->torch==2.1.0->torchtext) (1.3.0)\n",
            "2.1.0+cu121\n"
          ]
        }
      ]
    },
    {
      "cell_type": "code",
      "source": [
        "!pip install portalocker\n",
        "import portalocker\n",
        "print(portalocker.__version__)"
      ],
      "metadata": {
        "colab": {
          "base_uri": "https://localhost:8080/"
        },
        "id": "bONd2NrmP-Co",
        "outputId": "8e818de6-0278-4dc8-90c1-7b99962cf986"
      },
      "execution_count": null,
      "outputs": [
        {
          "output_type": "stream",
          "name": "stdout",
          "text": [
            "Requirement already satisfied: portalocker in /usr/local/lib/python3.10/dist-packages (2.8.2)\n",
            "2.8.2\n"
          ]
        }
      ]
    },
    {
      "cell_type": "code",
      "source": [
        "!pip install accelerate -U\n",
        "import accelerate\n",
        "print(accelerate.__version__)"
      ],
      "metadata": {
        "colab": {
          "base_uri": "https://localhost:8080/"
        },
        "id": "QP4H9wubQJ9w",
        "outputId": "aafc246e-6856-44af-8bd4-c90208bbb913"
      },
      "execution_count": null,
      "outputs": [
        {
          "output_type": "stream",
          "name": "stdout",
          "text": [
            "Requirement already satisfied: accelerate in /usr/local/lib/python3.10/dist-packages (0.26.1)\n",
            "Requirement already satisfied: numpy>=1.17 in /usr/local/lib/python3.10/dist-packages (from accelerate) (1.23.5)\n",
            "Requirement already satisfied: packaging>=20.0 in /usr/local/lib/python3.10/dist-packages (from accelerate) (23.2)\n",
            "Requirement already satisfied: psutil in /usr/local/lib/python3.10/dist-packages (from accelerate) (5.9.5)\n",
            "Requirement already satisfied: pyyaml in /usr/local/lib/python3.10/dist-packages (from accelerate) (6.0.1)\n",
            "Requirement already satisfied: torch>=1.10.0 in /usr/local/lib/python3.10/dist-packages (from accelerate) (2.1.0+cu121)\n",
            "Requirement already satisfied: huggingface-hub in /usr/local/lib/python3.10/dist-packages (from accelerate) (0.20.3)\n",
            "Requirement already satisfied: safetensors>=0.3.1 in /usr/local/lib/python3.10/dist-packages (from accelerate) (0.4.2)\n",
            "Requirement already satisfied: filelock in /usr/local/lib/python3.10/dist-packages (from torch>=1.10.0->accelerate) (3.13.1)\n",
            "Requirement already satisfied: typing-extensions in /usr/local/lib/python3.10/dist-packages (from torch>=1.10.0->accelerate) (4.5.0)\n",
            "Requirement already satisfied: sympy in /usr/local/lib/python3.10/dist-packages (from torch>=1.10.0->accelerate) (1.12)\n",
            "Requirement already satisfied: networkx in /usr/local/lib/python3.10/dist-packages (from torch>=1.10.0->accelerate) (3.2.1)\n",
            "Requirement already satisfied: jinja2 in /usr/local/lib/python3.10/dist-packages (from torch>=1.10.0->accelerate) (3.1.3)\n",
            "Requirement already satisfied: fsspec in /usr/local/lib/python3.10/dist-packages (from torch>=1.10.0->accelerate) (2023.6.0)\n",
            "Requirement already satisfied: triton==2.1.0 in /usr/local/lib/python3.10/dist-packages (from torch>=1.10.0->accelerate) (2.1.0)\n",
            "Requirement already satisfied: requests in /usr/local/lib/python3.10/dist-packages (from huggingface-hub->accelerate) (2.31.0)\n",
            "Requirement already satisfied: tqdm>=4.42.1 in /usr/local/lib/python3.10/dist-packages (from huggingface-hub->accelerate) (4.66.1)\n",
            "Requirement already satisfied: MarkupSafe>=2.0 in /usr/local/lib/python3.10/dist-packages (from jinja2->torch>=1.10.0->accelerate) (2.1.4)\n",
            "Requirement already satisfied: charset-normalizer<4,>=2 in /usr/local/lib/python3.10/dist-packages (from requests->huggingface-hub->accelerate) (3.3.2)\n",
            "Requirement already satisfied: idna<4,>=2.5 in /usr/local/lib/python3.10/dist-packages (from requests->huggingface-hub->accelerate) (3.6)\n",
            "Requirement already satisfied: urllib3<3,>=1.21.1 in /usr/local/lib/python3.10/dist-packages (from requests->huggingface-hub->accelerate) (2.0.7)\n",
            "Requirement already satisfied: certifi>=2017.4.17 in /usr/local/lib/python3.10/dist-packages (from requests->huggingface-hub->accelerate) (2023.11.17)\n",
            "Requirement already satisfied: mpmath>=0.19 in /usr/local/lib/python3.10/dist-packages (from sympy->torch>=1.10.0->accelerate) (1.3.0)\n",
            "0.26.1\n"
          ]
        }
      ]
    },
    {
      "cell_type": "code",
      "source": [
        "from torchtext.datasets import IMDB\n",
        "\n",
        "train_iter = IMDB(split='train')\n",
        "test_iter = IMDB(split='test')"
      ],
      "metadata": {
        "id": "15EBL8PYQRlY"
      },
      "execution_count": null,
      "outputs": []
    },
    {
      "cell_type": "code",
      "source": [
        "import random\n",
        "random.seed(6) # 항상 같은 결과가 나오도록 임의의 seed 값을 설정\n",
        "\n",
        "# 타입 변경\n",
        "train_lists = list(train_iter)\n",
        "test_lists = list(test_iter)\n",
        "# 각 1000개씩 샘플링\n",
        "train_lists_small = random.sample(train_lists, 1000)\n",
        "test_lists_small = random.sample(test_lists, 1000)\n",
        "# 각 리스트의 첫번째 원소 출력\n",
        "print(train_lists_small[0])\n",
        "print(test_lists_small[0])"
      ],
      "metadata": {
        "colab": {
          "base_uri": "https://localhost:8080/"
        },
        "id": "Qm6-MThRWJAH",
        "outputId": "0bb89933-c631-4ccf-f412-a601878876e8"
      },
      "execution_count": null,
      "outputs": [
        {
          "output_type": "stream",
          "name": "stdout",
          "text": [
            "(2, \"I LOVED this movie! I am biased seeing as I am a huge Disney fan, but I really enjoyed myself. The action takes off running in the beginning of the film and just keeps going! This is a bit of a departure for Disney, they don't spend quite as much time on character development (my husband pointed this out)and there are no musical numbers. It is strictly action adventure. I thoroughly enjoyed it and recommend it to anyone who loves Disney, be they young or old.\")\n",
            "(1, 'This was an abysmal show. In short it was about this kid called Doug who guilt-tripped a lot. Seriously he could feel guilty over killing a fly then feeling guilty over feeling guilty for killing the fly and so forth. The animation was grating and unpleasant and the jokes cheap. <br /><br />It aired here in Sweden as a part of the \"Disney time\" show and i remember liking it some what but then i turned 13.<br /><br />I never got why some of the characters were green and purple too. What was up with that? <br /><br />Truly a horrible show. Appareantly it spawned a movie which i\\'ve never seen but i don\\'t have any great expectations for that one either.')\n"
          ]
        }
      ]
    },
    {
      "cell_type": "markdown",
      "source": [
        "## 구분"
      ],
      "metadata": {
        "id": "feoHkYzTmSCg"
      }
    },
    {
      "cell_type": "markdown",
      "source": [
        "## label encoding"
      ],
      "metadata": {
        "id": "7nGdAylxSrJm"
      }
    },
    {
      "cell_type": "code",
      "source": [
        "train_texts = []\n",
        "train_labels = []\n",
        "\n",
        "for label, text in train_lists_small:\n",
        "  train_labels.append(1 if label == 2 else 0)\n",
        "  train_texts.append(text)"
      ],
      "metadata": {
        "id": "bbunvvJbWmDp"
      },
      "execution_count": null,
      "outputs": []
    },
    {
      "cell_type": "code",
      "source": [
        "test_texts = []\n",
        "test_labels = []\n",
        "\n",
        "for label, text in test_lists_small:\n",
        "  test_labels.append(1 if label == 2 else 0)\n",
        "  test_texts.append(text)"
      ],
      "metadata": {
        "id": "0cWWxsucTIZf"
      },
      "execution_count": null,
      "outputs": []
    },
    {
      "cell_type": "code",
      "source": [
        "print(type(train_texts))\n",
        "print(type(train_labels))\n",
        "\n",
        "print(train_texts[0])\n",
        "print(train_labels[0])\n",
        "print(\"==============\")\n",
        "print(test_texts[0])\n",
        "print(test_labels[0])"
      ],
      "metadata": {
        "colab": {
          "base_uri": "https://localhost:8080/"
        },
        "id": "5savdLWoTVNE",
        "outputId": "5be7a1f2-e38e-4543-8a52-5563b5d9e1a5"
      },
      "execution_count": null,
      "outputs": [
        {
          "output_type": "stream",
          "name": "stdout",
          "text": [
            "<class 'list'>\n",
            "<class 'list'>\n",
            "I LOVED this movie! I am biased seeing as I am a huge Disney fan, but I really enjoyed myself. The action takes off running in the beginning of the film and just keeps going! This is a bit of a departure for Disney, they don't spend quite as much time on character development (my husband pointed this out)and there are no musical numbers. It is strictly action adventure. I thoroughly enjoyed it and recommend it to anyone who loves Disney, be they young or old.\n",
            "1\n",
            "==============\n",
            "This was an abysmal show. In short it was about this kid called Doug who guilt-tripped a lot. Seriously he could feel guilty over killing a fly then feeling guilty over feeling guilty for killing the fly and so forth. The animation was grating and unpleasant and the jokes cheap. <br /><br />It aired here in Sweden as a part of the \"Disney time\" show and i remember liking it some what but then i turned 13.<br /><br />I never got why some of the characters were green and purple too. What was up with that? <br /><br />Truly a horrible show. Appareantly it spawned a movie which i've never seen but i don't have any great expectations for that one either.\n",
            "0\n"
          ]
        }
      ]
    },
    {
      "cell_type": "markdown",
      "source": [
        "## train test split"
      ],
      "metadata": {
        "id": "hVLu_us-Ut1a"
      }
    },
    {
      "cell_type": "code",
      "source": [
        "from sklearn.model_selection import train_test_split\n",
        "train_texts, val_texts, train_labels, val_labels = train_test_split(train_texts, train_labels, test_size=.2, random_state=3)\n",
        "print(len(train_texts))\n",
        "print(len(train_labels))\n",
        "print(len(val_texts))\n",
        "print(len(val_labels))"
      ],
      "metadata": {
        "colab": {
          "base_uri": "https://localhost:8080/"
        },
        "id": "AHXU2cX9Taon",
        "outputId": "87c21cce-f747-45ba-e418-144fdf934323"
      },
      "execution_count": null,
      "outputs": [
        {
          "output_type": "stream",
          "name": "stdout",
          "text": [
            "800\n",
            "800\n",
            "200\n",
            "200\n"
          ]
        }
      ]
    },
    {
      "cell_type": "markdown",
      "source": [
        "## 토크나이징(단어로 구분) & 인코딩(토큰->숫자)"
      ],
      "metadata": {
        "id": "klhcvIs7WAnO"
      }
    },
    {
      "cell_type": "code",
      "source": [
        "#distilbert-base-uncased 모델에서 토크나이저 불러오기\n",
        "from transformers import DistilBertTokenizerFast\n",
        "tokenizer = DistilBertTokenizerFast.from_pretrained('distilbert-base-uncased')"
      ],
      "metadata": {
        "id": "A6VY8DhxWPqS"
      },
      "execution_count": null,
      "outputs": []
    },
    {
      "cell_type": "code",
      "source": [
        "train_encodings = tokenizer(train_texts, truncation=True, padding=True)\n",
        "val_encodings = tokenizer(val_texts, truncation=True, padding=True)\n",
        "test_encodings = tokenizer(test_texts, truncation=True, padding=True)\n",
        "\n",
        "# 0번째 입력문(txt)의 5번째 토큰까지의 input_ids 출력"
      ],
      "metadata": {
        "id": "MeCSq7kgVa6Z"
      },
      "execution_count": null,
      "outputs": []
    },
    {
      "cell_type": "markdown",
      "source": [
        "## dataset class 생성"
      ],
      "metadata": {
        "id": "PFkj_fhwYPsK"
      }
    },
    {
      "cell_type": "code",
      "source": [
        "import torch\n",
        "\n",
        "class IMDbDataset(torch.utils.data.Dataset):\n",
        "\n",
        "  def __init__(self, encodings, labels):\n",
        "    self.encodings = encodings\n",
        "    self.labels = labels\n",
        "\n",
        "  def __getitem__(self, idx):\n",
        "    item = {key : torch.tensor(val[idx]) for key, val in self.encodings.items()}\n",
        "\n",
        "    item['labels'] = torch.tensor(self.labels[idx])\n",
        "    return item\n",
        "\n",
        "  def __len__(self):\n",
        "    return len(self.labels)\n",
        "\n",
        "train_dataset = IMDbDataset(train_encodings, train_labels)\n",
        "val_dataset = IMDbDataset(val_encodings, val_labels)\n",
        "test_dataset = IMDbDataset(test_encodings, test_labels)"
      ],
      "metadata": {
        "id": "JO2q7VgTYKRi"
      },
      "execution_count": null,
      "outputs": []
    },
    {
      "cell_type": "code",
      "source": [
        "for i in train_dataset:\n",
        "  print(i)\n",
        "  break"
      ],
      "metadata": {
        "colab": {
          "base_uri": "https://localhost:8080/"
        },
        "id": "mkY9-50JbuYl",
        "outputId": "8fd27ed4-64f0-4222-b900-11a91a585ef5"
      },
      "execution_count": null,
      "outputs": [
        {
          "output_type": "stream",
          "name": "stdout",
          "text": [
            "{'input_ids': tensor([  101,  4937, 11350,  2038,  2048,  1000,  7592, 14433,  1000,  1011,\n",
            "         2828, 18401,  2015, 28866,  2075,  2006,  1037, 13576,  4440,  2083,\n",
            "         1996, 25115,  1010,  2073,  2505,  2064,  4148,  1010,  1998,  2515,\n",
            "         1012,  2023,  2568,  1011,  4440,  4691,  4004,  2460,  3594,  2053,\n",
            "        13764,  8649,  1010,  4942, 21532,  2773, 22163,  2612,  1012,  2045,\n",
            "         2003,  2053,  2126,  1997,  7851,  2023, 17183, 14088,  9476,  3272,\n",
            "         2000,  2425,  2017,  2000,  2156,  2009,  2005,  4426,  1012,  1998,\n",
            "         2191,  2469,  2053,  2028,  2104,  2184,  2003,  1999,  1996,  2282,\n",
            "         1012,  4487,  6491,  6633,  5677,  3672,  1998,  2064,  3490, 10264,\n",
            "         2964,  1998, 18186,  1998,  9576,  2854,  1998,  5573,  2331,  1998,\n",
            "         2655,  3560, 27770,  2005,  2500,  2024,  2691,  6991,  1012,  7481,\n",
            "         1012,  3383,  1996,  2087, 13432,  3746,  2003,  2008,  1997,  2019,\n",
            "        10777,  3605,  1997,  2300,  2008,  1996,  8934,  7368,  9880,  2083,\n",
            "         1998,  1999,  1010,  1998,  2036,  4536,  1012,  2021,  2066,  8134,\n",
            "         2673,  2842,  1999,  2023,  2143,  1010,  2008, 10021,  1010, 27263,\n",
            "        17933,  4226, 25347,  2574,  3310,  2000,  1037,  9202,  2203,  1012,\n",
            "          102,     0,     0,     0,     0,     0,     0,     0,     0,     0,\n",
            "            0,     0,     0,     0,     0,     0,     0,     0,     0,     0,\n",
            "            0,     0,     0,     0,     0,     0,     0,     0,     0,     0,\n",
            "            0,     0,     0,     0,     0,     0,     0,     0,     0,     0,\n",
            "            0,     0,     0,     0,     0,     0,     0,     0,     0,     0,\n",
            "            0,     0,     0,     0,     0,     0,     0,     0,     0,     0,\n",
            "            0,     0,     0,     0,     0,     0,     0,     0,     0,     0,\n",
            "            0,     0,     0,     0,     0,     0,     0,     0,     0,     0,\n",
            "            0,     0,     0,     0,     0,     0,     0,     0,     0,     0,\n",
            "            0,     0,     0,     0,     0,     0,     0,     0,     0,     0,\n",
            "            0,     0,     0,     0,     0,     0,     0,     0,     0,     0,\n",
            "            0,     0,     0,     0,     0,     0,     0,     0,     0,     0,\n",
            "            0,     0,     0,     0,     0,     0,     0,     0,     0,     0,\n",
            "            0,     0,     0,     0,     0,     0,     0,     0,     0,     0,\n",
            "            0,     0,     0,     0,     0,     0,     0,     0,     0,     0,\n",
            "            0,     0,     0,     0,     0,     0,     0,     0,     0,     0,\n",
            "            0,     0,     0,     0,     0,     0,     0,     0,     0,     0,\n",
            "            0,     0,     0,     0,     0,     0,     0,     0,     0,     0,\n",
            "            0,     0,     0,     0,     0,     0,     0,     0,     0,     0,\n",
            "            0,     0,     0,     0,     0,     0,     0,     0,     0,     0,\n",
            "            0,     0,     0,     0,     0,     0,     0,     0,     0,     0,\n",
            "            0,     0,     0,     0,     0,     0,     0,     0,     0,     0,\n",
            "            0,     0,     0,     0,     0,     0,     0,     0,     0,     0,\n",
            "            0,     0,     0,     0,     0,     0,     0,     0,     0,     0,\n",
            "            0,     0,     0,     0,     0,     0,     0,     0,     0,     0,\n",
            "            0,     0,     0,     0,     0,     0,     0,     0,     0,     0,\n",
            "            0,     0,     0,     0,     0,     0,     0,     0,     0,     0,\n",
            "            0,     0,     0,     0,     0,     0,     0,     0,     0,     0,\n",
            "            0,     0,     0,     0,     0,     0,     0,     0,     0,     0,\n",
            "            0,     0,     0,     0,     0,     0,     0,     0,     0,     0,\n",
            "            0,     0,     0,     0,     0,     0,     0,     0,     0,     0,\n",
            "            0,     0,     0,     0,     0,     0,     0,     0,     0,     0,\n",
            "            0,     0,     0,     0,     0,     0,     0,     0,     0,     0,\n",
            "            0,     0,     0,     0,     0,     0,     0,     0,     0,     0,\n",
            "            0,     0,     0,     0,     0,     0,     0,     0,     0,     0,\n",
            "            0,     0]), 'attention_mask': tensor([1, 1, 1, 1, 1, 1, 1, 1, 1, 1, 1, 1, 1, 1, 1, 1, 1, 1, 1, 1, 1, 1, 1, 1,\n",
            "        1, 1, 1, 1, 1, 1, 1, 1, 1, 1, 1, 1, 1, 1, 1, 1, 1, 1, 1, 1, 1, 1, 1, 1,\n",
            "        1, 1, 1, 1, 1, 1, 1, 1, 1, 1, 1, 1, 1, 1, 1, 1, 1, 1, 1, 1, 1, 1, 1, 1,\n",
            "        1, 1, 1, 1, 1, 1, 1, 1, 1, 1, 1, 1, 1, 1, 1, 1, 1, 1, 1, 1, 1, 1, 1, 1,\n",
            "        1, 1, 1, 1, 1, 1, 1, 1, 1, 1, 1, 1, 1, 1, 1, 1, 1, 1, 1, 1, 1, 1, 1, 1,\n",
            "        1, 1, 1, 1, 1, 1, 1, 1, 1, 1, 1, 1, 1, 1, 1, 1, 1, 1, 1, 1, 1, 1, 1, 1,\n",
            "        1, 1, 1, 1, 1, 1, 1, 1, 1, 1, 1, 1, 1, 1, 1, 1, 1, 0, 0, 0, 0, 0, 0, 0,\n",
            "        0, 0, 0, 0, 0, 0, 0, 0, 0, 0, 0, 0, 0, 0, 0, 0, 0, 0, 0, 0, 0, 0, 0, 0,\n",
            "        0, 0, 0, 0, 0, 0, 0, 0, 0, 0, 0, 0, 0, 0, 0, 0, 0, 0, 0, 0, 0, 0, 0, 0,\n",
            "        0, 0, 0, 0, 0, 0, 0, 0, 0, 0, 0, 0, 0, 0, 0, 0, 0, 0, 0, 0, 0, 0, 0, 0,\n",
            "        0, 0, 0, 0, 0, 0, 0, 0, 0, 0, 0, 0, 0, 0, 0, 0, 0, 0, 0, 0, 0, 0, 0, 0,\n",
            "        0, 0, 0, 0, 0, 0, 0, 0, 0, 0, 0, 0, 0, 0, 0, 0, 0, 0, 0, 0, 0, 0, 0, 0,\n",
            "        0, 0, 0, 0, 0, 0, 0, 0, 0, 0, 0, 0, 0, 0, 0, 0, 0, 0, 0, 0, 0, 0, 0, 0,\n",
            "        0, 0, 0, 0, 0, 0, 0, 0, 0, 0, 0, 0, 0, 0, 0, 0, 0, 0, 0, 0, 0, 0, 0, 0,\n",
            "        0, 0, 0, 0, 0, 0, 0, 0, 0, 0, 0, 0, 0, 0, 0, 0, 0, 0, 0, 0, 0, 0, 0, 0,\n",
            "        0, 0, 0, 0, 0, 0, 0, 0, 0, 0, 0, 0, 0, 0, 0, 0, 0, 0, 0, 0, 0, 0, 0, 0,\n",
            "        0, 0, 0, 0, 0, 0, 0, 0, 0, 0, 0, 0, 0, 0, 0, 0, 0, 0, 0, 0, 0, 0, 0, 0,\n",
            "        0, 0, 0, 0, 0, 0, 0, 0, 0, 0, 0, 0, 0, 0, 0, 0, 0, 0, 0, 0, 0, 0, 0, 0,\n",
            "        0, 0, 0, 0, 0, 0, 0, 0, 0, 0, 0, 0, 0, 0, 0, 0, 0, 0, 0, 0, 0, 0, 0, 0,\n",
            "        0, 0, 0, 0, 0, 0, 0, 0, 0, 0, 0, 0, 0, 0, 0, 0, 0, 0, 0, 0, 0, 0, 0, 0,\n",
            "        0, 0, 0, 0, 0, 0, 0, 0, 0, 0, 0, 0, 0, 0, 0, 0, 0, 0, 0, 0, 0, 0, 0, 0,\n",
            "        0, 0, 0, 0, 0, 0, 0, 0]), 'labels': tensor(1)}\n"
          ]
        }
      ]
    },
    {
      "cell_type": "markdown",
      "source": [
        "## 사전학습 모델 불러오기"
      ],
      "metadata": {
        "id": "9_-5jqxYcMuO"
      }
    },
    {
      "cell_type": "code",
      "source": [
        "from transformers import DistilBertForSequenceClassification\n",
        "model = DistilBertForSequenceClassification.from_pretrained(\"distilbert-base-uncased\")\n",
        "model"
      ],
      "metadata": {
        "colab": {
          "base_uri": "https://localhost:8080/"
        },
        "id": "tqaK6319cExG",
        "outputId": "a9848c95-2d1c-419e-ffd2-2e39cdc72074"
      },
      "execution_count": null,
      "outputs": [
        {
          "output_type": "stream",
          "name": "stderr",
          "text": [
            "Some weights of DistilBertForSequenceClassification were not initialized from the model checkpoint at distilbert-base-uncased and are newly initialized: ['pre_classifier.bias', 'pre_classifier.weight', 'classifier.bias', 'classifier.weight']\n",
            "You should probably TRAIN this model on a down-stream task to be able to use it for predictions and inference.\n"
          ]
        },
        {
          "output_type": "execute_result",
          "data": {
            "text/plain": [
              "DistilBertForSequenceClassification(\n",
              "  (distilbert): DistilBertModel(\n",
              "    (embeddings): Embeddings(\n",
              "      (word_embeddings): Embedding(30522, 768, padding_idx=0)\n",
              "      (position_embeddings): Embedding(512, 768)\n",
              "      (LayerNorm): LayerNorm((768,), eps=1e-12, elementwise_affine=True)\n",
              "      (dropout): Dropout(p=0.1, inplace=False)\n",
              "    )\n",
              "    (transformer): Transformer(\n",
              "      (layer): ModuleList(\n",
              "        (0-5): 6 x TransformerBlock(\n",
              "          (attention): MultiHeadSelfAttention(\n",
              "            (dropout): Dropout(p=0.1, inplace=False)\n",
              "            (q_lin): Linear(in_features=768, out_features=768, bias=True)\n",
              "            (k_lin): Linear(in_features=768, out_features=768, bias=True)\n",
              "            (v_lin): Linear(in_features=768, out_features=768, bias=True)\n",
              "            (out_lin): Linear(in_features=768, out_features=768, bias=True)\n",
              "          )\n",
              "          (sa_layer_norm): LayerNorm((768,), eps=1e-12, elementwise_affine=True)\n",
              "          (ffn): FFN(\n",
              "            (dropout): Dropout(p=0.1, inplace=False)\n",
              "            (lin1): Linear(in_features=768, out_features=3072, bias=True)\n",
              "            (lin2): Linear(in_features=3072, out_features=768, bias=True)\n",
              "            (activation): GELUActivation()\n",
              "          )\n",
              "          (output_layer_norm): LayerNorm((768,), eps=1e-12, elementwise_affine=True)\n",
              "        )\n",
              "      )\n",
              "    )\n",
              "  )\n",
              "  (pre_classifier): Linear(in_features=768, out_features=768, bias=True)\n",
              "  (classifier): Linear(in_features=768, out_features=2, bias=True)\n",
              "  (dropout): Dropout(p=0.2, inplace=False)\n",
              ")"
            ]
          },
          "metadata": {},
          "execution_count": 29
        }
      ]
    },
    {
      "cell_type": "markdown",
      "source": [
        "## Train Arguments 설정(하이퍼파라미터 조정)\n",
        "\n",
        "epoch, batchsize, activation function"
      ],
      "metadata": {
        "id": "pwMsZA8Nc47H"
      }
    },
    {
      "cell_type": "code",
      "source": [
        "from transformers import TrainingArguments\n",
        "\n",
        "training_args = TrainingArguments(\n",
        "    output_dir = './results', # 출력 디렉토리 경로\n",
        "    num_train_epochs=8, # 학습 에폭\n",
        "    per_device_train_batch_size=16, # 학습 미니배치 사이즈\n",
        "    per_device_eval_batch_size=64, # 평가 미니배치 사이즈\n",
        "    warmup_steps=500, # 학습률 스케줄링용 스텝수\n",
        "    weight_decay=0.01, # 가중치 감소 정도\n",
        "    logging_dir='./logs', # 로그 디렉토리 경로\n",
        "    logging_steps=10,\n",
        ")"
      ],
      "metadata": {
        "id": "NKaB4e6fcOSB"
      },
      "execution_count": null,
      "outputs": []
    },
    {
      "cell_type": "markdown",
      "source": [
        "## GPU 전송"
      ],
      "metadata": {
        "id": "P1N6Qn6TfSrS"
      }
    },
    {
      "cell_type": "code",
      "source": [
        "import torch\n",
        "device = torch.device('cuda' if torch.cuda.is_available() else 'cpu')\n",
        "print(device)\n",
        "model = model.to(device)"
      ],
      "metadata": {
        "colab": {
          "base_uri": "https://localhost:8080/"
        },
        "id": "o36Jp5NGe3ie",
        "outputId": "6b06692b-1e0d-47c2-f5cc-e54c405abba5"
      },
      "execution_count": null,
      "outputs": [
        {
          "output_type": "stream",
          "name": "stdout",
          "text": [
            "cuda\n"
          ]
        }
      ]
    },
    {
      "cell_type": "markdown",
      "source": [
        "## Trainer 클래스 사전학습"
      ],
      "metadata": {
        "id": "yTEXKVjvg2B2"
      }
    },
    {
      "cell_type": "code",
      "source": [
        "# fine tuning 이전에 3개의 입력 문장 극성 판별\n",
        "\n",
        "# tokenizing\n",
        "input_tokens = tokenizer([\"I feel fantastic\",\n",
        "                           \"My life is going something wrong\",\n",
        "                           \"I habe note figured out what the chosen title has to do with the movie\"],\n",
        "                          truncation=True,\n",
        "                          padding=True)\n",
        "\n",
        "# 입력 문장 토크나이징 결과(input_tokens)에 담긴 input_ids를 모델에 투입\n",
        "# 모델 출력 결과를 GPU로 전송하고 그 값은 변수 outputs에 저장\n",
        "outputs = model(torch.tensor(input_tokens['input_ids']).to(device))\n",
        "\n",
        "# 레이블 딕셔너리 생성\n",
        "label_dict = {0:'positive', 1:'negative'}\n",
        "\n",
        "# outputs 변수에 담긴 logits 값을 행단위(입력 문장 단위)로 가장 큰 값의 위치(인덱스) 추출\n",
        "# 결과값(인덱스)을 cpu로 넘기고 넘파이로 타입 변환 - 인덱스에 매칭되는 레이블 출력\n",
        "print([label_dict[i] for i in torch.argmax(outputs['logits'], axis=1).cpu().numpy()])"
      ],
      "metadata": {
        "colab": {
          "base_uri": "https://localhost:8080/"
        },
        "id": "MkYyYRbifR6c",
        "outputId": "63dfb677-dd57-41d4-d4f7-d735211f41d9"
      },
      "execution_count": null,
      "outputs": [
        {
          "output_type": "stream",
          "name": "stderr",
          "text": [
            "We strongly recommend passing in an `attention_mask` since your input_ids may be padded. See https://huggingface.co/docs/transformers/troubleshooting#incorrect-output-when-padding-tokens-arent-masked.\n"
          ]
        },
        {
          "output_type": "stream",
          "name": "stdout",
          "text": [
            "['positive', 'positive', 'positive']\n"
          ]
        }
      ]
    },
    {
      "cell_type": "markdown",
      "source": [
        "## Trainer.train()을 통한 파인튜닝"
      ],
      "metadata": {
        "id": "S5lHnSGdjnBC"
      }
    },
    {
      "cell_type": "code",
      "source": [
        "from transformers import Trainer\n",
        "\n",
        "trainer = Trainer(\n",
        "    model = model, # 사전학습 모델 인스턴스화\n",
        "    args = training_args, # transformers.Arguments에 정의한 하이퍼파라미터\n",
        "    train_dataset = train_dataset, # 학습 데이터셋\n",
        "    eval_dataset = val_dataset # 평가 데이터셋\n",
        ")\n",
        "\n",
        "trainer.train()"
      ],
      "metadata": {
        "colab": {
          "base_uri": "https://localhost:8080/",
          "height": 1000
        },
        "id": "6ctHZbBOij2V",
        "outputId": "6b7e1176-d4ee-4f91-f21c-53bb8bd70026"
      },
      "execution_count": null,
      "outputs": [
        {
          "output_type": "display_data",
          "data": {
            "text/plain": [
              "<IPython.core.display.HTML object>"
            ],
            "text/html": [
              "\n",
              "    <div>\n",
              "      \n",
              "      <progress value='400' max='400' style='width:300px; height:20px; vertical-align: middle;'></progress>\n",
              "      [400/400 05:09, Epoch 8/8]\n",
              "    </div>\n",
              "    <table border=\"1\" class=\"dataframe\">\n",
              "  <thead>\n",
              " <tr style=\"text-align: left;\">\n",
              "      <th>Step</th>\n",
              "      <th>Training Loss</th>\n",
              "    </tr>\n",
              "  </thead>\n",
              "  <tbody>\n",
              "    <tr>\n",
              "      <td>10</td>\n",
              "      <td>0.701300</td>\n",
              "    </tr>\n",
              "    <tr>\n",
              "      <td>20</td>\n",
              "      <td>0.710400</td>\n",
              "    </tr>\n",
              "    <tr>\n",
              "      <td>30</td>\n",
              "      <td>0.706200</td>\n",
              "    </tr>\n",
              "    <tr>\n",
              "      <td>40</td>\n",
              "      <td>0.691000</td>\n",
              "    </tr>\n",
              "    <tr>\n",
              "      <td>50</td>\n",
              "      <td>0.689300</td>\n",
              "    </tr>\n",
              "    <tr>\n",
              "      <td>60</td>\n",
              "      <td>0.677700</td>\n",
              "    </tr>\n",
              "    <tr>\n",
              "      <td>70</td>\n",
              "      <td>0.677500</td>\n",
              "    </tr>\n",
              "    <tr>\n",
              "      <td>80</td>\n",
              "      <td>0.666900</td>\n",
              "    </tr>\n",
              "    <tr>\n",
              "      <td>90</td>\n",
              "      <td>0.648100</td>\n",
              "    </tr>\n",
              "    <tr>\n",
              "      <td>100</td>\n",
              "      <td>0.583100</td>\n",
              "    </tr>\n",
              "    <tr>\n",
              "      <td>110</td>\n",
              "      <td>0.538800</td>\n",
              "    </tr>\n",
              "    <tr>\n",
              "      <td>120</td>\n",
              "      <td>0.444300</td>\n",
              "    </tr>\n",
              "    <tr>\n",
              "      <td>130</td>\n",
              "      <td>0.412100</td>\n",
              "    </tr>\n",
              "    <tr>\n",
              "      <td>140</td>\n",
              "      <td>0.389400</td>\n",
              "    </tr>\n",
              "    <tr>\n",
              "      <td>150</td>\n",
              "      <td>0.296200</td>\n",
              "    </tr>\n",
              "    <tr>\n",
              "      <td>160</td>\n",
              "      <td>0.237000</td>\n",
              "    </tr>\n",
              "    <tr>\n",
              "      <td>170</td>\n",
              "      <td>0.237500</td>\n",
              "    </tr>\n",
              "    <tr>\n",
              "      <td>180</td>\n",
              "      <td>0.239200</td>\n",
              "    </tr>\n",
              "    <tr>\n",
              "      <td>190</td>\n",
              "      <td>0.243400</td>\n",
              "    </tr>\n",
              "    <tr>\n",
              "      <td>200</td>\n",
              "      <td>0.192600</td>\n",
              "    </tr>\n",
              "    <tr>\n",
              "      <td>210</td>\n",
              "      <td>0.097600</td>\n",
              "    </tr>\n",
              "    <tr>\n",
              "      <td>220</td>\n",
              "      <td>0.128600</td>\n",
              "    </tr>\n",
              "    <tr>\n",
              "      <td>230</td>\n",
              "      <td>0.110100</td>\n",
              "    </tr>\n",
              "    <tr>\n",
              "      <td>240</td>\n",
              "      <td>0.118800</td>\n",
              "    </tr>\n",
              "    <tr>\n",
              "      <td>250</td>\n",
              "      <td>0.078700</td>\n",
              "    </tr>\n",
              "    <tr>\n",
              "      <td>260</td>\n",
              "      <td>0.012200</td>\n",
              "    </tr>\n",
              "    <tr>\n",
              "      <td>270</td>\n",
              "      <td>0.049100</td>\n",
              "    </tr>\n",
              "    <tr>\n",
              "      <td>280</td>\n",
              "      <td>0.020400</td>\n",
              "    </tr>\n",
              "    <tr>\n",
              "      <td>290</td>\n",
              "      <td>0.088700</td>\n",
              "    </tr>\n",
              "    <tr>\n",
              "      <td>300</td>\n",
              "      <td>0.056000</td>\n",
              "    </tr>\n",
              "    <tr>\n",
              "      <td>310</td>\n",
              "      <td>0.065100</td>\n",
              "    </tr>\n",
              "    <tr>\n",
              "      <td>320</td>\n",
              "      <td>0.005300</td>\n",
              "    </tr>\n",
              "    <tr>\n",
              "      <td>330</td>\n",
              "      <td>0.016500</td>\n",
              "    </tr>\n",
              "    <tr>\n",
              "      <td>340</td>\n",
              "      <td>0.067000</td>\n",
              "    </tr>\n",
              "    <tr>\n",
              "      <td>350</td>\n",
              "      <td>0.053900</td>\n",
              "    </tr>\n",
              "    <tr>\n",
              "      <td>360</td>\n",
              "      <td>0.056200</td>\n",
              "    </tr>\n",
              "    <tr>\n",
              "      <td>370</td>\n",
              "      <td>0.003500</td>\n",
              "    </tr>\n",
              "    <tr>\n",
              "      <td>380</td>\n",
              "      <td>0.059900</td>\n",
              "    </tr>\n",
              "    <tr>\n",
              "      <td>390</td>\n",
              "      <td>0.049200</td>\n",
              "    </tr>\n",
              "    <tr>\n",
              "      <td>400</td>\n",
              "      <td>0.037000</td>\n",
              "    </tr>\n",
              "  </tbody>\n",
              "</table><p>"
            ]
          },
          "metadata": {}
        },
        {
          "output_type": "execute_result",
          "data": {
            "text/plain": [
              "TrainOutput(global_step=400, training_loss=0.2789012758526951, metrics={'train_runtime': 310.8774, 'train_samples_per_second': 20.587, 'train_steps_per_second': 1.287, 'total_flos': 847791351398400.0, 'train_loss': 0.2789012758526951, 'epoch': 8.0})"
            ]
          },
          "metadata": {},
          "execution_count": 33
        }
      ]
    },
    {
      "cell_type": "code",
      "source": [
        "input_tokens = tokenizer([\"I feel fantastic\",\n",
        "                           \"My life is going something wrong\",\n",
        "                           \"I habe note figured out what the chosen title has to do with the movie\"],\n",
        "                          truncation=True,\n",
        "                          padding=True)\n",
        "\n",
        "outputs = model(torch.tensor(input_tokens['input_ids']).to(device))\n",
        "\n",
        "label_dict = {0:'positive', 1:'negative'}\n",
        "\n",
        "print([label_dict[i] for i in torch.argmax(outputs['logits'], axis=1).cpu().numpy()])"
      ],
      "metadata": {
        "colab": {
          "base_uri": "https://localhost:8080/"
        },
        "id": "VmH5_mrskonB",
        "outputId": "38f61c34-a686-4cd4-952d-257f7b4f1252"
      },
      "execution_count": null,
      "outputs": [
        {
          "output_type": "stream",
          "name": "stdout",
          "text": [
            "['negative', 'positive', 'positive']\n"
          ]
        }
      ]
    },
    {
      "cell_type": "markdown",
      "source": [
        "# 파이토치 사전학습\n",
        "\n",
        "1. 사전학습 모델 및 토크나이저 불러오기\n",
        "\n",
        "2. DataLoader 인스턴스화\n",
        "\n",
        "3. 최적화 함수 정의\n",
        "\n",
        "4. 모델을 학습 모드로 전환\n",
        "\n",
        "5. 에포크 횟수만큼 루프 반복\n",
        "\n",
        "6. 최적화 함수의 gradient 초기화\n",
        "\n",
        "7. 모델을 사용한 추론\n",
        "\n",
        "8. 손실 계산\n",
        "\n",
        "9. 오차역전파(back propagation / backward)\n",
        "    optimizer.zero_grad()\n",
        "\n",
        "    loss.backward()\n",
        "10. 가중치 업데이트\n",
        "\n",
        "    optimizer.step()"
      ],
      "metadata": {
        "id": "7xTJz9GLl53x"
      }
    },
    {
      "cell_type": "code",
      "source": [
        "# 함수 생성\n",
        "def test_inference(model, tokenizer):\n",
        "  input_tokens = tokenizer([\"I fell fantastic\",\"My life is going something wrong\",\"I have not figured out what the chosen title has to do with the movie\"],truncation=True, padding=True)\n",
        "  outputs = model(torch.tensor(input_tokens['input_ids']).to(device))\n",
        "  label_dict = {0:'positive',1:'negative'}\n",
        "  return [label_dict[i] for i in torch.argmax(outputs['logits'], axis=1).cpu().numpy()]"
      ],
      "metadata": {
        "id": "kGiFMGiBl4Qv"
      },
      "execution_count": null,
      "outputs": []
    },
    {
      "cell_type": "code",
      "source": [
        "from torch.utils.data import DataLoader\n",
        "from transformers import DistilBertForSequenceClassification, AdamW\n",
        "from transformers import DistilBertTokenizerFast\n",
        "\n",
        "# 1 사전학습 모델 및 토크나이저 불러오기\n",
        "tokenizer = DistilBertTokenizerFast.from_pretrained('distilbert-base-uncased')\n",
        "model = DistilBertForSequenceClassification.from_pretrained('distilbert-base-uncased')\n",
        "model.to(device)\n",
        "\n",
        "# 파인튜닝 이전 모델을 사용하여 test_inference 함수 실행\n",
        "print(test_inference(model, tokenizer))\n",
        "\n",
        "# 2 DataLoader 인스턴스화\n",
        "train_loader = DataLoader(train_dataset, batch_size=16, shuffle=True)\n",
        "\n",
        "# 3 최적화 함수 정의\n",
        "optim = AdamW(model.parameters(), lr=5e-5)\n",
        "\n",
        "# 4 모델을 학습 모드로 전환 (dropout, batchnorm에 영향을 미침)\n",
        "model.train()\n",
        "\n",
        "losses = []\n",
        "\n",
        "# 5 epoch 반복\n",
        "for epoch in range(8):\n",
        "  print(f'epoch:{epoch}')\n",
        "  for batch in train_loader:\n",
        "    # 최적화 함수 기울기 초기화\n",
        "    optim.zero_grad()\n",
        "\n",
        "    input_ids = batch['input_ids'].to(device)\n",
        "    attention_mask = batch['attention_mask'].to(device)\n",
        "    labels = batch['labels'].to(device)\n",
        "\n",
        "    # 7 모델을 사용한 추론\n",
        "    outputs = model(input_ids, attention_mask = attention_mask,labels=labels)\n",
        "    print(outputs[i] for i in range(len(outputs)))\n",
        "    # 8 손실 계산\n",
        "    loss = outputs[0]\n",
        "    losses.append(loss)\n",
        "\n",
        "    # 9 오차역전파\n",
        "    loss.backward()\n",
        "\n",
        "    # 10 가중치 업데이트\n",
        "    optim.step()\n",
        "\n",
        "# 모델을 평가 모드로 변환\n",
        "model.eval()\n",
        "\n",
        "# 평가 모드로 test_inference 함수 실행\n",
        "print(test_inference(model, tokenizer))"
      ],
      "metadata": {
        "colab": {
          "base_uri": "https://localhost:8080/"
        },
        "id": "8t2MhaYEqhJb",
        "outputId": "ce3ae0cc-59e6-4c55-b647-feb39d69fe62"
      },
      "execution_count": null,
      "outputs": [
        {
          "output_type": "stream",
          "name": "stderr",
          "text": [
            "Some weights of DistilBertForSequenceClassification were not initialized from the model checkpoint at distilbert-base-uncased and are newly initialized: ['pre_classifier.bias', 'pre_classifier.weight', 'classifier.bias', 'classifier.weight']\n",
            "You should probably TRAIN this model on a down-stream task to be able to use it for predictions and inference.\n",
            "/usr/local/lib/python3.10/dist-packages/transformers/optimization.py:411: FutureWarning: This implementation of AdamW is deprecated and will be removed in a future version. Use the PyTorch implementation torch.optim.AdamW instead, or set `no_deprecation_warning=True` to disable this warning\n",
            "  warnings.warn(\n"
          ]
        },
        {
          "output_type": "stream",
          "name": "stdout",
          "text": [
            "['positive', 'positive', 'positive']\n",
            "epoch:0\n",
            "epoch:1\n",
            "epoch:2\n",
            "epoch:3\n",
            "epoch:4\n",
            "epoch:5\n",
            "epoch:6\n",
            "epoch:7\n",
            "['negative', 'positive', 'negative']\n"
          ]
        }
      ]
    },
    {
      "cell_type": "code",
      "source": [
        "print(losses)\n",
        "type(losses)"
      ],
      "metadata": {
        "colab": {
          "base_uri": "https://localhost:8080/"
        },
        "id": "yenZxYcOtoGy",
        "outputId": "a85d83ee-e4a9-4571-c68d-c713bf751626"
      },
      "execution_count": null,
      "outputs": [
        {
          "output_type": "stream",
          "name": "stdout",
          "text": [
            "[tensor(0.7202, device='cuda:0', grad_fn=<NllLossBackward0>), tensor(0.6973, device='cuda:0', grad_fn=<NllLossBackward0>), tensor(0.6687, device='cuda:0', grad_fn=<NllLossBackward0>), tensor(0.6957, device='cuda:0', grad_fn=<NllLossBackward0>), tensor(0.6562, device='cuda:0', grad_fn=<NllLossBackward0>), tensor(0.6813, device='cuda:0', grad_fn=<NllLossBackward0>), tensor(0.6977, device='cuda:0', grad_fn=<NllLossBackward0>), tensor(0.6245, device='cuda:0', grad_fn=<NllLossBackward0>), tensor(0.6584, device='cuda:0', grad_fn=<NllLossBackward0>), tensor(0.5944, device='cuda:0', grad_fn=<NllLossBackward0>), tensor(0.7180, device='cuda:0', grad_fn=<NllLossBackward0>), tensor(0.6418, device='cuda:0', grad_fn=<NllLossBackward0>), tensor(0.8042, device='cuda:0', grad_fn=<NllLossBackward0>), tensor(0.6334, device='cuda:0', grad_fn=<NllLossBackward0>), tensor(0.6840, device='cuda:0', grad_fn=<NllLossBackward0>), tensor(0.6716, device='cuda:0', grad_fn=<NllLossBackward0>), tensor(0.6550, device='cuda:0', grad_fn=<NllLossBackward0>), tensor(0.6573, device='cuda:0', grad_fn=<NllLossBackward0>), tensor(0.6119, device='cuda:0', grad_fn=<NllLossBackward0>), tensor(0.6073, device='cuda:0', grad_fn=<NllLossBackward0>), tensor(0.7772, device='cuda:0', grad_fn=<NllLossBackward0>), tensor(0.6669, device='cuda:0', grad_fn=<NllLossBackward0>), tensor(0.6526, device='cuda:0', grad_fn=<NllLossBackward0>), tensor(0.5942, device='cuda:0', grad_fn=<NllLossBackward0>), tensor(0.6434, device='cuda:0', grad_fn=<NllLossBackward0>), tensor(0.6543, device='cuda:0', grad_fn=<NllLossBackward0>), tensor(0.5866, device='cuda:0', grad_fn=<NllLossBackward0>), tensor(0.4858, device='cuda:0', grad_fn=<NllLossBackward0>), tensor(0.5738, device='cuda:0', grad_fn=<NllLossBackward0>), tensor(0.4836, device='cuda:0', grad_fn=<NllLossBackward0>), tensor(0.4716, device='cuda:0', grad_fn=<NllLossBackward0>), tensor(0.4322, device='cuda:0', grad_fn=<NllLossBackward0>), tensor(0.5155, device='cuda:0', grad_fn=<NllLossBackward0>), tensor(0.3914, device='cuda:0', grad_fn=<NllLossBackward0>), tensor(0.3618, device='cuda:0', grad_fn=<NllLossBackward0>), tensor(0.3017, device='cuda:0', grad_fn=<NllLossBackward0>), tensor(0.3662, device='cuda:0', grad_fn=<NllLossBackward0>), tensor(0.3786, device='cuda:0', grad_fn=<NllLossBackward0>), tensor(0.4898, device='cuda:0', grad_fn=<NllLossBackward0>), tensor(0.3577, device='cuda:0', grad_fn=<NllLossBackward0>), tensor(0.2456, device='cuda:0', grad_fn=<NllLossBackward0>), tensor(0.4853, device='cuda:0', grad_fn=<NllLossBackward0>), tensor(0.5415, device='cuda:0', grad_fn=<NllLossBackward0>), tensor(0.4343, device='cuda:0', grad_fn=<NllLossBackward0>), tensor(0.3611, device='cuda:0', grad_fn=<NllLossBackward0>), tensor(0.3969, device='cuda:0', grad_fn=<NllLossBackward0>), tensor(0.7548, device='cuda:0', grad_fn=<NllLossBackward0>), tensor(0.8358, device='cuda:0', grad_fn=<NllLossBackward0>), tensor(0.3673, device='cuda:0', grad_fn=<NllLossBackward0>), tensor(0.2331, device='cuda:0', grad_fn=<NllLossBackward0>), tensor(0.3221, device='cuda:0', grad_fn=<NllLossBackward0>), tensor(0.1593, device='cuda:0', grad_fn=<NllLossBackward0>), tensor(0.6262, device='cuda:0', grad_fn=<NllLossBackward0>), tensor(0.3992, device='cuda:0', grad_fn=<NllLossBackward0>), tensor(0.4428, device='cuda:0', grad_fn=<NllLossBackward0>), tensor(0.2982, device='cuda:0', grad_fn=<NllLossBackward0>), tensor(0.2868, device='cuda:0', grad_fn=<NllLossBackward0>), tensor(0.3306, device='cuda:0', grad_fn=<NllLossBackward0>), tensor(0.2612, device='cuda:0', grad_fn=<NllLossBackward0>), tensor(0.2265, device='cuda:0', grad_fn=<NllLossBackward0>), tensor(0.3477, device='cuda:0', grad_fn=<NllLossBackward0>), tensor(0.3426, device='cuda:0', grad_fn=<NllLossBackward0>), tensor(0.3105, device='cuda:0', grad_fn=<NllLossBackward0>), tensor(0.1340, device='cuda:0', grad_fn=<NllLossBackward0>), tensor(0.4015, device='cuda:0', grad_fn=<NllLossBackward0>), tensor(0.4695, device='cuda:0', grad_fn=<NllLossBackward0>), tensor(0.4091, device='cuda:0', grad_fn=<NllLossBackward0>), tensor(0.3581, device='cuda:0', grad_fn=<NllLossBackward0>), tensor(0.1941, device='cuda:0', grad_fn=<NllLossBackward0>), tensor(0.2517, device='cuda:0', grad_fn=<NllLossBackward0>), tensor(0.0933, device='cuda:0', grad_fn=<NllLossBackward0>), tensor(0.3264, device='cuda:0', grad_fn=<NllLossBackward0>), tensor(0.6341, device='cuda:0', grad_fn=<NllLossBackward0>), tensor(0.1411, device='cuda:0', grad_fn=<NllLossBackward0>), tensor(0.1403, device='cuda:0', grad_fn=<NllLossBackward0>), tensor(0.1462, device='cuda:0', grad_fn=<NllLossBackward0>), tensor(0.2410, device='cuda:0', grad_fn=<NllLossBackward0>), tensor(0.2522, device='cuda:0', grad_fn=<NllLossBackward0>), tensor(0.4270, device='cuda:0', grad_fn=<NllLossBackward0>), tensor(0.5626, device='cuda:0', grad_fn=<NllLossBackward0>), tensor(0.3509, device='cuda:0', grad_fn=<NllLossBackward0>), tensor(0.2065, device='cuda:0', grad_fn=<NllLossBackward0>), tensor(0.2383, device='cuda:0', grad_fn=<NllLossBackward0>), tensor(0.1844, device='cuda:0', grad_fn=<NllLossBackward0>), tensor(0.1973, device='cuda:0', grad_fn=<NllLossBackward0>), tensor(0.1062, device='cuda:0', grad_fn=<NllLossBackward0>), tensor(0.1884, device='cuda:0', grad_fn=<NllLossBackward0>), tensor(0.5941, device='cuda:0', grad_fn=<NllLossBackward0>), tensor(0.7302, device='cuda:0', grad_fn=<NllLossBackward0>), tensor(0.1518, device='cuda:0', grad_fn=<NllLossBackward0>), tensor(0.1170, device='cuda:0', grad_fn=<NllLossBackward0>), tensor(0.4925, device='cuda:0', grad_fn=<NllLossBackward0>), tensor(0.0523, device='cuda:0', grad_fn=<NllLossBackward0>), tensor(0.4284, device='cuda:0', grad_fn=<NllLossBackward0>), tensor(0.3226, device='cuda:0', grad_fn=<NllLossBackward0>), tensor(0.0696, device='cuda:0', grad_fn=<NllLossBackward0>), tensor(0.4095, device='cuda:0', grad_fn=<NllLossBackward0>), tensor(0.1508, device='cuda:0', grad_fn=<NllLossBackward0>), tensor(0.1014, device='cuda:0', grad_fn=<NllLossBackward0>), tensor(0.3142, device='cuda:0', grad_fn=<NllLossBackward0>), tensor(0.1402, device='cuda:0', grad_fn=<NllLossBackward0>), tensor(0.0524, device='cuda:0', grad_fn=<NllLossBackward0>), tensor(0.0596, device='cuda:0', grad_fn=<NllLossBackward0>), tensor(0.1287, device='cuda:0', grad_fn=<NllLossBackward0>), tensor(0.1296, device='cuda:0', grad_fn=<NllLossBackward0>), tensor(0.2146, device='cuda:0', grad_fn=<NllLossBackward0>), tensor(0.1207, device='cuda:0', grad_fn=<NllLossBackward0>), tensor(0.0872, device='cuda:0', grad_fn=<NllLossBackward0>), tensor(0.0540, device='cuda:0', grad_fn=<NllLossBackward0>), tensor(0.1235, device='cuda:0', grad_fn=<NllLossBackward0>), tensor(0.0297, device='cuda:0', grad_fn=<NllLossBackward0>), tensor(0.2111, device='cuda:0', grad_fn=<NllLossBackward0>), tensor(0.1222, device='cuda:0', grad_fn=<NllLossBackward0>), tensor(0.0402, device='cuda:0', grad_fn=<NllLossBackward0>), tensor(0.0295, device='cuda:0', grad_fn=<NllLossBackward0>), tensor(0.0194, device='cuda:0', grad_fn=<NllLossBackward0>), tensor(0.0213, device='cuda:0', grad_fn=<NllLossBackward0>), tensor(0.0291, device='cuda:0', grad_fn=<NllLossBackward0>), tensor(0.0407, device='cuda:0', grad_fn=<NllLossBackward0>), tensor(0.2761, device='cuda:0', grad_fn=<NllLossBackward0>), tensor(0.0217, device='cuda:0', grad_fn=<NllLossBackward0>), tensor(0.0376, device='cuda:0', grad_fn=<NllLossBackward0>), tensor(0.0631, device='cuda:0', grad_fn=<NllLossBackward0>), tensor(0.0387, device='cuda:0', grad_fn=<NllLossBackward0>), tensor(0.2116, device='cuda:0', grad_fn=<NllLossBackward0>), tensor(0.0202, device='cuda:0', grad_fn=<NllLossBackward0>), tensor(0.2364, device='cuda:0', grad_fn=<NllLossBackward0>), tensor(0.0179, device='cuda:0', grad_fn=<NllLossBackward0>), tensor(0.0285, device='cuda:0', grad_fn=<NllLossBackward0>), tensor(0.0162, device='cuda:0', grad_fn=<NllLossBackward0>), tensor(0.0265, device='cuda:0', grad_fn=<NllLossBackward0>), tensor(0.0249, device='cuda:0', grad_fn=<NllLossBackward0>), tensor(0.0204, device='cuda:0', grad_fn=<NllLossBackward0>), tensor(0.2766, device='cuda:0', grad_fn=<NllLossBackward0>), tensor(0.1774, device='cuda:0', grad_fn=<NllLossBackward0>), tensor(0.3062, device='cuda:0', grad_fn=<NllLossBackward0>), tensor(0.0650, device='cuda:0', grad_fn=<NllLossBackward0>), tensor(0.0149, device='cuda:0', grad_fn=<NllLossBackward0>), tensor(0.0542, device='cuda:0', grad_fn=<NllLossBackward0>), tensor(0.0143, device='cuda:0', grad_fn=<NllLossBackward0>), tensor(0.1995, device='cuda:0', grad_fn=<NllLossBackward0>), tensor(0.1229, device='cuda:0', grad_fn=<NllLossBackward0>), tensor(0.1150, device='cuda:0', grad_fn=<NllLossBackward0>), tensor(0.0152, device='cuda:0', grad_fn=<NllLossBackward0>), tensor(0.0165, device='cuda:0', grad_fn=<NllLossBackward0>), tensor(0.1332, device='cuda:0', grad_fn=<NllLossBackward0>), tensor(0.0244, device='cuda:0', grad_fn=<NllLossBackward0>), tensor(0.0194, device='cuda:0', grad_fn=<NllLossBackward0>), tensor(0.1506, device='cuda:0', grad_fn=<NllLossBackward0>), tensor(0.1743, device='cuda:0', grad_fn=<NllLossBackward0>), tensor(0.0804, device='cuda:0', grad_fn=<NllLossBackward0>), tensor(0.0491, device='cuda:0', grad_fn=<NllLossBackward0>), tensor(0.1117, device='cuda:0', grad_fn=<NllLossBackward0>), tensor(0.0220, device='cuda:0', grad_fn=<NllLossBackward0>), tensor(0.2153, device='cuda:0', grad_fn=<NllLossBackward0>), tensor(0.0568, device='cuda:0', grad_fn=<NllLossBackward0>), tensor(0.0147, device='cuda:0', grad_fn=<NllLossBackward0>), tensor(0.0148, device='cuda:0', grad_fn=<NllLossBackward0>), tensor(0.0503, device='cuda:0', grad_fn=<NllLossBackward0>), tensor(0.0603, device='cuda:0', grad_fn=<NllLossBackward0>), tensor(0.0991, device='cuda:0', grad_fn=<NllLossBackward0>), tensor(0.0594, device='cuda:0', grad_fn=<NllLossBackward0>), tensor(0.0211, device='cuda:0', grad_fn=<NllLossBackward0>), tensor(0.0234, device='cuda:0', grad_fn=<NllLossBackward0>), tensor(0.0098, device='cuda:0', grad_fn=<NllLossBackward0>), tensor(0.0087, device='cuda:0', grad_fn=<NllLossBackward0>), tensor(0.0105, device='cuda:0', grad_fn=<NllLossBackward0>), tensor(0.0105, device='cuda:0', grad_fn=<NllLossBackward0>), tensor(0.1605, device='cuda:0', grad_fn=<NllLossBackward0>), tensor(0.0155, device='cuda:0', grad_fn=<NllLossBackward0>), tensor(0.2060, device='cuda:0', grad_fn=<NllLossBackward0>), tensor(0.0068, device='cuda:0', grad_fn=<NllLossBackward0>), tensor(0.0107, device='cuda:0', grad_fn=<NllLossBackward0>), tensor(0.1015, device='cuda:0', grad_fn=<NllLossBackward0>), tensor(0.0078, device='cuda:0', grad_fn=<NllLossBackward0>), tensor(0.1940, device='cuda:0', grad_fn=<NllLossBackward0>), tensor(0.0391, device='cuda:0', grad_fn=<NllLossBackward0>), tensor(0.0340, device='cuda:0', grad_fn=<NllLossBackward0>), tensor(0.0094, device='cuda:0', grad_fn=<NllLossBackward0>), tensor(0.0168, device='cuda:0', grad_fn=<NllLossBackward0>), tensor(0.0108, device='cuda:0', grad_fn=<NllLossBackward0>), tensor(0.0471, device='cuda:0', grad_fn=<NllLossBackward0>), tensor(0.0077, device='cuda:0', grad_fn=<NllLossBackward0>), tensor(0.0136, device='cuda:0', grad_fn=<NllLossBackward0>), tensor(0.0287, device='cuda:0', grad_fn=<NllLossBackward0>), tensor(0.0094, device='cuda:0', grad_fn=<NllLossBackward0>), tensor(0.0108, device='cuda:0', grad_fn=<NllLossBackward0>), tensor(0.0112, device='cuda:0', grad_fn=<NllLossBackward0>), tensor(0.4217, device='cuda:0', grad_fn=<NllLossBackward0>), tensor(0.0142, device='cuda:0', grad_fn=<NllLossBackward0>), tensor(0.0312, device='cuda:0', grad_fn=<NllLossBackward0>), tensor(0.0097, device='cuda:0', grad_fn=<NllLossBackward0>), tensor(0.0061, device='cuda:0', grad_fn=<NllLossBackward0>), tensor(0.0055, device='cuda:0', grad_fn=<NllLossBackward0>), tensor(0.0105, device='cuda:0', grad_fn=<NllLossBackward0>), tensor(0.0173, device='cuda:0', grad_fn=<NllLossBackward0>), tensor(0.0602, device='cuda:0', grad_fn=<NllLossBackward0>), tensor(0.0482, device='cuda:0', grad_fn=<NllLossBackward0>), tensor(0.0623, device='cuda:0', grad_fn=<NllLossBackward0>), tensor(0.0070, device='cuda:0', grad_fn=<NllLossBackward0>), tensor(0.0064, device='cuda:0', grad_fn=<NllLossBackward0>), tensor(0.0074, device='cuda:0', grad_fn=<NllLossBackward0>), tensor(0.0052, device='cuda:0', grad_fn=<NllLossBackward0>), tensor(0.0249, device='cuda:0', grad_fn=<NllLossBackward0>), tensor(0.0056, device='cuda:0', grad_fn=<NllLossBackward0>), tensor(0.0038, device='cuda:0', grad_fn=<NllLossBackward0>), tensor(0.2269, device='cuda:0', grad_fn=<NllLossBackward0>), tensor(0.0155, device='cuda:0', grad_fn=<NllLossBackward0>), tensor(0.0272, device='cuda:0', grad_fn=<NllLossBackward0>), tensor(0.1501, device='cuda:0', grad_fn=<NllLossBackward0>), tensor(0.0046, device='cuda:0', grad_fn=<NllLossBackward0>), tensor(0.0879, device='cuda:0', grad_fn=<NllLossBackward0>), tensor(0.1476, device='cuda:0', grad_fn=<NllLossBackward0>), tensor(0.2227, device='cuda:0', grad_fn=<NllLossBackward0>), tensor(0.1825, device='cuda:0', grad_fn=<NllLossBackward0>), tensor(0.0043, device='cuda:0', grad_fn=<NllLossBackward0>), tensor(0.0511, device='cuda:0', grad_fn=<NllLossBackward0>), tensor(0.0059, device='cuda:0', grad_fn=<NllLossBackward0>), tensor(0.0102, device='cuda:0', grad_fn=<NllLossBackward0>), tensor(0.0513, device='cuda:0', grad_fn=<NllLossBackward0>), tensor(0.1143, device='cuda:0', grad_fn=<NllLossBackward0>), tensor(0.1628, device='cuda:0', grad_fn=<NllLossBackward0>), tensor(0.0077, device='cuda:0', grad_fn=<NllLossBackward0>), tensor(0.0061, device='cuda:0', grad_fn=<NllLossBackward0>), tensor(0.0092, device='cuda:0', grad_fn=<NllLossBackward0>), tensor(0.2155, device='cuda:0', grad_fn=<NllLossBackward0>), tensor(0.0059, device='cuda:0', grad_fn=<NllLossBackward0>), tensor(0.0108, device='cuda:0', grad_fn=<NllLossBackward0>), tensor(0.0920, device='cuda:0', grad_fn=<NllLossBackward0>), tensor(0.0111, device='cuda:0', grad_fn=<NllLossBackward0>), tensor(0.0141, device='cuda:0', grad_fn=<NllLossBackward0>), tensor(0.0235, device='cuda:0', grad_fn=<NllLossBackward0>), tensor(0.0816, device='cuda:0', grad_fn=<NllLossBackward0>), tensor(0.2719, device='cuda:0', grad_fn=<NllLossBackward0>), tensor(0.1281, device='cuda:0', grad_fn=<NllLossBackward0>), tensor(0.0298, device='cuda:0', grad_fn=<NllLossBackward0>), tensor(0.2711, device='cuda:0', grad_fn=<NllLossBackward0>), tensor(0.1045, device='cuda:0', grad_fn=<NllLossBackward0>), tensor(0.1277, device='cuda:0', grad_fn=<NllLossBackward0>), tensor(0.0203, device='cuda:0', grad_fn=<NllLossBackward0>), tensor(0.1162, device='cuda:0', grad_fn=<NllLossBackward0>), tensor(0.0464, device='cuda:0', grad_fn=<NllLossBackward0>), tensor(0.0223, device='cuda:0', grad_fn=<NllLossBackward0>), tensor(0.0133, device='cuda:0', grad_fn=<NllLossBackward0>), tensor(0.2523, device='cuda:0', grad_fn=<NllLossBackward0>), tensor(0.0684, device='cuda:0', grad_fn=<NllLossBackward0>), tensor(0.0290, device='cuda:0', grad_fn=<NllLossBackward0>), tensor(0.0534, device='cuda:0', grad_fn=<NllLossBackward0>), tensor(0.0513, device='cuda:0', grad_fn=<NllLossBackward0>), tensor(0.0203, device='cuda:0', grad_fn=<NllLossBackward0>), tensor(0.0757, device='cuda:0', grad_fn=<NllLossBackward0>), tensor(0.0092, device='cuda:0', grad_fn=<NllLossBackward0>), tensor(0.0177, device='cuda:0', grad_fn=<NllLossBackward0>), tensor(0.0202, device='cuda:0', grad_fn=<NllLossBackward0>), tensor(0.0043, device='cuda:0', grad_fn=<NllLossBackward0>), tensor(0.0067, device='cuda:0', grad_fn=<NllLossBackward0>), tensor(0.0225, device='cuda:0', grad_fn=<NllLossBackward0>), tensor(0.0035, device='cuda:0', grad_fn=<NllLossBackward0>), tensor(0.0087, device='cuda:0', grad_fn=<NllLossBackward0>), tensor(0.0115, device='cuda:0', grad_fn=<NllLossBackward0>), tensor(0.0036, device='cuda:0', grad_fn=<NllLossBackward0>), tensor(0.0044, device='cuda:0', grad_fn=<NllLossBackward0>), tensor(0.0070, device='cuda:0', grad_fn=<NllLossBackward0>), tensor(0.0039, device='cuda:0', grad_fn=<NllLossBackward0>), tensor(0.0044, device='cuda:0', grad_fn=<NllLossBackward0>), tensor(0.0035, device='cuda:0', grad_fn=<NllLossBackward0>), tensor(0.0043, device='cuda:0', grad_fn=<NllLossBackward0>), tensor(0.0038, device='cuda:0', grad_fn=<NllLossBackward0>), tensor(0.0041, device='cuda:0', grad_fn=<NllLossBackward0>), tensor(0.2924, device='cuda:0', grad_fn=<NllLossBackward0>), tensor(0.3483, device='cuda:0', grad_fn=<NllLossBackward0>), tensor(0.0027, device='cuda:0', grad_fn=<NllLossBackward0>), tensor(0.0051, device='cuda:0', grad_fn=<NllLossBackward0>), tensor(0.0095, device='cuda:0', grad_fn=<NllLossBackward0>), tensor(0.0029, device='cuda:0', grad_fn=<NllLossBackward0>), tensor(0.0394, device='cuda:0', grad_fn=<NllLossBackward0>), tensor(0.0041, device='cuda:0', grad_fn=<NllLossBackward0>), tensor(0.1714, device='cuda:0', grad_fn=<NllLossBackward0>), tensor(0.0046, device='cuda:0', grad_fn=<NllLossBackward0>), tensor(0.0197, device='cuda:0', grad_fn=<NllLossBackward0>), tensor(0.0039, device='cuda:0', grad_fn=<NllLossBackward0>), tensor(0.0716, device='cuda:0', grad_fn=<NllLossBackward0>), tensor(0.0029, device='cuda:0', grad_fn=<NllLossBackward0>), tensor(0.0568, device='cuda:0', grad_fn=<NllLossBackward0>), tensor(0.0042, device='cuda:0', grad_fn=<NllLossBackward0>), tensor(0.0209, device='cuda:0', grad_fn=<NllLossBackward0>), tensor(0.0046, device='cuda:0', grad_fn=<NllLossBackward0>), tensor(0.0041, device='cuda:0', grad_fn=<NllLossBackward0>), tensor(0.0103, device='cuda:0', grad_fn=<NllLossBackward0>), tensor(0.0031, device='cuda:0', grad_fn=<NllLossBackward0>), tensor(0.0057, device='cuda:0', grad_fn=<NllLossBackward0>), tensor(0.0046, device='cuda:0', grad_fn=<NllLossBackward0>), tensor(0.0053, device='cuda:0', grad_fn=<NllLossBackward0>), tensor(0.0027, device='cuda:0', grad_fn=<NllLossBackward0>), tensor(0.0043, device='cuda:0', grad_fn=<NllLossBackward0>), tensor(0.0330, device='cuda:0', grad_fn=<NllLossBackward0>), tensor(0.0161, device='cuda:0', grad_fn=<NllLossBackward0>), tensor(0.0052, device='cuda:0', grad_fn=<NllLossBackward0>), tensor(0.1901, device='cuda:0', grad_fn=<NllLossBackward0>), tensor(0.0038, device='cuda:0', grad_fn=<NllLossBackward0>), tensor(0.0048, device='cuda:0', grad_fn=<NllLossBackward0>), tensor(0.0038, device='cuda:0', grad_fn=<NllLossBackward0>), tensor(0.0066, device='cuda:0', grad_fn=<NllLossBackward0>), tensor(0.0045, device='cuda:0', grad_fn=<NllLossBackward0>), tensor(0.0032, device='cuda:0', grad_fn=<NllLossBackward0>), tensor(0.0044, device='cuda:0', grad_fn=<NllLossBackward0>), tensor(0.2630, device='cuda:0', grad_fn=<NllLossBackward0>), tensor(0.0744, device='cuda:0', grad_fn=<NllLossBackward0>), tensor(0.0061, device='cuda:0', grad_fn=<NllLossBackward0>), tensor(0.0040, device='cuda:0', grad_fn=<NllLossBackward0>), tensor(0.0938, device='cuda:0', grad_fn=<NllLossBackward0>), tensor(0.0103, device='cuda:0', grad_fn=<NllLossBackward0>), tensor(0.0308, device='cuda:0', grad_fn=<NllLossBackward0>), tensor(0.0311, device='cuda:0', grad_fn=<NllLossBackward0>), tensor(0.0041, device='cuda:0', grad_fn=<NllLossBackward0>), tensor(0.0039, device='cuda:0', grad_fn=<NllLossBackward0>), tensor(0.0573, device='cuda:0', grad_fn=<NllLossBackward0>), tensor(0.0727, device='cuda:0', grad_fn=<NllLossBackward0>), tensor(0.0025, device='cuda:0', grad_fn=<NllLossBackward0>), tensor(0.0242, device='cuda:0', grad_fn=<NllLossBackward0>), tensor(0.0264, device='cuda:0', grad_fn=<NllLossBackward0>), tensor(0.0028, device='cuda:0', grad_fn=<NllLossBackward0>), tensor(0.0036, device='cuda:0', grad_fn=<NllLossBackward0>), tensor(0.0028, device='cuda:0', grad_fn=<NllLossBackward0>), tensor(0.0052, device='cuda:0', grad_fn=<NllLossBackward0>), tensor(0.0072, device='cuda:0', grad_fn=<NllLossBackward0>), tensor(0.2811, device='cuda:0', grad_fn=<NllLossBackward0>), tensor(0.0200, device='cuda:0', grad_fn=<NllLossBackward0>), tensor(0.0034, device='cuda:0', grad_fn=<NllLossBackward0>), tensor(0.0028, device='cuda:0', grad_fn=<NllLossBackward0>), tensor(0.0050, device='cuda:0', grad_fn=<NllLossBackward0>), tensor(0.0078, device='cuda:0', grad_fn=<NllLossBackward0>), tensor(0.1133, device='cuda:0', grad_fn=<NllLossBackward0>), tensor(0.0120, device='cuda:0', grad_fn=<NllLossBackward0>), tensor(0.0036, device='cuda:0', grad_fn=<NllLossBackward0>), tensor(0.0055, device='cuda:0', grad_fn=<NllLossBackward0>), tensor(0.4002, device='cuda:0', grad_fn=<NllLossBackward0>), tensor(0.0050, device='cuda:0', grad_fn=<NllLossBackward0>), tensor(0.0050, device='cuda:0', grad_fn=<NllLossBackward0>), tensor(0.0043, device='cuda:0', grad_fn=<NllLossBackward0>), tensor(0.0168, device='cuda:0', grad_fn=<NllLossBackward0>), tensor(0.0140, device='cuda:0', grad_fn=<NllLossBackward0>), tensor(0.0093, device='cuda:0', grad_fn=<NllLossBackward0>), tensor(0.1756, device='cuda:0', grad_fn=<NllLossBackward0>), tensor(0.0762, device='cuda:0', grad_fn=<NllLossBackward0>), tensor(0.0126, device='cuda:0', grad_fn=<NllLossBackward0>), tensor(0.0049, device='cuda:0', grad_fn=<NllLossBackward0>), tensor(0.0071, device='cuda:0', grad_fn=<NllLossBackward0>), tensor(0.0306, device='cuda:0', grad_fn=<NllLossBackward0>), tensor(0.1663, device='cuda:0', grad_fn=<NllLossBackward0>), tensor(0.2158, device='cuda:0', grad_fn=<NllLossBackward0>), tensor(0.0334, device='cuda:0', grad_fn=<NllLossBackward0>), tensor(0.0064, device='cuda:0', grad_fn=<NllLossBackward0>), tensor(0.0207, device='cuda:0', grad_fn=<NllLossBackward0>), tensor(0.0083, device='cuda:0', grad_fn=<NllLossBackward0>), tensor(0.0039, device='cuda:0', grad_fn=<NllLossBackward0>), tensor(0.0108, device='cuda:0', grad_fn=<NllLossBackward0>), tensor(0.0102, device='cuda:0', grad_fn=<NllLossBackward0>), tensor(0.2145, device='cuda:0', grad_fn=<NllLossBackward0>), tensor(0.0061, device='cuda:0', grad_fn=<NllLossBackward0>), tensor(0.0143, device='cuda:0', grad_fn=<NllLossBackward0>), tensor(0.0061, device='cuda:0', grad_fn=<NllLossBackward0>), tensor(0.0049, device='cuda:0', grad_fn=<NllLossBackward0>), tensor(0.0929, device='cuda:0', grad_fn=<NllLossBackward0>), tensor(0.0361, device='cuda:0', grad_fn=<NllLossBackward0>), tensor(0.0168, device='cuda:0', grad_fn=<NllLossBackward0>), tensor(0.0189, device='cuda:0', grad_fn=<NllLossBackward0>), tensor(0.0076, device='cuda:0', grad_fn=<NllLossBackward0>), tensor(0.0057, device='cuda:0', grad_fn=<NllLossBackward0>), tensor(0.0036, device='cuda:0', grad_fn=<NllLossBackward0>), tensor(0.0385, device='cuda:0', grad_fn=<NllLossBackward0>), tensor(0.0038, device='cuda:0', grad_fn=<NllLossBackward0>), tensor(0.0029, device='cuda:0', grad_fn=<NllLossBackward0>), tensor(0.0041, device='cuda:0', grad_fn=<NllLossBackward0>), tensor(0.0034, device='cuda:0', grad_fn=<NllLossBackward0>), tensor(0.0027, device='cuda:0', grad_fn=<NllLossBackward0>), tensor(0.0036, device='cuda:0', grad_fn=<NllLossBackward0>), tensor(0.0048, device='cuda:0', grad_fn=<NllLossBackward0>), tensor(0.0028, device='cuda:0', grad_fn=<NllLossBackward0>), tensor(0.0027, device='cuda:0', grad_fn=<NllLossBackward0>), tensor(0.0029, device='cuda:0', grad_fn=<NllLossBackward0>), tensor(0.0028, device='cuda:0', grad_fn=<NllLossBackward0>), tensor(0.0030, device='cuda:0', grad_fn=<NllLossBackward0>), tensor(0.0033, device='cuda:0', grad_fn=<NllLossBackward0>), tensor(0.0022, device='cuda:0', grad_fn=<NllLossBackward0>), tensor(0.2001, device='cuda:0', grad_fn=<NllLossBackward0>), tensor(0.0027, device='cuda:0', grad_fn=<NllLossBackward0>), tensor(0.0025, device='cuda:0', grad_fn=<NllLossBackward0>), tensor(0.0029, device='cuda:0', grad_fn=<NllLossBackward0>), tensor(0.0085, device='cuda:0', grad_fn=<NllLossBackward0>), tensor(0.0041, device='cuda:0', grad_fn=<NllLossBackward0>), tensor(0.0026, device='cuda:0', grad_fn=<NllLossBackward0>), tensor(0.0049, device='cuda:0', grad_fn=<NllLossBackward0>), tensor(0.0025, device='cuda:0', grad_fn=<NllLossBackward0>), tensor(0.0052, device='cuda:0', grad_fn=<NllLossBackward0>), tensor(0.0048, device='cuda:0', grad_fn=<NllLossBackward0>), tensor(0.0124, device='cuda:0', grad_fn=<NllLossBackward0>), tensor(0.0076, device='cuda:0', grad_fn=<NllLossBackward0>), tensor(0.0032, device='cuda:0', grad_fn=<NllLossBackward0>), tensor(0.0192, device='cuda:0', grad_fn=<NllLossBackward0>)]\n"
          ]
        },
        {
          "output_type": "execute_result",
          "data": {
            "text/plain": [
              "list"
            ]
          },
          "metadata": {},
          "execution_count": 45
        }
      ]
    },
    {
      "cell_type": "code",
      "source": [
        "# 파이토치에서 item()은 텐서의 값을 파이썬 숫자로 추출하여 CPU로 전달\n",
        "new_losses = [i.item() for i in losses]\n",
        "\n",
        "new_losses[:5]"
      ],
      "metadata": {
        "colab": {
          "base_uri": "https://localhost:8080/"
        },
        "id": "Gf1LChWNxYQ2",
        "outputId": "c7817dc4-198a-44da-f19d-7df8d0b118a0"
      },
      "execution_count": null,
      "outputs": [
        {
          "output_type": "execute_result",
          "data": {
            "text/plain": [
              "[0.7201753854751587,\n",
              " 0.6973171234130859,\n",
              " 0.6687006950378418,\n",
              " 0.6957104802131653,\n",
              " 0.6562257409095764]"
            ]
          },
          "metadata": {},
          "execution_count": 46
        }
      ]
    },
    {
      "cell_type": "code",
      "source": [
        "import matplotlib.pyplot as plt\n",
        "plt.plot(new_losses)\n",
        "plt.show()"
      ],
      "metadata": {
        "colab": {
          "base_uri": "https://localhost:8080/",
          "height": 430
        },
        "id": "sRmzFuSZxl6Y",
        "outputId": "e95fd801-7e58-43fc-a09f-ab18d95ea298"
      },
      "execution_count": null,
      "outputs": [
        {
          "output_type": "display_data",
          "data": {
            "text/plain": [
              "<Figure size 640x480 with 1 Axes>"
            ],
            "image/png": "[encoded data removed]"
          },
          "metadata": {}
        }
      ]
    }
  ]
}