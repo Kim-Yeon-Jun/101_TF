{
  "nbformat": 4,
  "nbformat_minor": 0,
  "metadata": {
    "colab": {
      "provenance": [],
      "gpuType": "T4",
      "authorship_tag": "ABX9TyPtVP9wfEkfWCSe7FYYRn/O",
      "include_colab_link": true
    },
    "kernelspec": {
      "name": "python3",
      "display_name": "Python 3"
    },
    "language_info": {
      "name": "python"
    },
    "accelerator": "GPU",
    "widgets": {
      "application/vnd.jupyter.widget-state+json": {
        "a60c43c372c34111a9dbfa4c17513b20": {
          "model_module": "@jupyter-widgets/controls",
          "model_name": "HBoxModel",
          "model_module_version": "1.5.0",
          "state": {
            "_dom_classes": [],
            "_model_module": "@jupyter-widgets/controls",
            "_model_module_version": "1.5.0",
            "_model_name": "HBoxModel",
            "_view_count": null,
            "_view_module": "@jupyter-widgets/controls",
            "_view_module_version": "1.5.0",
            "_view_name": "HBoxView",
            "box_style": "",
            "children": [
              "IPY_MODEL_5bcb400aa73a4d80b3cb25d689d519fb",
              "IPY_MODEL_dab8c8446f5a4b8eb8c6356b58e59982",
              "IPY_MODEL_92cd5f77a89b4a4d8a629f74a672920c"
            ],
            "layout": "IPY_MODEL_5030693ee9e4489bab4f663d10841016"
          }
        },
        "5bcb400aa73a4d80b3cb25d689d519fb": {
          "model_module": "@jupyter-widgets/controls",
          "model_name": "HTMLModel",
          "model_module_version": "1.5.0",
          "state": {
            "_dom_classes": [],
            "_model_module": "@jupyter-widgets/controls",
            "_model_module_version": "1.5.0",
            "_model_name": "HTMLModel",
            "_view_count": null,
            "_view_module": "@jupyter-widgets/controls",
            "_view_module_version": "1.5.0",
            "_view_name": "HTMLView",
            "description": "",
            "description_tooltip": null,
            "layout": "IPY_MODEL_a6b83e2d2cb34a92b91db5237439ad6f",
            "placeholder": "​",
            "style": "IPY_MODEL_21d1bb169e9e4188b384531c99cd5a8f",
            "value": "tokenizer_config.json: 100%"
          }
        },
        "dab8c8446f5a4b8eb8c6356b58e59982": {
          "model_module": "@jupyter-widgets/controls",
          "model_name": "FloatProgressModel",
          "model_module_version": "1.5.0",
          "state": {
            "_dom_classes": [],
            "_model_module": "@jupyter-widgets/controls",
            "_model_module_version": "1.5.0",
            "_model_name": "FloatProgressModel",
            "_view_count": null,
            "_view_module": "@jupyter-widgets/controls",
            "_view_module_version": "1.5.0",
            "_view_name": "ProgressView",
            "bar_style": "success",
            "description": "",
            "description_tooltip": null,
            "layout": "IPY_MODEL_3fb8371843494775899949d271e73c31",
            "max": 28,
            "min": 0,
            "orientation": "horizontal",
            "style": "IPY_MODEL_163c5dbecff74ef1b2339ff7e7cef536",
            "value": 28
          }
        },
        "92cd5f77a89b4a4d8a629f74a672920c": {
          "model_module": "@jupyter-widgets/controls",
          "model_name": "HTMLModel",
          "model_module_version": "1.5.0",
          "state": {
            "_dom_classes": [],
            "_model_module": "@jupyter-widgets/controls",
            "_model_module_version": "1.5.0",
            "_model_name": "HTMLModel",
            "_view_count": null,
            "_view_module": "@jupyter-widgets/controls",
            "_view_module_version": "1.5.0",
            "_view_name": "HTMLView",
            "description": "",
            "description_tooltip": null,
            "layout": "IPY_MODEL_c44212184c1a4ec98cd43e0cc990b9f7",
            "placeholder": "​",
            "style": "IPY_MODEL_0d1b1ed1fcca42c8917b7e85bd1f4a32",
            "value": " 28.0/28.0 [00:00&lt;00:00, 1.96kB/s]"
          }
        },
        "5030693ee9e4489bab4f663d10841016": {
          "model_module": "@jupyter-widgets/base",
          "model_name": "LayoutModel",
          "model_module_version": "1.2.0",
          "state": {
            "_model_module": "@jupyter-widgets/base",
            "_model_module_version": "1.2.0",
            "_model_name": "LayoutModel",
            "_view_count": null,
            "_view_module": "@jupyter-widgets/base",
            "_view_module_version": "1.2.0",
            "_view_name": "LayoutView",
            "align_content": null,
            "align_items": null,
            "align_self": null,
            "border": null,
            "bottom": null,
            "display": null,
            "flex": null,
            "flex_flow": null,
            "grid_area": null,
            "grid_auto_columns": null,
            "grid_auto_flow": null,
            "grid_auto_rows": null,
            "grid_column": null,
            "grid_gap": null,
            "grid_row": null,
            "grid_template_areas": null,
            "grid_template_columns": null,
            "grid_template_rows": null,
            "height": null,
            "justify_content": null,
            "justify_items": null,
            "left": null,
            "margin": null,
            "max_height": null,
            "max_width": null,
            "min_height": null,
            "min_width": null,
            "object_fit": null,
            "object_position": null,
            "order": null,
            "overflow": null,
            "overflow_x": null,
            "overflow_y": null,
            "padding": null,
            "right": null,
            "top": null,
            "visibility": null,
            "width": null
          }
        },
        "a6b83e2d2cb34a92b91db5237439ad6f": {
          "model_module": "@jupyter-widgets/base",
          "model_name": "LayoutModel",
          "model_module_version": "1.2.0",
          "state": {
            "_model_module": "@jupyter-widgets/base",
            "_model_module_version": "1.2.0",
            "_model_name": "LayoutModel",
            "_view_count": null,
            "_view_module": "@jupyter-widgets/base",
            "_view_module_version": "1.2.0",
            "_view_name": "LayoutView",
            "align_content": null,
            "align_items": null,
            "align_self": null,
            "border": null,
            "bottom": null,
            "display": null,
            "flex": null,
            "flex_flow": null,
            "grid_area": null,
            "grid_auto_columns": null,
            "grid_auto_flow": null,
            "grid_auto_rows": null,
            "grid_column": null,
            "grid_gap": null,
            "grid_row": null,
            "grid_template_areas": null,
            "grid_template_columns": null,
            "grid_template_rows": null,
            "height": null,
            "justify_content": null,
            "justify_items": null,
            "left": null,
            "margin": null,
            "max_height": null,
            "max_width": null,
            "min_height": null,
            "min_width": null,
            "object_fit": null,
            "object_position": null,
            "order": null,
            "overflow": null,
            "overflow_x": null,
            "overflow_y": null,
            "padding": null,
            "right": null,
            "top": null,
            "visibility": null,
            "width": null
          }
        },
        "21d1bb169e9e4188b384531c99cd5a8f": {
          "model_module": "@jupyter-widgets/controls",
          "model_name": "DescriptionStyleModel",
          "model_module_version": "1.5.0",
          "state": {
            "_model_module": "@jupyter-widgets/controls",
            "_model_module_version": "1.5.0",
            "_model_name": "DescriptionStyleModel",
            "_view_count": null,
            "_view_module": "@jupyter-widgets/base",
            "_view_module_version": "1.2.0",
            "_view_name": "StyleView",
            "description_width": ""
          }
        },
        "3fb8371843494775899949d271e73c31": {
          "model_module": "@jupyter-widgets/base",
          "model_name": "LayoutModel",
          "model_module_version": "1.2.0",
          "state": {
            "_model_module": "@jupyter-widgets/base",
            "_model_module_version": "1.2.0",
            "_model_name": "LayoutModel",
            "_view_count": null,
            "_view_module": "@jupyter-widgets/base",
            "_view_module_version": "1.2.0",
            "_view_name": "LayoutView",
            "align_content": null,
            "align_items": null,
            "align_self": null,
            "border": null,
            "bottom": null,
            "display": null,
            "flex": null,
            "flex_flow": null,
            "grid_area": null,
            "grid_auto_columns": null,
            "grid_auto_flow": null,
            "grid_auto_rows": null,
            "grid_column": null,
            "grid_gap": null,
            "grid_row": null,
            "grid_template_areas": null,
            "grid_template_columns": null,
            "grid_template_rows": null,
            "height": null,
            "justify_content": null,
            "justify_items": null,
            "left": null,
            "margin": null,
            "max_height": null,
            "max_width": null,
            "min_height": null,
            "min_width": null,
            "object_fit": null,
            "object_position": null,
            "order": null,
            "overflow": null,
            "overflow_x": null,
            "overflow_y": null,
            "padding": null,
            "right": null,
            "top": null,
            "visibility": null,
            "width": null
          }
        },
        "163c5dbecff74ef1b2339ff7e7cef536": {
          "model_module": "@jupyter-widgets/controls",
          "model_name": "ProgressStyleModel",
          "model_module_version": "1.5.0",
          "state": {
            "_model_module": "@jupyter-widgets/controls",
            "_model_module_version": "1.5.0",
            "_model_name": "ProgressStyleModel",
            "_view_count": null,
            "_view_module": "@jupyter-widgets/base",
            "_view_module_version": "1.2.0",
            "_view_name": "StyleView",
            "bar_color": null,
            "description_width": ""
          }
        },
        "c44212184c1a4ec98cd43e0cc990b9f7": {
          "model_module": "@jupyter-widgets/base",
          "model_name": "LayoutModel",
          "model_module_version": "1.2.0",
          "state": {
            "_model_module": "@jupyter-widgets/base",
            "_model_module_version": "1.2.0",
            "_model_name": "LayoutModel",
            "_view_count": null,
            "_view_module": "@jupyter-widgets/base",
            "_view_module_version": "1.2.0",
            "_view_name": "LayoutView",
            "align_content": null,
            "align_items": null,
            "align_self": null,
            "border": null,
            "bottom": null,
            "display": null,
            "flex": null,
            "flex_flow": null,
            "grid_area": null,
            "grid_auto_columns": null,
            "grid_auto_flow": null,
            "grid_auto_rows": null,
            "grid_column": null,
            "grid_gap": null,
            "grid_row": null,
            "grid_template_areas": null,
            "grid_template_columns": null,
            "grid_template_rows": null,
            "height": null,
            "justify_content": null,
            "justify_items": null,
            "left": null,
            "margin": null,
            "max_height": null,
            "max_width": null,
            "min_height": null,
            "min_width": null,
            "object_fit": null,
            "object_position": null,
            "order": null,
            "overflow": null,
            "overflow_x": null,
            "overflow_y": null,
            "padding": null,
            "right": null,
            "top": null,
            "visibility": null,
            "width": null
          }
        },
        "0d1b1ed1fcca42c8917b7e85bd1f4a32": {
          "model_module": "@jupyter-widgets/controls",
          "model_name": "DescriptionStyleModel",
          "model_module_version": "1.5.0",
          "state": {
            "_model_module": "@jupyter-widgets/controls",
            "_model_module_version": "1.5.0",
            "_model_name": "DescriptionStyleModel",
            "_view_count": null,
            "_view_module": "@jupyter-widgets/base",
            "_view_module_version": "1.2.0",
            "_view_name": "StyleView",
            "description_width": ""
          }
        },
        "aad7a7147daf4b2bb77ac5d2ae52b0e5": {
          "model_module": "@jupyter-widgets/controls",
          "model_name": "HBoxModel",
          "model_module_version": "1.5.0",
          "state": {
            "_dom_classes": [],
            "_model_module": "@jupyter-widgets/controls",
            "_model_module_version": "1.5.0",
            "_model_name": "HBoxModel",
            "_view_count": null,
            "_view_module": "@jupyter-widgets/controls",
            "_view_module_version": "1.5.0",
            "_view_name": "HBoxView",
            "box_style": "",
            "children": [
              "IPY_MODEL_40b5a8aa57af44aca70cb9603473a723",
              "IPY_MODEL_35a7d38fb30a45d69c6a5f19e1160b76",
              "IPY_MODEL_bccec45906ef4740b83b5daea60900fb"
            ],
            "layout": "IPY_MODEL_03ae1ea297c64b50a94da91b966d27a1"
          }
        },
        "40b5a8aa57af44aca70cb9603473a723": {
          "model_module": "@jupyter-widgets/controls",
          "model_name": "HTMLModel",
          "model_module_version": "1.5.0",
          "state": {
            "_dom_classes": [],
            "_model_module": "@jupyter-widgets/controls",
            "_model_module_version": "1.5.0",
            "_model_name": "HTMLModel",
            "_view_count": null,
            "_view_module": "@jupyter-widgets/controls",
            "_view_module_version": "1.5.0",
            "_view_name": "HTMLView",
            "description": "",
            "description_tooltip": null,
            "layout": "IPY_MODEL_c99c616d9a1a4ac089ba49387159cab1",
            "placeholder": "​",
            "style": "IPY_MODEL_43188255822c4a1da5ef688ef308f268",
            "value": "vocab.txt: 100%"
          }
        },
        "35a7d38fb30a45d69c6a5f19e1160b76": {
          "model_module": "@jupyter-widgets/controls",
          "model_name": "FloatProgressModel",
          "model_module_version": "1.5.0",
          "state": {
            "_dom_classes": [],
            "_model_module": "@jupyter-widgets/controls",
            "_model_module_version": "1.5.0",
            "_model_name": "FloatProgressModel",
            "_view_count": null,
            "_view_module": "@jupyter-widgets/controls",
            "_view_module_version": "1.5.0",
            "_view_name": "ProgressView",
            "bar_style": "success",
            "description": "",
            "description_tooltip": null,
            "layout": "IPY_MODEL_ee7364a3eba645618554ded56a7c1cf7",
            "max": 231508,
            "min": 0,
            "orientation": "horizontal",
            "style": "IPY_MODEL_2592b74c250c4464a840466908b94b12",
            "value": 231508
          }
        },
        "bccec45906ef4740b83b5daea60900fb": {
          "model_module": "@jupyter-widgets/controls",
          "model_name": "HTMLModel",
          "model_module_version": "1.5.0",
          "state": {
            "_dom_classes": [],
            "_model_module": "@jupyter-widgets/controls",
            "_model_module_version": "1.5.0",
            "_model_name": "HTMLModel",
            "_view_count": null,
            "_view_module": "@jupyter-widgets/controls",
            "_view_module_version": "1.5.0",
            "_view_name": "HTMLView",
            "description": "",
            "description_tooltip": null,
            "layout": "IPY_MODEL_fde3e5001c8342f5b7958310e94735bf",
            "placeholder": "​",
            "style": "IPY_MODEL_8e524e408ad94a0fa74087eb5e66002e",
            "value": " 232k/232k [00:00&lt;00:00, 4.10MB/s]"
          }
        },
        "03ae1ea297c64b50a94da91b966d27a1": {
          "model_module": "@jupyter-widgets/base",
          "model_name": "LayoutModel",
          "model_module_version": "1.2.0",
          "state": {
            "_model_module": "@jupyter-widgets/base",
            "_model_module_version": "1.2.0",
            "_model_name": "LayoutModel",
            "_view_count": null,
            "_view_module": "@jupyter-widgets/base",
            "_view_module_version": "1.2.0",
            "_view_name": "LayoutView",
            "align_content": null,
            "align_items": null,
            "align_self": null,
            "border": null,
            "bottom": null,
            "display": null,
            "flex": null,
            "flex_flow": null,
            "grid_area": null,
            "grid_auto_columns": null,
            "grid_auto_flow": null,
            "grid_auto_rows": null,
            "grid_column": null,
            "grid_gap": null,
            "grid_row": null,
            "grid_template_areas": null,
            "grid_template_columns": null,
            "grid_template_rows": null,
            "height": null,
            "justify_content": null,
            "justify_items": null,
            "left": null,
            "margin": null,
            "max_height": null,
            "max_width": null,
            "min_height": null,
            "min_width": null,
            "object_fit": null,
            "object_position": null,
            "order": null,
            "overflow": null,
            "overflow_x": null,
            "overflow_y": null,
            "padding": null,
            "right": null,
            "top": null,
            "visibility": null,
            "width": null
          }
        },
        "c99c616d9a1a4ac089ba49387159cab1": {
          "model_module": "@jupyter-widgets/base",
          "model_name": "LayoutModel",
          "model_module_version": "1.2.0",
          "state": {
            "_model_module": "@jupyter-widgets/base",
            "_model_module_version": "1.2.0",
            "_model_name": "LayoutModel",
            "_view_count": null,
            "_view_module": "@jupyter-widgets/base",
            "_view_module_version": "1.2.0",
            "_view_name": "LayoutView",
            "align_content": null,
            "align_items": null,
            "align_self": null,
            "border": null,
            "bottom": null,
            "display": null,
            "flex": null,
            "flex_flow": null,
            "grid_area": null,
            "grid_auto_columns": null,
            "grid_auto_flow": null,
            "grid_auto_rows": null,
            "grid_column": null,
            "grid_gap": null,
            "grid_row": null,
            "grid_template_areas": null,
            "grid_template_columns": null,
            "grid_template_rows": null,
            "height": null,
            "justify_content": null,
            "justify_items": null,
            "left": null,
            "margin": null,
            "max_height": null,
            "max_width": null,
            "min_height": null,
            "min_width": null,
            "object_fit": null,
            "object_position": null,
            "order": null,
            "overflow": null,
            "overflow_x": null,
            "overflow_y": null,
            "padding": null,
            "right": null,
            "top": null,
            "visibility": null,
            "width": null
          }
        },
        "43188255822c4a1da5ef688ef308f268": {
          "model_module": "@jupyter-widgets/controls",
          "model_name": "DescriptionStyleModel",
          "model_module_version": "1.5.0",
          "state": {
            "_model_module": "@jupyter-widgets/controls",
            "_model_module_version": "1.5.0",
            "_model_name": "DescriptionStyleModel",
            "_view_count": null,
            "_view_module": "@jupyter-widgets/base",
            "_view_module_version": "1.2.0",
            "_view_name": "StyleView",
            "description_width": ""
          }
        },
        "ee7364a3eba645618554ded56a7c1cf7": {
          "model_module": "@jupyter-widgets/base",
          "model_name": "LayoutModel",
          "model_module_version": "1.2.0",
          "state": {
            "_model_module": "@jupyter-widgets/base",
            "_model_module_version": "1.2.0",
            "_model_name": "LayoutModel",
            "_view_count": null,
            "_view_module": "@jupyter-widgets/base",
            "_view_module_version": "1.2.0",
            "_view_name": "LayoutView",
            "align_content": null,
            "align_items": null,
            "align_self": null,
            "border": null,
            "bottom": null,
            "display": null,
            "flex": null,
            "flex_flow": null,
            "grid_area": null,
            "grid_auto_columns": null,
            "grid_auto_flow": null,
            "grid_auto_rows": null,
            "grid_column": null,
            "grid_gap": null,
            "grid_row": null,
            "grid_template_areas": null,
            "grid_template_columns": null,
            "grid_template_rows": null,
            "height": null,
            "justify_content": null,
            "justify_items": null,
            "left": null,
            "margin": null,
            "max_height": null,
            "max_width": null,
            "min_height": null,
            "min_width": null,
            "object_fit": null,
            "object_position": null,
            "order": null,
            "overflow": null,
            "overflow_x": null,
            "overflow_y": null,
            "padding": null,
            "right": null,
            "top": null,
            "visibility": null,
            "width": null
          }
        },
        "2592b74c250c4464a840466908b94b12": {
          "model_module": "@jupyter-widgets/controls",
          "model_name": "ProgressStyleModel",
          "model_module_version": "1.5.0",
          "state": {
            "_model_module": "@jupyter-widgets/controls",
            "_model_module_version": "1.5.0",
            "_model_name": "ProgressStyleModel",
            "_view_count": null,
            "_view_module": "@jupyter-widgets/base",
            "_view_module_version": "1.2.0",
            "_view_name": "StyleView",
            "bar_color": null,
            "description_width": ""
          }
        },
        "fde3e5001c8342f5b7958310e94735bf": {
          "model_module": "@jupyter-widgets/base",
          "model_name": "LayoutModel",
          "model_module_version": "1.2.0",
          "state": {
            "_model_module": "@jupyter-widgets/base",
            "_model_module_version": "1.2.0",
            "_model_name": "LayoutModel",
            "_view_count": null,
            "_view_module": "@jupyter-widgets/base",
            "_view_module_version": "1.2.0",
            "_view_name": "LayoutView",
            "align_content": null,
            "align_items": null,
            "align_self": null,
            "border": null,
            "bottom": null,
            "display": null,
            "flex": null,
            "flex_flow": null,
            "grid_area": null,
            "grid_auto_columns": null,
            "grid_auto_flow": null,
            "grid_auto_rows": null,
            "grid_column": null,
            "grid_gap": null,
            "grid_row": null,
            "grid_template_areas": null,
            "grid_template_columns": null,
            "grid_template_rows": null,
            "height": null,
            "justify_content": null,
            "justify_items": null,
            "left": null,
            "margin": null,
            "max_height": null,
            "max_width": null,
            "min_height": null,
            "min_width": null,
            "object_fit": null,
            "object_position": null,
            "order": null,
            "overflow": null,
            "overflow_x": null,
            "overflow_y": null,
            "padding": null,
            "right": null,
            "top": null,
            "visibility": null,
            "width": null
          }
        },
        "8e524e408ad94a0fa74087eb5e66002e": {
          "model_module": "@jupyter-widgets/controls",
          "model_name": "DescriptionStyleModel",
          "model_module_version": "1.5.0",
          "state": {
            "_model_module": "@jupyter-widgets/controls",
            "_model_module_version": "1.5.0",
            "_model_name": "DescriptionStyleModel",
            "_view_count": null,
            "_view_module": "@jupyter-widgets/base",
            "_view_module_version": "1.2.0",
            "_view_name": "StyleView",
            "description_width": ""
          }
        },
        "9e8bdcdafafa4b28821017e88c5ec78e": {
          "model_module": "@jupyter-widgets/controls",
          "model_name": "HBoxModel",
          "model_module_version": "1.5.0",
          "state": {
            "_dom_classes": [],
            "_model_module": "@jupyter-widgets/controls",
            "_model_module_version": "1.5.0",
            "_model_name": "HBoxModel",
            "_view_count": null,
            "_view_module": "@jupyter-widgets/controls",
            "_view_module_version": "1.5.0",
            "_view_name": "HBoxView",
            "box_style": "",
            "children": [
              "IPY_MODEL_188457cde7834c49a0e2025ecaede088",
              "IPY_MODEL_b5f298ef54cf4da998c6a43d5538942d",
              "IPY_MODEL_27da9ee5f0f74da8a697e7902428ce04"
            ],
            "layout": "IPY_MODEL_5c88f58258b44f55998344780e7150ce"
          }
        },
        "188457cde7834c49a0e2025ecaede088": {
          "model_module": "@jupyter-widgets/controls",
          "model_name": "HTMLModel",
          "model_module_version": "1.5.0",
          "state": {
            "_dom_classes": [],
            "_model_module": "@jupyter-widgets/controls",
            "_model_module_version": "1.5.0",
            "_model_name": "HTMLModel",
            "_view_count": null,
            "_view_module": "@jupyter-widgets/controls",
            "_view_module_version": "1.5.0",
            "_view_name": "HTMLView",
            "description": "",
            "description_tooltip": null,
            "layout": "IPY_MODEL_06ac9064f52f4fd1815583b9d361ef3f",
            "placeholder": "​",
            "style": "IPY_MODEL_a53cca92b81c4ae5940575339bac0386",
            "value": "tokenizer.json: 100%"
          }
        },
        "b5f298ef54cf4da998c6a43d5538942d": {
          "model_module": "@jupyter-widgets/controls",
          "model_name": "FloatProgressModel",
          "model_module_version": "1.5.0",
          "state": {
            "_dom_classes": [],
            "_model_module": "@jupyter-widgets/controls",
            "_model_module_version": "1.5.0",
            "_model_name": "FloatProgressModel",
            "_view_count": null,
            "_view_module": "@jupyter-widgets/controls",
            "_view_module_version": "1.5.0",
            "_view_name": "ProgressView",
            "bar_style": "success",
            "description": "",
            "description_tooltip": null,
            "layout": "IPY_MODEL_3a4d96ed18f247f8b79f1e5592848b11",
            "max": 466062,
            "min": 0,
            "orientation": "horizontal",
            "style": "IPY_MODEL_4e1d28d83238498286500b42b6f525b3",
            "value": 466062
          }
        },
        "27da9ee5f0f74da8a697e7902428ce04": {
          "model_module": "@jupyter-widgets/controls",
          "model_name": "HTMLModel",
          "model_module_version": "1.5.0",
          "state": {
            "_dom_classes": [],
            "_model_module": "@jupyter-widgets/controls",
            "_model_module_version": "1.5.0",
            "_model_name": "HTMLModel",
            "_view_count": null,
            "_view_module": "@jupyter-widgets/controls",
            "_view_module_version": "1.5.0",
            "_view_name": "HTMLView",
            "description": "",
            "description_tooltip": null,
            "layout": "IPY_MODEL_df2f09777957476c85bc42dc2252f310",
            "placeholder": "​",
            "style": "IPY_MODEL_ac0247cfe3a347afbc545214db400a9d",
            "value": " 466k/466k [00:00&lt;00:00, 6.38MB/s]"
          }
        },
        "5c88f58258b44f55998344780e7150ce": {
          "model_module": "@jupyter-widgets/base",
          "model_name": "LayoutModel",
          "model_module_version": "1.2.0",
          "state": {
            "_model_module": "@jupyter-widgets/base",
            "_model_module_version": "1.2.0",
            "_model_name": "LayoutModel",
            "_view_count": null,
            "_view_module": "@jupyter-widgets/base",
            "_view_module_version": "1.2.0",
            "_view_name": "LayoutView",
            "align_content": null,
            "align_items": null,
            "align_self": null,
            "border": null,
            "bottom": null,
            "display": null,
            "flex": null,
            "flex_flow": null,
            "grid_area": null,
            "grid_auto_columns": null,
            "grid_auto_flow": null,
            "grid_auto_rows": null,
            "grid_column": null,
            "grid_gap": null,
            "grid_row": null,
            "grid_template_areas": null,
            "grid_template_columns": null,
            "grid_template_rows": null,
            "height": null,
            "justify_content": null,
            "justify_items": null,
            "left": null,
            "margin": null,
            "max_height": null,
            "max_width": null,
            "min_height": null,
            "min_width": null,
            "object_fit": null,
            "object_position": null,
            "order": null,
            "overflow": null,
            "overflow_x": null,
            "overflow_y": null,
            "padding": null,
            "right": null,
            "top": null,
            "visibility": null,
            "width": null
          }
        },
        "06ac9064f52f4fd1815583b9d361ef3f": {
          "model_module": "@jupyter-widgets/base",
          "model_name": "LayoutModel",
          "model_module_version": "1.2.0",
          "state": {
            "_model_module": "@jupyter-widgets/base",
            "_model_module_version": "1.2.0",
            "_model_name": "LayoutModel",
            "_view_count": null,
            "_view_module": "@jupyter-widgets/base",
            "_view_module_version": "1.2.0",
            "_view_name": "LayoutView",
            "align_content": null,
            "align_items": null,
            "align_self": null,
            "border": null,
            "bottom": null,
            "display": null,
            "flex": null,
            "flex_flow": null,
            "grid_area": null,
            "grid_auto_columns": null,
            "grid_auto_flow": null,
            "grid_auto_rows": null,
            "grid_column": null,
            "grid_gap": null,
            "grid_row": null,
            "grid_template_areas": null,
            "grid_template_columns": null,
            "grid_template_rows": null,
            "height": null,
            "justify_content": null,
            "justify_items": null,
            "left": null,
            "margin": null,
            "max_height": null,
            "max_width": null,
            "min_height": null,
            "min_width": null,
            "object_fit": null,
            "object_position": null,
            "order": null,
            "overflow": null,
            "overflow_x": null,
            "overflow_y": null,
            "padding": null,
            "right": null,
            "top": null,
            "visibility": null,
            "width": null
          }
        },
        "a53cca92b81c4ae5940575339bac0386": {
          "model_module": "@jupyter-widgets/controls",
          "model_name": "DescriptionStyleModel",
          "model_module_version": "1.5.0",
          "state": {
            "_model_module": "@jupyter-widgets/controls",
            "_model_module_version": "1.5.0",
            "_model_name": "DescriptionStyleModel",
            "_view_count": null,
            "_view_module": "@jupyter-widgets/base",
            "_view_module_version": "1.2.0",
            "_view_name": "StyleView",
            "description_width": ""
          }
        },
        "3a4d96ed18f247f8b79f1e5592848b11": {
          "model_module": "@jupyter-widgets/base",
          "model_name": "LayoutModel",
          "model_module_version": "1.2.0",
          "state": {
            "_model_module": "@jupyter-widgets/base",
            "_model_module_version": "1.2.0",
            "_model_name": "LayoutModel",
            "_view_count": null,
            "_view_module": "@jupyter-widgets/base",
            "_view_module_version": "1.2.0",
            "_view_name": "LayoutView",
            "align_content": null,
            "align_items": null,
            "align_self": null,
            "border": null,
            "bottom": null,
            "display": null,
            "flex": null,
            "flex_flow": null,
            "grid_area": null,
            "grid_auto_columns": null,
            "grid_auto_flow": null,
            "grid_auto_rows": null,
            "grid_column": null,
            "grid_gap": null,
            "grid_row": null,
            "grid_template_areas": null,
            "grid_template_columns": null,
            "grid_template_rows": null,
            "height": null,
            "justify_content": null,
            "justify_items": null,
            "left": null,
            "margin": null,
            "max_height": null,
            "max_width": null,
            "min_height": null,
            "min_width": null,
            "object_fit": null,
            "object_position": null,
            "order": null,
            "overflow": null,
            "overflow_x": null,
            "overflow_y": null,
            "padding": null,
            "right": null,
            "top": null,
            "visibility": null,
            "width": null
          }
        },
        "4e1d28d83238498286500b42b6f525b3": {
          "model_module": "@jupyter-widgets/controls",
          "model_name": "ProgressStyleModel",
          "model_module_version": "1.5.0",
          "state": {
            "_model_module": "@jupyter-widgets/controls",
            "_model_module_version": "1.5.0",
            "_model_name": "ProgressStyleModel",
            "_view_count": null,
            "_view_module": "@jupyter-widgets/base",
            "_view_module_version": "1.2.0",
            "_view_name": "StyleView",
            "bar_color": null,
            "description_width": ""
          }
        },
        "df2f09777957476c85bc42dc2252f310": {
          "model_module": "@jupyter-widgets/base",
          "model_name": "LayoutModel",
          "model_module_version": "1.2.0",
          "state": {
            "_model_module": "@jupyter-widgets/base",
            "_model_module_version": "1.2.0",
            "_model_name": "LayoutModel",
            "_view_count": null,
            "_view_module": "@jupyter-widgets/base",
            "_view_module_version": "1.2.0",
            "_view_name": "LayoutView",
            "align_content": null,
            "align_items": null,
            "align_self": null,
            "border": null,
            "bottom": null,
            "display": null,
            "flex": null,
            "flex_flow": null,
            "grid_area": null,
            "grid_auto_columns": null,
            "grid_auto_flow": null,
            "grid_auto_rows": null,
            "grid_column": null,
            "grid_gap": null,
            "grid_row": null,
            "grid_template_areas": null,
            "grid_template_columns": null,
            "grid_template_rows": null,
            "height": null,
            "justify_content": null,
            "justify_items": null,
            "left": null,
            "margin": null,
            "max_height": null,
            "max_width": null,
            "min_height": null,
            "min_width": null,
            "object_fit": null,
            "object_position": null,
            "order": null,
            "overflow": null,
            "overflow_x": null,
            "overflow_y": null,
            "padding": null,
            "right": null,
            "top": null,
            "visibility": null,
            "width": null
          }
        },
        "ac0247cfe3a347afbc545214db400a9d": {
          "model_module": "@jupyter-widgets/controls",
          "model_name": "DescriptionStyleModel",
          "model_module_version": "1.5.0",
          "state": {
            "_model_module": "@jupyter-widgets/controls",
            "_model_module_version": "1.5.0",
            "_model_name": "DescriptionStyleModel",
            "_view_count": null,
            "_view_module": "@jupyter-widgets/base",
            "_view_module_version": "1.2.0",
            "_view_name": "StyleView",
            "description_width": ""
          }
        },
        "4936a9bc4ae240b1968f7752820dfa4c": {
          "model_module": "@jupyter-widgets/controls",
          "model_name": "HBoxModel",
          "model_module_version": "1.5.0",
          "state": {
            "_dom_classes": [],
            "_model_module": "@jupyter-widgets/controls",
            "_model_module_version": "1.5.0",
            "_model_name": "HBoxModel",
            "_view_count": null,
            "_view_module": "@jupyter-widgets/controls",
            "_view_module_version": "1.5.0",
            "_view_name": "HBoxView",
            "box_style": "",
            "children": [
              "IPY_MODEL_13d53113a6514066a4da37feecd1d1cb",
              "IPY_MODEL_2329f585903a46308c0c20f5a4e24473",
              "IPY_MODEL_0943efa5f3e444a6873d458ea1f52a82"
            ],
            "layout": "IPY_MODEL_42a116c5e39749c98c5aeb48577f91da"
          }
        },
        "13d53113a6514066a4da37feecd1d1cb": {
          "model_module": "@jupyter-widgets/controls",
          "model_name": "HTMLModel",
          "model_module_version": "1.5.0",
          "state": {
            "_dom_classes": [],
            "_model_module": "@jupyter-widgets/controls",
            "_model_module_version": "1.5.0",
            "_model_name": "HTMLModel",
            "_view_count": null,
            "_view_module": "@jupyter-widgets/controls",
            "_view_module_version": "1.5.0",
            "_view_name": "HTMLView",
            "description": "",
            "description_tooltip": null,
            "layout": "IPY_MODEL_215a4efa3689476f8bdec825a52b1adb",
            "placeholder": "​",
            "style": "IPY_MODEL_14575794aacd45a6b06cc570c4eb729e",
            "value": "config.json: 100%"
          }
        },
        "2329f585903a46308c0c20f5a4e24473": {
          "model_module": "@jupyter-widgets/controls",
          "model_name": "FloatProgressModel",
          "model_module_version": "1.5.0",
          "state": {
            "_dom_classes": [],
            "_model_module": "@jupyter-widgets/controls",
            "_model_module_version": "1.5.0",
            "_model_name": "FloatProgressModel",
            "_view_count": null,
            "_view_module": "@jupyter-widgets/controls",
            "_view_module_version": "1.5.0",
            "_view_name": "ProgressView",
            "bar_style": "success",
            "description": "",
            "description_tooltip": null,
            "layout": "IPY_MODEL_70b6975d26da438abb89d9556afb4069",
            "max": 483,
            "min": 0,
            "orientation": "horizontal",
            "style": "IPY_MODEL_24ef48a66f9148f3b56adc96a507cb26",
            "value": 483
          }
        },
        "0943efa5f3e444a6873d458ea1f52a82": {
          "model_module": "@jupyter-widgets/controls",
          "model_name": "HTMLModel",
          "model_module_version": "1.5.0",
          "state": {
            "_dom_classes": [],
            "_model_module": "@jupyter-widgets/controls",
            "_model_module_version": "1.5.0",
            "_model_name": "HTMLModel",
            "_view_count": null,
            "_view_module": "@jupyter-widgets/controls",
            "_view_module_version": "1.5.0",
            "_view_name": "HTMLView",
            "description": "",
            "description_tooltip": null,
            "layout": "IPY_MODEL_b333f0e78909457c9cf89729abb057e0",
            "placeholder": "​",
            "style": "IPY_MODEL_fd8352346f7d45f9b53746777153c23c",
            "value": " 483/483 [00:00&lt;00:00, 12.2kB/s]"
          }
        },
        "42a116c5e39749c98c5aeb48577f91da": {
          "model_module": "@jupyter-widgets/base",
          "model_name": "LayoutModel",
          "model_module_version": "1.2.0",
          "state": {
            "_model_module": "@jupyter-widgets/base",
            "_model_module_version": "1.2.0",
            "_model_name": "LayoutModel",
            "_view_count": null,
            "_view_module": "@jupyter-widgets/base",
            "_view_module_version": "1.2.0",
            "_view_name": "LayoutView",
            "align_content": null,
            "align_items": null,
            "align_self": null,
            "border": null,
            "bottom": null,
            "display": null,
            "flex": null,
            "flex_flow": null,
            "grid_area": null,
            "grid_auto_columns": null,
            "grid_auto_flow": null,
            "grid_auto_rows": null,
            "grid_column": null,
            "grid_gap": null,
            "grid_row": null,
            "grid_template_areas": null,
            "grid_template_columns": null,
            "grid_template_rows": null,
            "height": null,
            "justify_content": null,
            "justify_items": null,
            "left": null,
            "margin": null,
            "max_height": null,
            "max_width": null,
            "min_height": null,
            "min_width": null,
            "object_fit": null,
            "object_position": null,
            "order": null,
            "overflow": null,
            "overflow_x": null,
            "overflow_y": null,
            "padding": null,
            "right": null,
            "top": null,
            "visibility": null,
            "width": null
          }
        },
        "215a4efa3689476f8bdec825a52b1adb": {
          "model_module": "@jupyter-widgets/base",
          "model_name": "LayoutModel",
          "model_module_version": "1.2.0",
          "state": {
            "_model_module": "@jupyter-widgets/base",
            "_model_module_version": "1.2.0",
            "_model_name": "LayoutModel",
            "_view_count": null,
            "_view_module": "@jupyter-widgets/base",
            "_view_module_version": "1.2.0",
            "_view_name": "LayoutView",
            "align_content": null,
            "align_items": null,
            "align_self": null,
            "border": null,
            "bottom": null,
            "display": null,
            "flex": null,
            "flex_flow": null,
            "grid_area": null,
            "grid_auto_columns": null,
            "grid_auto_flow": null,
            "grid_auto_rows": null,
            "grid_column": null,
            "grid_gap": null,
            "grid_row": null,
            "grid_template_areas": null,
            "grid_template_columns": null,
            "grid_template_rows": null,
            "height": null,
            "justify_content": null,
            "justify_items": null,
            "left": null,
            "margin": null,
            "max_height": null,
            "max_width": null,
            "min_height": null,
            "min_width": null,
            "object_fit": null,
            "object_position": null,
            "order": null,
            "overflow": null,
            "overflow_x": null,
            "overflow_y": null,
            "padding": null,
            "right": null,
            "top": null,
            "visibility": null,
            "width": null
          }
        },
        "14575794aacd45a6b06cc570c4eb729e": {
          "model_module": "@jupyter-widgets/controls",
          "model_name": "DescriptionStyleModel",
          "model_module_version": "1.5.0",
          "state": {
            "_model_module": "@jupyter-widgets/controls",
            "_model_module_version": "1.5.0",
            "_model_name": "DescriptionStyleModel",
            "_view_count": null,
            "_view_module": "@jupyter-widgets/base",
            "_view_module_version": "1.2.0",
            "_view_name": "StyleView",
            "description_width": ""
          }
        },
        "70b6975d26da438abb89d9556afb4069": {
          "model_module": "@jupyter-widgets/base",
          "model_name": "LayoutModel",
          "model_module_version": "1.2.0",
          "state": {
            "_model_module": "@jupyter-widgets/base",
            "_model_module_version": "1.2.0",
            "_model_name": "LayoutModel",
            "_view_count": null,
            "_view_module": "@jupyter-widgets/base",
            "_view_module_version": "1.2.0",
            "_view_name": "LayoutView",
            "align_content": null,
            "align_items": null,
            "align_self": null,
            "border": null,
            "bottom": null,
            "display": null,
            "flex": null,
            "flex_flow": null,
            "grid_area": null,
            "grid_auto_columns": null,
            "grid_auto_flow": null,
            "grid_auto_rows": null,
            "grid_column": null,
            "grid_gap": null,
            "grid_row": null,
            "grid_template_areas": null,
            "grid_template_columns": null,
            "grid_template_rows": null,
            "height": null,
            "justify_content": null,
            "justify_items": null,
            "left": null,
            "margin": null,
            "max_height": null,
            "max_width": null,
            "min_height": null,
            "min_width": null,
            "object_fit": null,
            "object_position": null,
            "order": null,
            "overflow": null,
            "overflow_x": null,
            "overflow_y": null,
            "padding": null,
            "right": null,
            "top": null,
            "visibility": null,
            "width": null
          }
        },
        "24ef48a66f9148f3b56adc96a507cb26": {
          "model_module": "@jupyter-widgets/controls",
          "model_name": "ProgressStyleModel",
          "model_module_version": "1.5.0",
          "state": {
            "_model_module": "@jupyter-widgets/controls",
            "_model_module_version": "1.5.0",
            "_model_name": "ProgressStyleModel",
            "_view_count": null,
            "_view_module": "@jupyter-widgets/base",
            "_view_module_version": "1.2.0",
            "_view_name": "StyleView",
            "bar_color": null,
            "description_width": ""
          }
        },
        "b333f0e78909457c9cf89729abb057e0": {
          "model_module": "@jupyter-widgets/base",
          "model_name": "LayoutModel",
          "model_module_version": "1.2.0",
          "state": {
            "_model_module": "@jupyter-widgets/base",
            "_model_module_version": "1.2.0",
            "_model_name": "LayoutModel",
            "_view_count": null,
            "_view_module": "@jupyter-widgets/base",
            "_view_module_version": "1.2.0",
            "_view_name": "LayoutView",
            "align_content": null,
            "align_items": null,
            "align_self": null,
            "border": null,
            "bottom": null,
            "display": null,
            "flex": null,
            "flex_flow": null,
            "grid_area": null,
            "grid_auto_columns": null,
            "grid_auto_flow": null,
            "grid_auto_rows": null,
            "grid_column": null,
            "grid_gap": null,
            "grid_row": null,
            "grid_template_areas": null,
            "grid_template_columns": null,
            "grid_template_rows": null,
            "height": null,
            "justify_content": null,
            "justify_items": null,
            "left": null,
            "margin": null,
            "max_height": null,
            "max_width": null,
            "min_height": null,
            "min_width": null,
            "object_fit": null,
            "object_position": null,
            "order": null,
            "overflow": null,
            "overflow_x": null,
            "overflow_y": null,
            "padding": null,
            "right": null,
            "top": null,
            "visibility": null,
            "width": null
          }
        },
        "fd8352346f7d45f9b53746777153c23c": {
          "model_module": "@jupyter-widgets/controls",
          "model_name": "DescriptionStyleModel",
          "model_module_version": "1.5.0",
          "state": {
            "_model_module": "@jupyter-widgets/controls",
            "_model_module_version": "1.5.0",
            "_model_name": "DescriptionStyleModel",
            "_view_count": null,
            "_view_module": "@jupyter-widgets/base",
            "_view_module_version": "1.2.0",
            "_view_name": "StyleView",
            "description_width": ""
          }
        },
        "b8b6fc28ba504a43bf85f21dd949d805": {
          "model_module": "@jupyter-widgets/controls",
          "model_name": "HBoxModel",
          "model_module_version": "1.5.0",
          "state": {
            "_dom_classes": [],
            "_model_module": "@jupyter-widgets/controls",
            "_model_module_version": "1.5.0",
            "_model_name": "HBoxModel",
            "_view_count": null,
            "_view_module": "@jupyter-widgets/controls",
            "_view_module_version": "1.5.0",
            "_view_name": "HBoxView",
            "box_style": "",
            "children": [
              "IPY_MODEL_84cda34e6053432bba76dc2e3aa1679f",
              "IPY_MODEL_1077d6b47eb94f56a783272e8f0204b5",
              "IPY_MODEL_5d2a8d23e3304ab694c06dac647096f2"
            ],
            "layout": "IPY_MODEL_261bdcf4360b4b44bb1383f80c529392"
          }
        },
        "84cda34e6053432bba76dc2e3aa1679f": {
          "model_module": "@jupyter-widgets/controls",
          "model_name": "HTMLModel",
          "model_module_version": "1.5.0",
          "state": {
            "_dom_classes": [],
            "_model_module": "@jupyter-widgets/controls",
            "_model_module_version": "1.5.0",
            "_model_name": "HTMLModel",
            "_view_count": null,
            "_view_module": "@jupyter-widgets/controls",
            "_view_module_version": "1.5.0",
            "_view_name": "HTMLView",
            "description": "",
            "description_tooltip": null,
            "layout": "IPY_MODEL_0dba971958f54bc9a59d9f6f1f56a35c",
            "placeholder": "​",
            "style": "IPY_MODEL_998ce37c5e4448c082ab3a9cfd399e12",
            "value": "model.safetensors: 100%"
          }
        },
        "1077d6b47eb94f56a783272e8f0204b5": {
          "model_module": "@jupyter-widgets/controls",
          "model_name": "FloatProgressModel",
          "model_module_version": "1.5.0",
          "state": {
            "_dom_classes": [],
            "_model_module": "@jupyter-widgets/controls",
            "_model_module_version": "1.5.0",
            "_model_name": "FloatProgressModel",
            "_view_count": null,
            "_view_module": "@jupyter-widgets/controls",
            "_view_module_version": "1.5.0",
            "_view_name": "ProgressView",
            "bar_style": "success",
            "description": "",
            "description_tooltip": null,
            "layout": "IPY_MODEL_c78644e757494bffbad9ad65b14122ab",
            "max": 267954768,
            "min": 0,
            "orientation": "horizontal",
            "style": "IPY_MODEL_3a993ce849a14db0bd40fb415783b97a",
            "value": 267954768
          }
        },
        "5d2a8d23e3304ab694c06dac647096f2": {
          "model_module": "@jupyter-widgets/controls",
          "model_name": "HTMLModel",
          "model_module_version": "1.5.0",
          "state": {
            "_dom_classes": [],
            "_model_module": "@jupyter-widgets/controls",
            "_model_module_version": "1.5.0",
            "_model_name": "HTMLModel",
            "_view_count": null,
            "_view_module": "@jupyter-widgets/controls",
            "_view_module_version": "1.5.0",
            "_view_name": "HTMLView",
            "description": "",
            "description_tooltip": null,
            "layout": "IPY_MODEL_d0eb290028164310b41f637c86656d93",
            "placeholder": "​",
            "style": "IPY_MODEL_6cc28aac22ab4a6d8e56bbaf2f2641b6",
            "value": " 268M/268M [00:01&lt;00:00, 163MB/s]"
          }
        },
        "261bdcf4360b4b44bb1383f80c529392": {
          "model_module": "@jupyter-widgets/base",
          "model_name": "LayoutModel",
          "model_module_version": "1.2.0",
          "state": {
            "_model_module": "@jupyter-widgets/base",
            "_model_module_version": "1.2.0",
            "_model_name": "LayoutModel",
            "_view_count": null,
            "_view_module": "@jupyter-widgets/base",
            "_view_module_version": "1.2.0",
            "_view_name": "LayoutView",
            "align_content": null,
            "align_items": null,
            "align_self": null,
            "border": null,
            "bottom": null,
            "display": null,
            "flex": null,
            "flex_flow": null,
            "grid_area": null,
            "grid_auto_columns": null,
            "grid_auto_flow": null,
            "grid_auto_rows": null,
            "grid_column": null,
            "grid_gap": null,
            "grid_row": null,
            "grid_template_areas": null,
            "grid_template_columns": null,
            "grid_template_rows": null,
            "height": null,
            "justify_content": null,
            "justify_items": null,
            "left": null,
            "margin": null,
            "max_height": null,
            "max_width": null,
            "min_height": null,
            "min_width": null,
            "object_fit": null,
            "object_position": null,
            "order": null,
            "overflow": null,
            "overflow_x": null,
            "overflow_y": null,
            "padding": null,
            "right": null,
            "top": null,
            "visibility": null,
            "width": null
          }
        },
        "0dba971958f54bc9a59d9f6f1f56a35c": {
          "model_module": "@jupyter-widgets/base",
          "model_name": "LayoutModel",
          "model_module_version": "1.2.0",
          "state": {
            "_model_module": "@jupyter-widgets/base",
            "_model_module_version": "1.2.0",
            "_model_name": "LayoutModel",
            "_view_count": null,
            "_view_module": "@jupyter-widgets/base",
            "_view_module_version": "1.2.0",
            "_view_name": "LayoutView",
            "align_content": null,
            "align_items": null,
            "align_self": null,
            "border": null,
            "bottom": null,
            "display": null,
            "flex": null,
            "flex_flow": null,
            "grid_area": null,
            "grid_auto_columns": null,
            "grid_auto_flow": null,
            "grid_auto_rows": null,
            "grid_column": null,
            "grid_gap": null,
            "grid_row": null,
            "grid_template_areas": null,
            "grid_template_columns": null,
            "grid_template_rows": null,
            "height": null,
            "justify_content": null,
            "justify_items": null,
            "left": null,
            "margin": null,
            "max_height": null,
            "max_width": null,
            "min_height": null,
            "min_width": null,
            "object_fit": null,
            "object_position": null,
            "order": null,
            "overflow": null,
            "overflow_x": null,
            "overflow_y": null,
            "padding": null,
            "right": null,
            "top": null,
            "visibility": null,
            "width": null
          }
        },
        "998ce37c5e4448c082ab3a9cfd399e12": {
          "model_module": "@jupyter-widgets/controls",
          "model_name": "DescriptionStyleModel",
          "model_module_version": "1.5.0",
          "state": {
            "_model_module": "@jupyter-widgets/controls",
            "_model_module_version": "1.5.0",
            "_model_name": "DescriptionStyleModel",
            "_view_count": null,
            "_view_module": "@jupyter-widgets/base",
            "_view_module_version": "1.2.0",
            "_view_name": "StyleView",
            "description_width": ""
          }
        },
        "c78644e757494bffbad9ad65b14122ab": {
          "model_module": "@jupyter-widgets/base",
          "model_name": "LayoutModel",
          "model_module_version": "1.2.0",
          "state": {
            "_model_module": "@jupyter-widgets/base",
            "_model_module_version": "1.2.0",
            "_model_name": "LayoutModel",
            "_view_count": null,
            "_view_module": "@jupyter-widgets/base",
            "_view_module_version": "1.2.0",
            "_view_name": "LayoutView",
            "align_content": null,
            "align_items": null,
            "align_self": null,
            "border": null,
            "bottom": null,
            "display": null,
            "flex": null,
            "flex_flow": null,
            "grid_area": null,
            "grid_auto_columns": null,
            "grid_auto_flow": null,
            "grid_auto_rows": null,
            "grid_column": null,
            "grid_gap": null,
            "grid_row": null,
            "grid_template_areas": null,
            "grid_template_columns": null,
            "grid_template_rows": null,
            "height": null,
            "justify_content": null,
            "justify_items": null,
            "left": null,
            "margin": null,
            "max_height": null,
            "max_width": null,
            "min_height": null,
            "min_width": null,
            "object_fit": null,
            "object_position": null,
            "order": null,
            "overflow": null,
            "overflow_x": null,
            "overflow_y": null,
            "padding": null,
            "right": null,
            "top": null,
            "visibility": null,
            "width": null
          }
        },
        "3a993ce849a14db0bd40fb415783b97a": {
          "model_module": "@jupyter-widgets/controls",
          "model_name": "ProgressStyleModel",
          "model_module_version": "1.5.0",
          "state": {
            "_model_module": "@jupyter-widgets/controls",
            "_model_module_version": "1.5.0",
            "_model_name": "ProgressStyleModel",
            "_view_count": null,
            "_view_module": "@jupyter-widgets/base",
            "_view_module_version": "1.2.0",
            "_view_name": "StyleView",
            "bar_color": null,
            "description_width": ""
          }
        },
        "d0eb290028164310b41f637c86656d93": {
          "model_module": "@jupyter-widgets/base",
          "model_name": "LayoutModel",
          "model_module_version": "1.2.0",
          "state": {
            "_model_module": "@jupyter-widgets/base",
            "_model_module_version": "1.2.0",
            "_model_name": "LayoutModel",
            "_view_count": null,
            "_view_module": "@jupyter-widgets/base",
            "_view_module_version": "1.2.0",
            "_view_name": "LayoutView",
            "align_content": null,
            "align_items": null,
            "align_self": null,
            "border": null,
            "bottom": null,
            "display": null,
            "flex": null,
            "flex_flow": null,
            "grid_area": null,
            "grid_auto_columns": null,
            "grid_auto_flow": null,
            "grid_auto_rows": null,
            "grid_column": null,
            "grid_gap": null,
            "grid_row": null,
            "grid_template_areas": null,
            "grid_template_columns": null,
            "grid_template_rows": null,
            "height": null,
            "justify_content": null,
            "justify_items": null,
            "left": null,
            "margin": null,
            "max_height": null,
            "max_width": null,
            "min_height": null,
            "min_width": null,
            "object_fit": null,
            "object_position": null,
            "order": null,
            "overflow": null,
            "overflow_x": null,
            "overflow_y": null,
            "padding": null,
            "right": null,
            "top": null,
            "visibility": null,
            "width": null
          }
        },
        "6cc28aac22ab4a6d8e56bbaf2f2641b6": {
          "model_module": "@jupyter-widgets/controls",
          "model_name": "DescriptionStyleModel",
          "model_module_version": "1.5.0",
          "state": {
            "_model_module": "@jupyter-widgets/controls",
            "_model_module_version": "1.5.0",
            "_model_name": "DescriptionStyleModel",
            "_view_count": null,
            "_view_module": "@jupyter-widgets/base",
            "_view_module_version": "1.2.0",
            "_view_name": "StyleView",
            "description_width": ""
          }
        }
      }
    }
  },
  "cells": [
    {
      "cell_type": "markdown",
      "metadata": {
        "id": "view-in-github",
        "colab_type": "text"
      },
      "source": [
        "<a href=\"https://colab.research.google.com/github/Kim-Yeon-Jun/101_TF/blob/main/Ch1%262.ipynb\" target=\"_parent\"><img src=\"https://colab.research.google.com/assets/colab-badge.svg\" alt=\"Open In Colab\"/></a>"
      ]
    },
    {
      "cell_type": "markdown",
      "source": [
        "# 허깅페이스 트랜스포머 라이브러리 설치"
      ],
      "metadata": {
        "id": "E-UXcuayGZi_"
      }
    },
    {
      "cell_type": "code",
      "execution_count": 1,
      "metadata": {
        "colab": {
          "base_uri": "https://localhost:8080/"
        },
        "id": "w9f-bzu_GQ0w",
        "outputId": "45360013-9eb6-4281-84c4-8c24e5e775ca"
      },
      "outputs": [
        {
          "output_type": "stream",
          "name": "stdout",
          "text": [
            "Requirement already satisfied: transformers in /usr/local/lib/python3.10/dist-packages (4.35.2)\n",
            "Requirement already satisfied: filelock in /usr/local/lib/python3.10/dist-packages (from transformers) (3.13.1)\n",
            "Requirement already satisfied: huggingface-hub<1.0,>=0.16.4 in /usr/local/lib/python3.10/dist-packages (from transformers) (0.20.3)\n",
            "Requirement already satisfied: numpy>=1.17 in /usr/local/lib/python3.10/dist-packages (from transformers) (1.23.5)\n",
            "Requirement already satisfied: packaging>=20.0 in /usr/local/lib/python3.10/dist-packages (from transformers) (23.2)\n",
            "Requirement already satisfied: pyyaml>=5.1 in /usr/local/lib/python3.10/dist-packages (from transformers) (6.0.1)\n",
            "Requirement already satisfied: regex!=2019.12.17 in /usr/local/lib/python3.10/dist-packages (from transformers) (2023.12.25)\n",
            "Requirement already satisfied: requests in /usr/local/lib/python3.10/dist-packages (from transformers) (2.31.0)\n",
            "Requirement already satisfied: tokenizers<0.19,>=0.14 in /usr/local/lib/python3.10/dist-packages (from transformers) (0.15.1)\n",
            "Requirement already satisfied: safetensors>=0.3.1 in /usr/local/lib/python3.10/dist-packages (from transformers) (0.4.2)\n",
            "Requirement already satisfied: tqdm>=4.27 in /usr/local/lib/python3.10/dist-packages (from transformers) (4.66.1)\n",
            "Requirement already satisfied: fsspec>=2023.5.0 in /usr/local/lib/python3.10/dist-packages (from huggingface-hub<1.0,>=0.16.4->transformers) (2023.6.0)\n",
            "Requirement already satisfied: typing-extensions>=3.7.4.3 in /usr/local/lib/python3.10/dist-packages (from huggingface-hub<1.0,>=0.16.4->transformers) (4.5.0)\n",
            "Requirement already satisfied: charset-normalizer<4,>=2 in /usr/local/lib/python3.10/dist-packages (from requests->transformers) (3.3.2)\n",
            "Requirement already satisfied: idna<4,>=2.5 in /usr/local/lib/python3.10/dist-packages (from requests->transformers) (3.6)\n",
            "Requirement already satisfied: urllib3<3,>=1.21.1 in /usr/local/lib/python3.10/dist-packages (from requests->transformers) (2.0.7)\n",
            "Requirement already satisfied: certifi>=2017.4.17 in /usr/local/lib/python3.10/dist-packages (from requests->transformers) (2023.11.17)\n"
          ]
        }
      ],
      "source": [
        "!pip install transformers"
      ]
    },
    {
      "cell_type": "code",
      "source": [
        "# transformers 버전 확인\n",
        "import transformers\n",
        "print(transformers.__version__)"
      ],
      "metadata": {
        "colab": {
          "base_uri": "https://localhost:8080/"
        },
        "id": "UJsM1shCGdSt",
        "outputId": "bb77703b-cec0-45f9-ca29-e2beb1b8533c"
      },
      "execution_count": 2,
      "outputs": [
        {
          "output_type": "stream",
          "name": "stdout",
          "text": [
            "4.35.2\n"
          ]
        }
      ]
    },
    {
      "cell_type": "markdown",
      "source": [
        "# Distilbert 모델"
      ],
      "metadata": {
        "id": "eIIKCs2RGvpk"
      }
    },
    {
      "cell_type": "markdown",
      "source": [
        "## 감성분석(sentiment-analysis)"
      ],
      "metadata": {
        "id": "BU29R2i5Ks6H"
      }
    },
    {
      "cell_type": "code",
      "source": [
        "from transformers import pipeline\n",
        "sentiment = pipeline('sentiment-analysis')"
      ],
      "metadata": {
        "colab": {
          "base_uri": "https://localhost:8080/"
        },
        "id": "gd6TkZhUGqyX",
        "outputId": "8e60f905-9284-4344-b0bd-bf85af453d27"
      },
      "execution_count": 3,
      "outputs": [
        {
          "output_type": "stream",
          "name": "stderr",
          "text": [
            "No model was supplied, defaulted to distilbert-base-uncased-finetuned-sst-2-english and revision af0f99b (https://huggingface.co/distilbert-base-uncased-finetuned-sst-2-english).\n",
            "Using a pipeline without specifying a model name and revision in production is not recommended.\n",
            "/usr/local/lib/python3.10/dist-packages/huggingface_hub/utils/_token.py:88: UserWarning: \n",
            "The secret `HF_TOKEN` does not exist in your Colab secrets.\n",
            "To authenticate with the Hugging Face Hub, create a token in your settings tab (https://huggingface.co/settings/tokens), set it as secret in your Google Colab and restart your session.\n",
            "You will be able to reuse this secret in all of your notebooks.\n",
            "Please note that authentication is recommended but still optional to access public models or datasets.\n",
            "  warnings.warn(\n"
          ]
        }
      ]
    },
    {
      "cell_type": "code",
      "source": [
        "sentiment.model"
      ],
      "metadata": {
        "colab": {
          "base_uri": "https://localhost:8080/"
        },
        "id": "8h1kHb8vG99H",
        "outputId": "90fe85a8-63df-4c32-b572-04b3eb071331"
      },
      "execution_count": 4,
      "outputs": [
        {
          "output_type": "execute_result",
          "data": {
            "text/plain": [
              "DistilBertForSequenceClassification(\n",
              "  (distilbert): DistilBertModel(\n",
              "    (embeddings): Embeddings(\n",
              "      (word_embeddings): Embedding(30522, 768, padding_idx=0)\n",
              "      (position_embeddings): Embedding(512, 768)\n",
              "      (LayerNorm): LayerNorm((768,), eps=1e-12, elementwise_affine=True)\n",
              "      (dropout): Dropout(p=0.1, inplace=False)\n",
              "    )\n",
              "    (transformer): Transformer(\n",
              "      (layer): ModuleList(\n",
              "        (0-5): 6 x TransformerBlock(\n",
              "          (attention): MultiHeadSelfAttention(\n",
              "            (dropout): Dropout(p=0.1, inplace=False)\n",
              "            (q_lin): Linear(in_features=768, out_features=768, bias=True)\n",
              "            (k_lin): Linear(in_features=768, out_features=768, bias=True)\n",
              "            (v_lin): Linear(in_features=768, out_features=768, bias=True)\n",
              "            (out_lin): Linear(in_features=768, out_features=768, bias=True)\n",
              "          )\n",
              "          (sa_layer_norm): LayerNorm((768,), eps=1e-12, elementwise_affine=True)\n",
              "          (ffn): FFN(\n",
              "            (dropout): Dropout(p=0.1, inplace=False)\n",
              "            (lin1): Linear(in_features=768, out_features=3072, bias=True)\n",
              "            (lin2): Linear(in_features=3072, out_features=768, bias=True)\n",
              "            (activation): GELUActivation()\n",
              "          )\n",
              "          (output_layer_norm): LayerNorm((768,), eps=1e-12, elementwise_affine=True)\n",
              "        )\n",
              "      )\n",
              "    )\n",
              "  )\n",
              "  (pre_classifier): Linear(in_features=768, out_features=768, bias=True)\n",
              "  (classifier): Linear(in_features=768, out_features=2, bias=True)\n",
              "  (dropout): Dropout(p=0.2, inplace=False)\n",
              ")"
            ]
          },
          "metadata": {},
          "execution_count": 4
        }
      ]
    },
    {
      "cell_type": "code",
      "source": [
        "# sentiment 모델에 input(문장)을 넣고 감성분석 결과 출력\n",
        "print(sentiment([\"I like Olympic games as it's very exciting.\"]))\n",
        "val1 = sentiment([\"I like Olympic games as it's very exciting.\"])\n",
        "print(val1[0]['label'])\n",
        "print(sentiment([\"I'm against to hold Olympic games in Tokyo in terms of preventing the covid19 to be spread \"]))\n",
        "val2 = sentiment([\"I'm against to hold Olympic games in Tokyo in terms of preventing the covid19 to be spread \"])\n",
        "print(val2[0]['label'])"
      ],
      "metadata": {
        "colab": {
          "base_uri": "https://localhost:8080/"
        },
        "id": "CF36nVj0HgJa",
        "outputId": "88283520-edd6-445c-eb0b-2b4c57cdc594"
      },
      "execution_count": 5,
      "outputs": [
        {
          "output_type": "stream",
          "name": "stdout",
          "text": [
            "[{'label': 'POSITIVE', 'score': 0.9998026490211487}]\n",
            "POSITIVE\n",
            "[{'label': 'NEGATIVE', 'score': 0.9758422374725342}]\n",
            "NEGATIVE\n"
          ]
        }
      ]
    },
    {
      "cell_type": "code",
      "source": [
        "def get_sen(x):\n",
        "  return x[0]['label']"
      ],
      "metadata": {
        "id": "xP96yEPgIE5o"
      },
      "execution_count": 6,
      "outputs": []
    },
    {
      "cell_type": "code",
      "source": [
        "def get_sen2(x):\n",
        "  y = sentiment([f\"{x}\"])\n",
        "  return y[0]['label']"
      ],
      "metadata": {
        "id": "djIXKAS1JoE5"
      },
      "execution_count": 7,
      "outputs": []
    },
    {
      "cell_type": "code",
      "source": [
        "# val1 = sentiment([\"I like Olympic games as it's very exciting.\"])\n",
        "# val1 = get_sen(val1)\n",
        "val1 = get_sen(sentiment([\"I like Olympic games as it's very exciting.\"]))\n",
        "print(val1)\n",
        "val1 = get_sen2(\"I like Olympic games as it's very exciting.\")\n",
        "print(val1)"
      ],
      "metadata": {
        "colab": {
          "base_uri": "https://localhost:8080/"
        },
        "id": "5Wqb9KJsJPWG",
        "outputId": "805ec379-08d8-4c2b-cbfa-bb2cbaeea3ae"
      },
      "execution_count": 8,
      "outputs": [
        {
          "output_type": "stream",
          "name": "stdout",
          "text": [
            "POSITIVE\n",
            "POSITIVE\n"
          ]
        }
      ]
    },
    {
      "cell_type": "markdown",
      "source": [
        "# 질의응답(questoin-answering)"
      ],
      "metadata": {
        "id": "5emWTMTwKiUP"
      }
    },
    {
      "cell_type": "code",
      "source": [
        "from transformers import pipeline\n",
        "qa = pipeline(\"question-answering\")\n",
        "qa_pipeline = pipeline('question-answering', model='distilbert-base-cased-distilled-squad', tokenizer='distilbert-base-cased-distilled-squad')"
      ],
      "metadata": {
        "colab": {
          "base_uri": "https://localhost:8080/"
        },
        "id": "rGLVsneAJTkz",
        "outputId": "f86deae6-2742-4407-aa3d-624ec37c5ac0"
      },
      "execution_count": 9,
      "outputs": [
        {
          "output_type": "stream",
          "name": "stderr",
          "text": [
            "No model was supplied, defaulted to distilbert-base-cased-distilled-squad and revision 626af31 (https://huggingface.co/distilbert-base-cased-distilled-squad).\n",
            "Using a pipeline without specifying a model name and revision in production is not recommended.\n"
          ]
        }
      ]
    },
    {
      "cell_type": "code",
      "source": [
        "hp_text = \"\"\"Harry Potter is a series of seven fantasy novels written by British author J. K. Rowling.\n",
        "The novels chronicle the lives of a young wizard, Harry Potter, and his friends Hermione Granger and Ron Weasley, all of whom are students at Hogwarts School of Witchcraft and Wizardry.\n",
        "The main story arc concerns Harry's conflict with Lord Voldemort, a dark wizard who intends to become immortal, overthrow the wizard governing body known as the Ministry of Magic, and subjugate all wizards and Muggles (non-magical people).\n",
        "The series was originally published in English by Bloomsbury in the United Kingdom and Scholastic Press in the United States.\n",
        "A series of many genres, including fantasy, drama, coming-of-age fiction, and the British school story (which includes elements of mystery, thriller, adventure, horror, and romance),\n",
        "the world of Harry Potter explores numerous themes and includes many cultural meanings and references. Major themes in the series include prejudice, corruption, madness, and death.\n",
        "Since the release of the first novel, Harry Potter and the Philosopher's Stone, on 26 June 1997, the books have found immense popularity, positive reviews, and commercial success worldwide.\n",
        "They have attracted a wide adult audience as well as younger readers, and are widely considered cornerstones of modern literature.\n",
        "As of February 2023, the books have sold more than 600 million copies worldwide, making them the best-selling book series in history, and have been available in 85 languages.\n",
        "The last four books consecutively set records as the fastest-selling books in history,\n",
        "with the final instalment selling roughly 2.7 million copies in the United Kingdom and 8.3 million copies in the United States within twenty-four hours of its release.\n",
        "The original seven books were adapted into an eight-part namesake film series by Warner Bros.\n",
        "Pictures. In 2016, the total value of the Harry Potter franchise was estimated at $25 billion, making Harry Potter one of the highest-grossing media franchises of all time.\n",
        "Harry Potter and the Cursed Child is a play based on a story co-written by Rowling\n",
        "The success of the books and films has allowed the Harry Potter franchise to expand with numerous derivative works, a travelling exhibition that premiered in Chicago in 2009,\n",
        "a studio tour in London that opened in 2012, a digital platform on which J. K. Rowling updates the series with new information and insight,\n",
        "and a trilogy of spin-off films premiering in November 2016 with Fantastic Beasts and Where to Find Them, among many other developments.\n",
        "Themed attractions, collectively known as The Wizarding World of Harry Potter, have been built at several Universal Destinations & Experiences amusement parks around the world. \"\"\"\n",
        "\n",
        "print(qa(question=\"What is Harry Potter\", context=hp_text))"
      ],
      "metadata": {
        "colab": {
          "base_uri": "https://localhost:8080/"
        },
        "id": "tNh4dReGK-8e",
        "outputId": "0aa489d2-3cac-491e-d7d4-8a953c169cb1"
      },
      "execution_count": 10,
      "outputs": [
        {
          "output_type": "stream",
          "name": "stdout",
          "text": [
            "{'score': 0.03481048718094826, 'start': 1966, 'end': 2022, 'answer': 'one of the highest-grossing media franchises of all time'}\n"
          ]
        }
      ]
    },
    {
      "cell_type": "code",
      "source": [
        "qa.model"
      ],
      "metadata": {
        "colab": {
          "base_uri": "https://localhost:8080/"
        },
        "id": "lNLzD21rOAAB",
        "outputId": "b636ef58-be1a-4f9c-f0bf-e7fa27937899"
      },
      "execution_count": 11,
      "outputs": [
        {
          "output_type": "execute_result",
          "data": {
            "text/plain": [
              "DistilBertForQuestionAnswering(\n",
              "  (distilbert): DistilBertModel(\n",
              "    (embeddings): Embeddings(\n",
              "      (word_embeddings): Embedding(28996, 768, padding_idx=0)\n",
              "      (position_embeddings): Embedding(512, 768)\n",
              "      (LayerNorm): LayerNorm((768,), eps=1e-12, elementwise_affine=True)\n",
              "      (dropout): Dropout(p=0.1, inplace=False)\n",
              "    )\n",
              "    (transformer): Transformer(\n",
              "      (layer): ModuleList(\n",
              "        (0-5): 6 x TransformerBlock(\n",
              "          (attention): MultiHeadSelfAttention(\n",
              "            (dropout): Dropout(p=0.1, inplace=False)\n",
              "            (q_lin): Linear(in_features=768, out_features=768, bias=True)\n",
              "            (k_lin): Linear(in_features=768, out_features=768, bias=True)\n",
              "            (v_lin): Linear(in_features=768, out_features=768, bias=True)\n",
              "            (out_lin): Linear(in_features=768, out_features=768, bias=True)\n",
              "          )\n",
              "          (sa_layer_norm): LayerNorm((768,), eps=1e-12, elementwise_affine=True)\n",
              "          (ffn): FFN(\n",
              "            (dropout): Dropout(p=0.1, inplace=False)\n",
              "            (lin1): Linear(in_features=768, out_features=3072, bias=True)\n",
              "            (lin2): Linear(in_features=3072, out_features=768, bias=True)\n",
              "            (activation): GELUActivation()\n",
              "          )\n",
              "          (output_layer_norm): LayerNorm((768,), eps=1e-12, elementwise_affine=True)\n",
              "        )\n",
              "      )\n",
              "    )\n",
              "  )\n",
              "  (qa_outputs): Linear(in_features=768, out_features=2, bias=True)\n",
              "  (dropout): Dropout(p=0.1, inplace=False)\n",
              ")"
            ]
          },
          "metadata": {},
          "execution_count": 11
        }
      ]
    },
    {
      "cell_type": "markdown",
      "source": [
        "## GPU 설정 확인"
      ],
      "metadata": {
        "id": "c-oWhOQdPifP"
      }
    },
    {
      "cell_type": "code",
      "source": [
        "import torch\n",
        "device = \"cuda\" if torch.cuda.is_available() else \"cpu\"\n",
        "print(device)"
      ],
      "metadata": {
        "colab": {
          "base_uri": "https://localhost:8080/"
        },
        "id": "WgkxOtajODma",
        "outputId": "5c7074f8-bdfd-4f12-da29-b1c02534ee47"
      },
      "execution_count": 12,
      "outputs": [
        {
          "output_type": "stream",
          "name": "stdout",
          "text": [
            "cuda\n"
          ]
        }
      ]
    },
    {
      "cell_type": "markdown",
      "source": [
        "## IMDB Dataset"
      ],
      "metadata": {
        "id": "X-yMKGyMPmpJ"
      }
    },
    {
      "cell_type": "code",
      "source": [
        "!pip install torchtext\n",
        "import torchtext\n",
        "print(torch.__version__)"
      ],
      "metadata": {
        "colab": {
          "base_uri": "https://localhost:8080/"
        },
        "id": "zVEDhlksPO2b",
        "outputId": "db913254-b631-430f-fcb4-77554ec370bd"
      },
      "execution_count": 13,
      "outputs": [
        {
          "output_type": "stream",
          "name": "stdout",
          "text": [
            "Requirement already satisfied: torchtext in /usr/local/lib/python3.10/dist-packages (0.16.0)\n",
            "Requirement already satisfied: tqdm in /usr/local/lib/python3.10/dist-packages (from torchtext) (4.66.1)\n",
            "Requirement already satisfied: requests in /usr/local/lib/python3.10/dist-packages (from torchtext) (2.31.0)\n",
            "Requirement already satisfied: torch==2.1.0 in /usr/local/lib/python3.10/dist-packages (from torchtext) (2.1.0+cu121)\n",
            "Requirement already satisfied: numpy in /usr/local/lib/python3.10/dist-packages (from torchtext) (1.23.5)\n",
            "Requirement already satisfied: torchdata==0.7.0 in /usr/local/lib/python3.10/dist-packages (from torchtext) (0.7.0)\n",
            "Requirement already satisfied: filelock in /usr/local/lib/python3.10/dist-packages (from torch==2.1.0->torchtext) (3.13.1)\n",
            "Requirement already satisfied: typing-extensions in /usr/local/lib/python3.10/dist-packages (from torch==2.1.0->torchtext) (4.5.0)\n",
            "Requirement already satisfied: sympy in /usr/local/lib/python3.10/dist-packages (from torch==2.1.0->torchtext) (1.12)\n",
            "Requirement already satisfied: networkx in /usr/local/lib/python3.10/dist-packages (from torch==2.1.0->torchtext) (3.2.1)\n",
            "Requirement already satisfied: jinja2 in /usr/local/lib/python3.10/dist-packages (from torch==2.1.0->torchtext) (3.1.3)\n",
            "Requirement already satisfied: fsspec in /usr/local/lib/python3.10/dist-packages (from torch==2.1.0->torchtext) (2023.6.0)\n",
            "Requirement already satisfied: triton==2.1.0 in /usr/local/lib/python3.10/dist-packages (from torch==2.1.0->torchtext) (2.1.0)\n",
            "Requirement already satisfied: urllib3>=1.25 in /usr/local/lib/python3.10/dist-packages (from torchdata==0.7.0->torchtext) (2.0.7)\n",
            "Requirement already satisfied: charset-normalizer<4,>=2 in /usr/local/lib/python3.10/dist-packages (from requests->torchtext) (3.3.2)\n",
            "Requirement already satisfied: idna<4,>=2.5 in /usr/local/lib/python3.10/dist-packages (from requests->torchtext) (3.6)\n",
            "Requirement already satisfied: certifi>=2017.4.17 in /usr/local/lib/python3.10/dist-packages (from requests->torchtext) (2023.11.17)\n",
            "Requirement already satisfied: MarkupSafe>=2.0 in /usr/local/lib/python3.10/dist-packages (from jinja2->torch==2.1.0->torchtext) (2.1.4)\n",
            "Requirement already satisfied: mpmath>=0.19 in /usr/local/lib/python3.10/dist-packages (from sympy->torch==2.1.0->torchtext) (1.3.0)\n",
            "2.1.0+cu121\n"
          ]
        }
      ]
    },
    {
      "cell_type": "code",
      "source": [
        "!pip install portalocker\n",
        "import portalocker\n",
        "print(portalocker.__version__)"
      ],
      "metadata": {
        "colab": {
          "base_uri": "https://localhost:8080/"
        },
        "id": "bONd2NrmP-Co",
        "outputId": "f568658e-ea5e-47fd-d8a5-2021fc50740e"
      },
      "execution_count": 14,
      "outputs": [
        {
          "output_type": "stream",
          "name": "stdout",
          "text": [
            "Requirement already satisfied: portalocker in /usr/local/lib/python3.10/dist-packages (2.8.2)\n",
            "2.8.2\n"
          ]
        }
      ]
    },
    {
      "cell_type": "code",
      "source": [
        "!pip install accelerate -U\n",
        "import accelerate\n",
        "print(accelerate.__version__)"
      ],
      "metadata": {
        "colab": {
          "base_uri": "https://localhost:8080/"
        },
        "id": "QP4H9wubQJ9w",
        "outputId": "2e281faf-ece5-4e7c-e3b1-5d646bff8c90"
      },
      "execution_count": 15,
      "outputs": [
        {
          "output_type": "stream",
          "name": "stdout",
          "text": [
            "Requirement already satisfied: accelerate in /usr/local/lib/python3.10/dist-packages (0.26.1)\n",
            "Requirement already satisfied: numpy>=1.17 in /usr/local/lib/python3.10/dist-packages (from accelerate) (1.23.5)\n",
            "Requirement already satisfied: packaging>=20.0 in /usr/local/lib/python3.10/dist-packages (from accelerate) (23.2)\n",
            "Requirement already satisfied: psutil in /usr/local/lib/python3.10/dist-packages (from accelerate) (5.9.5)\n",
            "Requirement already satisfied: pyyaml in /usr/local/lib/python3.10/dist-packages (from accelerate) (6.0.1)\n",
            "Requirement already satisfied: torch>=1.10.0 in /usr/local/lib/python3.10/dist-packages (from accelerate) (2.1.0+cu121)\n",
            "Requirement already satisfied: huggingface-hub in /usr/local/lib/python3.10/dist-packages (from accelerate) (0.20.3)\n",
            "Requirement already satisfied: safetensors>=0.3.1 in /usr/local/lib/python3.10/dist-packages (from accelerate) (0.4.2)\n",
            "Requirement already satisfied: filelock in /usr/local/lib/python3.10/dist-packages (from torch>=1.10.0->accelerate) (3.13.1)\n",
            "Requirement already satisfied: typing-extensions in /usr/local/lib/python3.10/dist-packages (from torch>=1.10.0->accelerate) (4.5.0)\n",
            "Requirement already satisfied: sympy in /usr/local/lib/python3.10/dist-packages (from torch>=1.10.0->accelerate) (1.12)\n",
            "Requirement already satisfied: networkx in /usr/local/lib/python3.10/dist-packages (from torch>=1.10.0->accelerate) (3.2.1)\n",
            "Requirement already satisfied: jinja2 in /usr/local/lib/python3.10/dist-packages (from torch>=1.10.0->accelerate) (3.1.3)\n",
            "Requirement already satisfied: fsspec in /usr/local/lib/python3.10/dist-packages (from torch>=1.10.0->accelerate) (2023.6.0)\n",
            "Requirement already satisfied: triton==2.1.0 in /usr/local/lib/python3.10/dist-packages (from torch>=1.10.0->accelerate) (2.1.0)\n",
            "Requirement already satisfied: requests in /usr/local/lib/python3.10/dist-packages (from huggingface-hub->accelerate) (2.31.0)\n",
            "Requirement already satisfied: tqdm>=4.42.1 in /usr/local/lib/python3.10/dist-packages (from huggingface-hub->accelerate) (4.66.1)\n",
            "Requirement already satisfied: MarkupSafe>=2.0 in /usr/local/lib/python3.10/dist-packages (from jinja2->torch>=1.10.0->accelerate) (2.1.4)\n",
            "Requirement already satisfied: charset-normalizer<4,>=2 in /usr/local/lib/python3.10/dist-packages (from requests->huggingface-hub->accelerate) (3.3.2)\n",
            "Requirement already satisfied: idna<4,>=2.5 in /usr/local/lib/python3.10/dist-packages (from requests->huggingface-hub->accelerate) (3.6)\n",
            "Requirement already satisfied: urllib3<3,>=1.21.1 in /usr/local/lib/python3.10/dist-packages (from requests->huggingface-hub->accelerate) (2.0.7)\n",
            "Requirement already satisfied: certifi>=2017.4.17 in /usr/local/lib/python3.10/dist-packages (from requests->huggingface-hub->accelerate) (2023.11.17)\n",
            "Requirement already satisfied: mpmath>=0.19 in /usr/local/lib/python3.10/dist-packages (from sympy->torch>=1.10.0->accelerate) (1.3.0)\n",
            "0.26.1\n"
          ]
        }
      ]
    },
    {
      "cell_type": "code",
      "source": [
        "from torchtext.datasets import IMDB\n",
        "\n",
        "train_iter = IMDB(split='train')\n",
        "test_iter = IMDB(split='test')"
      ],
      "metadata": {
        "id": "15EBL8PYQRlY"
      },
      "execution_count": 16,
      "outputs": []
    },
    {
      "cell_type": "code",
      "source": [
        "import random\n",
        "random.seed(6) # 항상 같은 결과가 나오도록 임의의 seed 값을 설정\n",
        "\n",
        "# 타입 변경\n",
        "train_lists = list(train_iter)\n",
        "test_lists = list(test_iter)\n",
        "# 각 1000개씩 샘플링\n",
        "train_lists_small = random.sample(train_lists, 1000)\n",
        "test_lists_small = random.sample(test_lists, 1000)\n",
        "# 각 리스트의 첫번째 원소 출력\n",
        "print(train_lists_small[0])\n",
        "print(test_lists_small[0])"
      ],
      "metadata": {
        "colab": {
          "base_uri": "https://localhost:8080/"
        },
        "id": "Qm6-MThRWJAH",
        "outputId": "7459aa6f-9e3c-4922-8c7b-7b5a0489dc9b"
      },
      "execution_count": 17,
      "outputs": [
        {
          "output_type": "stream",
          "name": "stdout",
          "text": [
            "(2, \"I LOVED this movie! I am biased seeing as I am a huge Disney fan, but I really enjoyed myself. The action takes off running in the beginning of the film and just keeps going! This is a bit of a departure for Disney, they don't spend quite as much time on character development (my husband pointed this out)and there are no musical numbers. It is strictly action adventure. I thoroughly enjoyed it and recommend it to anyone who loves Disney, be they young or old.\")\n",
            "(1, 'This was an abysmal show. In short it was about this kid called Doug who guilt-tripped a lot. Seriously he could feel guilty over killing a fly then feeling guilty over feeling guilty for killing the fly and so forth. The animation was grating and unpleasant and the jokes cheap. <br /><br />It aired here in Sweden as a part of the \"Disney time\" show and i remember liking it some what but then i turned 13.<br /><br />I never got why some of the characters were green and purple too. What was up with that? <br /><br />Truly a horrible show. Appareantly it spawned a movie which i\\'ve never seen but i don\\'t have any great expectations for that one either.')\n"
          ]
        }
      ]
    },
    {
      "cell_type": "markdown",
      "source": [
        "## 구분"
      ],
      "metadata": {
        "id": "feoHkYzTmSCg"
      }
    },
    {
      "cell_type": "markdown",
      "source": [
        "## label encoding"
      ],
      "metadata": {
        "id": "7nGdAylxSrJm"
      }
    },
    {
      "cell_type": "code",
      "source": [
        "train_texts = []\n",
        "train_labels = []\n",
        "\n",
        "for label, text in train_lists_small:\n",
        "  train_labels.append(1 if label == 2 else 0)\n",
        "  train_texts.append(text)"
      ],
      "metadata": {
        "id": "bbunvvJbWmDp"
      },
      "execution_count": 18,
      "outputs": []
    },
    {
      "cell_type": "code",
      "source": [
        "test_texts = []\n",
        "test_labels = []\n",
        "\n",
        "for label, text in test_lists_small:\n",
        "  test_labels.append(1 if label == 2 else 0)\n",
        "  test_texts.append(text)"
      ],
      "metadata": {
        "id": "0cWWxsucTIZf"
      },
      "execution_count": 19,
      "outputs": []
    },
    {
      "cell_type": "code",
      "source": [
        "print(type(train_texts))\n",
        "print(type(train_labels))\n",
        "\n",
        "print(train_texts[0])\n",
        "print(train_labels[0])\n",
        "print(\"==============\")\n",
        "print(test_texts[0])\n",
        "print(test_labels[0])"
      ],
      "metadata": {
        "colab": {
          "base_uri": "https://localhost:8080/"
        },
        "id": "5savdLWoTVNE",
        "outputId": "93fa35a6-bc18-44e0-9a43-345d0a621215"
      },
      "execution_count": 20,
      "outputs": [
        {
          "output_type": "stream",
          "name": "stdout",
          "text": [
            "<class 'list'>\n",
            "<class 'list'>\n",
            "I LOVED this movie! I am biased seeing as I am a huge Disney fan, but I really enjoyed myself. The action takes off running in the beginning of the film and just keeps going! This is a bit of a departure for Disney, they don't spend quite as much time on character development (my husband pointed this out)and there are no musical numbers. It is strictly action adventure. I thoroughly enjoyed it and recommend it to anyone who loves Disney, be they young or old.\n",
            "1\n",
            "==============\n",
            "This was an abysmal show. In short it was about this kid called Doug who guilt-tripped a lot. Seriously he could feel guilty over killing a fly then feeling guilty over feeling guilty for killing the fly and so forth. The animation was grating and unpleasant and the jokes cheap. <br /><br />It aired here in Sweden as a part of the \"Disney time\" show and i remember liking it some what but then i turned 13.<br /><br />I never got why some of the characters were green and purple too. What was up with that? <br /><br />Truly a horrible show. Appareantly it spawned a movie which i've never seen but i don't have any great expectations for that one either.\n",
            "0\n"
          ]
        }
      ]
    },
    {
      "cell_type": "markdown",
      "source": [
        "## train test split"
      ],
      "metadata": {
        "id": "hVLu_us-Ut1a"
      }
    },
    {
      "cell_type": "code",
      "source": [
        "from sklearn.model_selection import train_test_split\n",
        "train_texts, val_texts, train_labels, val_labels = train_test_split(train_texts, train_labels, test_size=.2, random_state=3)\n",
        "print(len(train_texts))\n",
        "print(len(train_labels))\n",
        "print(len(val_texts))\n",
        "print(len(val_labels))"
      ],
      "metadata": {
        "colab": {
          "base_uri": "https://localhost:8080/"
        },
        "id": "AHXU2cX9Taon",
        "outputId": "17343786-3ec0-452b-fe60-456c4d507b73"
      },
      "execution_count": 21,
      "outputs": [
        {
          "output_type": "stream",
          "name": "stdout",
          "text": [
            "800\n",
            "800\n",
            "200\n",
            "200\n"
          ]
        }
      ]
    },
    {
      "cell_type": "markdown",
      "source": [
        "## 토크나이징(단어로 구분) & 인코딩(토큰->숫자)"
      ],
      "metadata": {
        "id": "klhcvIs7WAnO"
      }
    },
    {
      "cell_type": "code",
      "source": [
        "#distilbert-base-uncased 모델에서 토크나이저 불러오기\n",
        "from transformers import DistilBertTokenizerFast\n",
        "tokenizer = DistilBertTokenizerFast.from_pretrained('distilbert-base-uncased')"
      ],
      "metadata": {
        "id": "A6VY8DhxWPqS",
        "colab": {
          "base_uri": "https://localhost:8080/",
          "height": 145,
          "referenced_widgets": [
            "a60c43c372c34111a9dbfa4c17513b20",
            "5bcb400aa73a4d80b3cb25d689d519fb",
            "dab8c8446f5a4b8eb8c6356b58e59982",
            "92cd5f77a89b4a4d8a629f74a672920c",
            "5030693ee9e4489bab4f663d10841016",
            "a6b83e2d2cb34a92b91db5237439ad6f",
            "21d1bb169e9e4188b384531c99cd5a8f",
            "3fb8371843494775899949d271e73c31",
            "163c5dbecff74ef1b2339ff7e7cef536",
            "c44212184c1a4ec98cd43e0cc990b9f7",
            "0d1b1ed1fcca42c8917b7e85bd1f4a32",
            "aad7a7147daf4b2bb77ac5d2ae52b0e5",
            "40b5a8aa57af44aca70cb9603473a723",
            "35a7d38fb30a45d69c6a5f19e1160b76",
            "bccec45906ef4740b83b5daea60900fb",
            "03ae1ea297c64b50a94da91b966d27a1",
            "c99c616d9a1a4ac089ba49387159cab1",
            "43188255822c4a1da5ef688ef308f268",
            "ee7364a3eba645618554ded56a7c1cf7",
            "2592b74c250c4464a840466908b94b12",
            "fde3e5001c8342f5b7958310e94735bf",
            "8e524e408ad94a0fa74087eb5e66002e",
            "9e8bdcdafafa4b28821017e88c5ec78e",
            "188457cde7834c49a0e2025ecaede088",
            "b5f298ef54cf4da998c6a43d5538942d",
            "27da9ee5f0f74da8a697e7902428ce04",
            "5c88f58258b44f55998344780e7150ce",
            "06ac9064f52f4fd1815583b9d361ef3f",
            "a53cca92b81c4ae5940575339bac0386",
            "3a4d96ed18f247f8b79f1e5592848b11",
            "4e1d28d83238498286500b42b6f525b3",
            "df2f09777957476c85bc42dc2252f310",
            "ac0247cfe3a347afbc545214db400a9d",
            "4936a9bc4ae240b1968f7752820dfa4c",
            "13d53113a6514066a4da37feecd1d1cb",
            "2329f585903a46308c0c20f5a4e24473",
            "0943efa5f3e444a6873d458ea1f52a82",
            "42a116c5e39749c98c5aeb48577f91da",
            "215a4efa3689476f8bdec825a52b1adb",
            "14575794aacd45a6b06cc570c4eb729e",
            "70b6975d26da438abb89d9556afb4069",
            "24ef48a66f9148f3b56adc96a507cb26",
            "b333f0e78909457c9cf89729abb057e0",
            "fd8352346f7d45f9b53746777153c23c"
          ]
        },
        "outputId": "2b1a1ae9-792d-4ad4-9503-7499fc5bd99b"
      },
      "execution_count": 22,
      "outputs": [
        {
          "output_type": "display_data",
          "data": {
            "text/plain": [
              "tokenizer_config.json:   0%|          | 0.00/28.0 [00:00<?, ?B/s]"
            ],
            "application/vnd.jupyter.widget-view+json": {
              "version_major": 2,
              "version_minor": 0,
              "model_id": "a60c43c372c34111a9dbfa4c17513b20"
            }
          },
          "metadata": {}
        },
        {
          "output_type": "display_data",
          "data": {
            "text/plain": [
              "vocab.txt:   0%|          | 0.00/232k [00:00<?, ?B/s]"
            ],
            "application/vnd.jupyter.widget-view+json": {
              "version_major": 2,
              "version_minor": 0,
              "model_id": "aad7a7147daf4b2bb77ac5d2ae52b0e5"
            }
          },
          "metadata": {}
        },
        {
          "output_type": "display_data",
          "data": {
            "text/plain": [
              "tokenizer.json:   0%|          | 0.00/466k [00:00<?, ?B/s]"
            ],
            "application/vnd.jupyter.widget-view+json": {
              "version_major": 2,
              "version_minor": 0,
              "model_id": "9e8bdcdafafa4b28821017e88c5ec78e"
            }
          },
          "metadata": {}
        },
        {
          "output_type": "display_data",
          "data": {
            "text/plain": [
              "config.json:   0%|          | 0.00/483 [00:00<?, ?B/s]"
            ],
            "application/vnd.jupyter.widget-view+json": {
              "version_major": 2,
              "version_minor": 0,
              "model_id": "4936a9bc4ae240b1968f7752820dfa4c"
            }
          },
          "metadata": {}
        }
      ]
    },
    {
      "cell_type": "code",
      "source": [
        "train_encodings = tokenizer(train_texts, truncation=True, padding=True)\n",
        "val_encodings = tokenizer(val_texts, truncation=True, padding=True)\n",
        "test_encodings = tokenizer(test_texts, truncation=True, padding=True)\n",
        "\n",
        "# 0번째 입력문(txt)의 5번째 토큰까지의 input_ids 출력\n",
        "print(train_encodings[\"input_ids\"][0][:5])\n",
        "\n",
        "# 위의 내용을 디코딩하여 출력\n",
        "print(tokenizer.decode(train_encodings[\"input_ids\"][0][:5]))"
      ],
      "metadata": {
        "id": "MeCSq7kgVa6Z",
        "colab": {
          "base_uri": "https://localhost:8080/"
        },
        "outputId": "ffb086bf-a182-41ea-a054-1fa248aa882f"
      },
      "execution_count": 23,
      "outputs": [
        {
          "output_type": "stream",
          "name": "stdout",
          "text": [
            "[101, 4937, 11350, 2038, 2048]\n",
            "[CLS] cat soup has two\n"
          ]
        }
      ]
    },
    {
      "cell_type": "markdown",
      "source": [
        "## dataset class 생성"
      ],
      "metadata": {
        "id": "PFkj_fhwYPsK"
      }
    },
    {
      "cell_type": "code",
      "source": [
        "import torch\n",
        "\n",
        "class IMDbDataset(torch.utils.data.Dataset):\n",
        "\n",
        "  def __init__(self, encodings, labels):\n",
        "    self.encodings = encodings\n",
        "    self.labels = labels\n",
        "\n",
        "  def __getitem__(self, idx):\n",
        "    item = {key : torch.tensor(val[idx]) for key, val in self.encodings.items()}\n",
        "\n",
        "    item['labels'] = torch.tensor(self.labels[idx])\n",
        "    return item\n",
        "\n",
        "  def __len__(self):\n",
        "    return len(self.labels)\n",
        "\n",
        "train_dataset = IMDbDataset(train_encodings, train_labels)\n",
        "val_dataset = IMDbDataset(val_encodings, val_labels)\n",
        "test_dataset = IMDbDataset(test_encodings, test_labels)"
      ],
      "metadata": {
        "id": "JO2q7VgTYKRi"
      },
      "execution_count": 24,
      "outputs": []
    },
    {
      "cell_type": "code",
      "source": [
        "for i in train_dataset:\n",
        "  print(i)\n",
        "  break"
      ],
      "metadata": {
        "colab": {
          "base_uri": "https://localhost:8080/"
        },
        "id": "mkY9-50JbuYl",
        "outputId": "dc2022ee-7d68-4f61-c3b7-af69549f7860"
      },
      "execution_count": 25,
      "outputs": [
        {
          "output_type": "stream",
          "name": "stdout",
          "text": [
            "{'input_ids': tensor([  101,  4937, 11350,  2038,  2048,  1000,  7592, 14433,  1000,  1011,\n",
            "         2828, 18401,  2015, 28866,  2075,  2006,  1037, 13576,  4440,  2083,\n",
            "         1996, 25115,  1010,  2073,  2505,  2064,  4148,  1010,  1998,  2515,\n",
            "         1012,  2023,  2568,  1011,  4440,  4691,  4004,  2460,  3594,  2053,\n",
            "        13764,  8649,  1010,  4942, 21532,  2773, 22163,  2612,  1012,  2045,\n",
            "         2003,  2053,  2126,  1997,  7851,  2023, 17183, 14088,  9476,  3272,\n",
            "         2000,  2425,  2017,  2000,  2156,  2009,  2005,  4426,  1012,  1998,\n",
            "         2191,  2469,  2053,  2028,  2104,  2184,  2003,  1999,  1996,  2282,\n",
            "         1012,  4487,  6491,  6633,  5677,  3672,  1998,  2064,  3490, 10264,\n",
            "         2964,  1998, 18186,  1998,  9576,  2854,  1998,  5573,  2331,  1998,\n",
            "         2655,  3560, 27770,  2005,  2500,  2024,  2691,  6991,  1012,  7481,\n",
            "         1012,  3383,  1996,  2087, 13432,  3746,  2003,  2008,  1997,  2019,\n",
            "        10777,  3605,  1997,  2300,  2008,  1996,  8934,  7368,  9880,  2083,\n",
            "         1998,  1999,  1010,  1998,  2036,  4536,  1012,  2021,  2066,  8134,\n",
            "         2673,  2842,  1999,  2023,  2143,  1010,  2008, 10021,  1010, 27263,\n",
            "        17933,  4226, 25347,  2574,  3310,  2000,  1037,  9202,  2203,  1012,\n",
            "          102,     0,     0,     0,     0,     0,     0,     0,     0,     0,\n",
            "            0,     0,     0,     0,     0,     0,     0,     0,     0,     0,\n",
            "            0,     0,     0,     0,     0,     0,     0,     0,     0,     0,\n",
            "            0,     0,     0,     0,     0,     0,     0,     0,     0,     0,\n",
            "            0,     0,     0,     0,     0,     0,     0,     0,     0,     0,\n",
            "            0,     0,     0,     0,     0,     0,     0,     0,     0,     0,\n",
            "            0,     0,     0,     0,     0,     0,     0,     0,     0,     0,\n",
            "            0,     0,     0,     0,     0,     0,     0,     0,     0,     0,\n",
            "            0,     0,     0,     0,     0,     0,     0,     0,     0,     0,\n",
            "            0,     0,     0,     0,     0,     0,     0,     0,     0,     0,\n",
            "            0,     0,     0,     0,     0,     0,     0,     0,     0,     0,\n",
            "            0,     0,     0,     0,     0,     0,     0,     0,     0,     0,\n",
            "            0,     0,     0,     0,     0,     0,     0,     0,     0,     0,\n",
            "            0,     0,     0,     0,     0,     0,     0,     0,     0,     0,\n",
            "            0,     0,     0,     0,     0,     0,     0,     0,     0,     0,\n",
            "            0,     0,     0,     0,     0,     0,     0,     0,     0,     0,\n",
            "            0,     0,     0,     0,     0,     0,     0,     0,     0,     0,\n",
            "            0,     0,     0,     0,     0,     0,     0,     0,     0,     0,\n",
            "            0,     0,     0,     0,     0,     0,     0,     0,     0,     0,\n",
            "            0,     0,     0,     0,     0,     0,     0,     0,     0,     0,\n",
            "            0,     0,     0,     0,     0,     0,     0,     0,     0,     0,\n",
            "            0,     0,     0,     0,     0,     0,     0,     0,     0,     0,\n",
            "            0,     0,     0,     0,     0,     0,     0,     0,     0,     0,\n",
            "            0,     0,     0,     0,     0,     0,     0,     0,     0,     0,\n",
            "            0,     0,     0,     0,     0,     0,     0,     0,     0,     0,\n",
            "            0,     0,     0,     0,     0,     0,     0,     0,     0,     0,\n",
            "            0,     0,     0,     0,     0,     0,     0,     0,     0,     0,\n",
            "            0,     0,     0,     0,     0,     0,     0,     0,     0,     0,\n",
            "            0,     0,     0,     0,     0,     0,     0,     0,     0,     0,\n",
            "            0,     0,     0,     0,     0,     0,     0,     0,     0,     0,\n",
            "            0,     0,     0,     0,     0,     0,     0,     0,     0,     0,\n",
            "            0,     0,     0,     0,     0,     0,     0,     0,     0,     0,\n",
            "            0,     0,     0,     0,     0,     0,     0,     0,     0,     0,\n",
            "            0,     0,     0,     0,     0,     0,     0,     0,     0,     0,\n",
            "            0,     0,     0,     0,     0,     0,     0,     0,     0,     0,\n",
            "            0,     0]), 'attention_mask': tensor([1, 1, 1, 1, 1, 1, 1, 1, 1, 1, 1, 1, 1, 1, 1, 1, 1, 1, 1, 1, 1, 1, 1, 1,\n",
            "        1, 1, 1, 1, 1, 1, 1, 1, 1, 1, 1, 1, 1, 1, 1, 1, 1, 1, 1, 1, 1, 1, 1, 1,\n",
            "        1, 1, 1, 1, 1, 1, 1, 1, 1, 1, 1, 1, 1, 1, 1, 1, 1, 1, 1, 1, 1, 1, 1, 1,\n",
            "        1, 1, 1, 1, 1, 1, 1, 1, 1, 1, 1, 1, 1, 1, 1, 1, 1, 1, 1, 1, 1, 1, 1, 1,\n",
            "        1, 1, 1, 1, 1, 1, 1, 1, 1, 1, 1, 1, 1, 1, 1, 1, 1, 1, 1, 1, 1, 1, 1, 1,\n",
            "        1, 1, 1, 1, 1, 1, 1, 1, 1, 1, 1, 1, 1, 1, 1, 1, 1, 1, 1, 1, 1, 1, 1, 1,\n",
            "        1, 1, 1, 1, 1, 1, 1, 1, 1, 1, 1, 1, 1, 1, 1, 1, 1, 0, 0, 0, 0, 0, 0, 0,\n",
            "        0, 0, 0, 0, 0, 0, 0, 0, 0, 0, 0, 0, 0, 0, 0, 0, 0, 0, 0, 0, 0, 0, 0, 0,\n",
            "        0, 0, 0, 0, 0, 0, 0, 0, 0, 0, 0, 0, 0, 0, 0, 0, 0, 0, 0, 0, 0, 0, 0, 0,\n",
            "        0, 0, 0, 0, 0, 0, 0, 0, 0, 0, 0, 0, 0, 0, 0, 0, 0, 0, 0, 0, 0, 0, 0, 0,\n",
            "        0, 0, 0, 0, 0, 0, 0, 0, 0, 0, 0, 0, 0, 0, 0, 0, 0, 0, 0, 0, 0, 0, 0, 0,\n",
            "        0, 0, 0, 0, 0, 0, 0, 0, 0, 0, 0, 0, 0, 0, 0, 0, 0, 0, 0, 0, 0, 0, 0, 0,\n",
            "        0, 0, 0, 0, 0, 0, 0, 0, 0, 0, 0, 0, 0, 0, 0, 0, 0, 0, 0, 0, 0, 0, 0, 0,\n",
            "        0, 0, 0, 0, 0, 0, 0, 0, 0, 0, 0, 0, 0, 0, 0, 0, 0, 0, 0, 0, 0, 0, 0, 0,\n",
            "        0, 0, 0, 0, 0, 0, 0, 0, 0, 0, 0, 0, 0, 0, 0, 0, 0, 0, 0, 0, 0, 0, 0, 0,\n",
            "        0, 0, 0, 0, 0, 0, 0, 0, 0, 0, 0, 0, 0, 0, 0, 0, 0, 0, 0, 0, 0, 0, 0, 0,\n",
            "        0, 0, 0, 0, 0, 0, 0, 0, 0, 0, 0, 0, 0, 0, 0, 0, 0, 0, 0, 0, 0, 0, 0, 0,\n",
            "        0, 0, 0, 0, 0, 0, 0, 0, 0, 0, 0, 0, 0, 0, 0, 0, 0, 0, 0, 0, 0, 0, 0, 0,\n",
            "        0, 0, 0, 0, 0, 0, 0, 0, 0, 0, 0, 0, 0, 0, 0, 0, 0, 0, 0, 0, 0, 0, 0, 0,\n",
            "        0, 0, 0, 0, 0, 0, 0, 0, 0, 0, 0, 0, 0, 0, 0, 0, 0, 0, 0, 0, 0, 0, 0, 0,\n",
            "        0, 0, 0, 0, 0, 0, 0, 0, 0, 0, 0, 0, 0, 0, 0, 0, 0, 0, 0, 0, 0, 0, 0, 0,\n",
            "        0, 0, 0, 0, 0, 0, 0, 0]), 'labels': tensor(1)}\n"
          ]
        }
      ]
    },
    {
      "cell_type": "markdown",
      "source": [
        "## 사전학습 모델 불러오기"
      ],
      "metadata": {
        "id": "9_-5jqxYcMuO"
      }
    },
    {
      "cell_type": "code",
      "source": [
        "from transformers import DistilBertForSequenceClassification\n",
        "model = DistilBertForSequenceClassification.from_pretrained(\"distilbert-base-uncased\")\n",
        "model"
      ],
      "metadata": {
        "colab": {
          "base_uri": "https://localhost:8080/",
          "height": 710,
          "referenced_widgets": [
            "b8b6fc28ba504a43bf85f21dd949d805",
            "84cda34e6053432bba76dc2e3aa1679f",
            "1077d6b47eb94f56a783272e8f0204b5",
            "5d2a8d23e3304ab694c06dac647096f2",
            "261bdcf4360b4b44bb1383f80c529392",
            "0dba971958f54bc9a59d9f6f1f56a35c",
            "998ce37c5e4448c082ab3a9cfd399e12",
            "c78644e757494bffbad9ad65b14122ab",
            "3a993ce849a14db0bd40fb415783b97a",
            "d0eb290028164310b41f637c86656d93",
            "6cc28aac22ab4a6d8e56bbaf2f2641b6"
          ]
        },
        "id": "tqaK6319cExG",
        "outputId": "16a86ebe-9b4c-4de8-8b9e-36868845f4a2"
      },
      "execution_count": 26,
      "outputs": [
        {
          "output_type": "display_data",
          "data": {
            "text/plain": [
              "model.safetensors:   0%|          | 0.00/268M [00:00<?, ?B/s]"
            ],
            "application/vnd.jupyter.widget-view+json": {
              "version_major": 2,
              "version_minor": 0,
              "model_id": "b8b6fc28ba504a43bf85f21dd949d805"
            }
          },
          "metadata": {}
        },
        {
          "output_type": "stream",
          "name": "stderr",
          "text": [
            "Some weights of DistilBertForSequenceClassification were not initialized from the model checkpoint at distilbert-base-uncased and are newly initialized: ['pre_classifier.bias', 'pre_classifier.weight', 'classifier.weight', 'classifier.bias']\n",
            "You should probably TRAIN this model on a down-stream task to be able to use it for predictions and inference.\n"
          ]
        },
        {
          "output_type": "execute_result",
          "data": {
            "text/plain": [
              "DistilBertForSequenceClassification(\n",
              "  (distilbert): DistilBertModel(\n",
              "    (embeddings): Embeddings(\n",
              "      (word_embeddings): Embedding(30522, 768, padding_idx=0)\n",
              "      (position_embeddings): Embedding(512, 768)\n",
              "      (LayerNorm): LayerNorm((768,), eps=1e-12, elementwise_affine=True)\n",
              "      (dropout): Dropout(p=0.1, inplace=False)\n",
              "    )\n",
              "    (transformer): Transformer(\n",
              "      (layer): ModuleList(\n",
              "        (0-5): 6 x TransformerBlock(\n",
              "          (attention): MultiHeadSelfAttention(\n",
              "            (dropout): Dropout(p=0.1, inplace=False)\n",
              "            (q_lin): Linear(in_features=768, out_features=768, bias=True)\n",
              "            (k_lin): Linear(in_features=768, out_features=768, bias=True)\n",
              "            (v_lin): Linear(in_features=768, out_features=768, bias=True)\n",
              "            (out_lin): Linear(in_features=768, out_features=768, bias=True)\n",
              "          )\n",
              "          (sa_layer_norm): LayerNorm((768,), eps=1e-12, elementwise_affine=True)\n",
              "          (ffn): FFN(\n",
              "            (dropout): Dropout(p=0.1, inplace=False)\n",
              "            (lin1): Linear(in_features=768, out_features=3072, bias=True)\n",
              "            (lin2): Linear(in_features=3072, out_features=768, bias=True)\n",
              "            (activation): GELUActivation()\n",
              "          )\n",
              "          (output_layer_norm): LayerNorm((768,), eps=1e-12, elementwise_affine=True)\n",
              "        )\n",
              "      )\n",
              "    )\n",
              "  )\n",
              "  (pre_classifier): Linear(in_features=768, out_features=768, bias=True)\n",
              "  (classifier): Linear(in_features=768, out_features=2, bias=True)\n",
              "  (dropout): Dropout(p=0.2, inplace=False)\n",
              ")"
            ]
          },
          "metadata": {},
          "execution_count": 26
        }
      ]
    },
    {
      "cell_type": "markdown",
      "source": [
        "## Train Arguments 설정(하이퍼파라미터 조정)\n",
        "\n",
        "epoch, batchsize, activation function"
      ],
      "metadata": {
        "id": "pwMsZA8Nc47H"
      }
    },
    {
      "cell_type": "code",
      "source": [
        "from transformers import TrainingArguments\n",
        "\n",
        "training_args = TrainingArguments(\n",
        "    output_dir = './results', # 출력 디렉토리 경로\n",
        "    num_train_epochs=8, # 학습 에폭\n",
        "    per_device_train_batch_size=16, # 학습 미니배치 사이즈\n",
        "    per_device_eval_batch_size=64, # 평가 미니배치 사이즈\n",
        "    warmup_steps=500, # 학습률 스케줄링용 스텝수\n",
        "    weight_decay=0.01, # 가중치 감소 정도\n",
        "    logging_dir='./logs', # 로그 디렉토리 경로\n",
        "    logging_steps=10,\n",
        ")"
      ],
      "metadata": {
        "id": "NKaB4e6fcOSB"
      },
      "execution_count": 27,
      "outputs": []
    },
    {
      "cell_type": "markdown",
      "source": [
        "## GPU 전송"
      ],
      "metadata": {
        "id": "P1N6Qn6TfSrS"
      }
    },
    {
      "cell_type": "code",
      "source": [
        "import torch\n",
        "device = torch.device('cuda' if torch.cuda.is_available() else 'cpu')\n",
        "print(device)\n",
        "model = model.to(device)"
      ],
      "metadata": {
        "colab": {
          "base_uri": "https://localhost:8080/"
        },
        "id": "o36Jp5NGe3ie",
        "outputId": "22ff6bfb-9ce1-4d16-f62d-c8c253446f8b"
      },
      "execution_count": 28,
      "outputs": [
        {
          "output_type": "stream",
          "name": "stdout",
          "text": [
            "cuda\n"
          ]
        }
      ]
    },
    {
      "cell_type": "markdown",
      "source": [
        "## Trainer 클래스 사전학습"
      ],
      "metadata": {
        "id": "yTEXKVjvg2B2"
      }
    },
    {
      "cell_type": "code",
      "source": [
        "# fine tuning 이전에 3개의 입력 문장 극성 판별\n",
        "\n",
        "# tokenizing\n",
        "input_tokens = tokenizer([\"I feel fantastic\",\n",
        "                           \"My life is going something wrong\",\n",
        "                           \"I habe note figured out what the chosen title has to do with the movie\"],\n",
        "                          truncation=True,\n",
        "                          padding=True)\n",
        "\n",
        "# 입력 문장 토크나이징 결과(input_tokens)에 담긴 input_ids를 모델에 투입\n",
        "# 모델 출력 결과를 GPU로 전송하고 그 값은 변수 outputs에 저장\n",
        "outputs = model(torch.tensor(input_tokens['input_ids']).to(device))\n",
        "\n",
        "# 레이블 딕셔너리 생성\n",
        "label_dict = {0:'positive', 1:'negative'}\n",
        "\n",
        "# outputs 변수에 담긴 logits 값을 행단위(입력 문장 단위)로 가장 큰 값의 위치(인덱스) 추출\n",
        "# 결과값(인덱스)을 cpu로 넘기고 넘파이로 타입 변환 - 인덱스에 매칭되는 레이블 출력\n",
        "print([label_dict[i] for i in torch.argmax(outputs['logits'], axis=1).cpu().numpy()])"
      ],
      "metadata": {
        "colab": {
          "base_uri": "https://localhost:8080/"
        },
        "id": "MkYyYRbifR6c",
        "outputId": "32b9afa1-8359-47cc-84a4-12a06e0ad514"
      },
      "execution_count": 29,
      "outputs": [
        {
          "output_type": "stream",
          "name": "stderr",
          "text": [
            "We strongly recommend passing in an `attention_mask` since your input_ids may be padded. See https://huggingface.co/docs/transformers/troubleshooting#incorrect-output-when-padding-tokens-arent-masked.\n"
          ]
        },
        {
          "output_type": "stream",
          "name": "stdout",
          "text": [
            "['negative', 'negative', 'negative']\n"
          ]
        }
      ]
    },
    {
      "cell_type": "markdown",
      "source": [
        "## Trainer.train()을 통한 파인튜닝"
      ],
      "metadata": {
        "id": "S5lHnSGdjnBC"
      }
    },
    {
      "cell_type": "code",
      "source": [
        "from transformers import Trainer\n",
        "\n",
        "trainer = Trainer(\n",
        "    model = model, # 사전학습 모델 인스턴스화\n",
        "    args = training_args, # transformers.Arguments에 정의한 하이퍼파라미터\n",
        "    train_dataset = train_dataset, # 학습 데이터셋\n",
        "    eval_dataset = val_dataset # 평가 데이터셋\n",
        ")\n",
        "\n",
        "trainer.train()"
      ],
      "metadata": {
        "colab": {
          "base_uri": "https://localhost:8080/",
          "height": 1000
        },
        "id": "6ctHZbBOij2V",
        "outputId": "e4e30ffc-9983-49e2-9e08-ac0fca2ba2c4"
      },
      "execution_count": 30,
      "outputs": [
        {
          "output_type": "display_data",
          "data": {
            "text/plain": [
              "<IPython.core.display.HTML object>"
            ],
            "text/html": [
              "\n",
              "    <div>\n",
              "      \n",
              "      <progress value='400' max='400' style='width:300px; height:20px; vertical-align: middle;'></progress>\n",
              "      [400/400 04:44, Epoch 8/8]\n",
              "    </div>\n",
              "    <table border=\"1\" class=\"dataframe\">\n",
              "  <thead>\n",
              " <tr style=\"text-align: left;\">\n",
              "      <th>Step</th>\n",
              "      <th>Training Loss</th>\n",
              "    </tr>\n",
              "  </thead>\n",
              "  <tbody>\n",
              "    <tr>\n",
              "      <td>10</td>\n",
              "      <td>0.704300</td>\n",
              "    </tr>\n",
              "    <tr>\n",
              "      <td>20</td>\n",
              "      <td>0.690300</td>\n",
              "    </tr>\n",
              "    <tr>\n",
              "      <td>30</td>\n",
              "      <td>0.692500</td>\n",
              "    </tr>\n",
              "    <tr>\n",
              "      <td>40</td>\n",
              "      <td>0.686200</td>\n",
              "    </tr>\n",
              "    <tr>\n",
              "      <td>50</td>\n",
              "      <td>0.685000</td>\n",
              "    </tr>\n",
              "    <tr>\n",
              "      <td>60</td>\n",
              "      <td>0.680800</td>\n",
              "    </tr>\n",
              "    <tr>\n",
              "      <td>70</td>\n",
              "      <td>0.676500</td>\n",
              "    </tr>\n",
              "    <tr>\n",
              "      <td>80</td>\n",
              "      <td>0.655100</td>\n",
              "    </tr>\n",
              "    <tr>\n",
              "      <td>90</td>\n",
              "      <td>0.645600</td>\n",
              "    </tr>\n",
              "    <tr>\n",
              "      <td>100</td>\n",
              "      <td>0.586000</td>\n",
              "    </tr>\n",
              "    <tr>\n",
              "      <td>110</td>\n",
              "      <td>0.541600</td>\n",
              "    </tr>\n",
              "    <tr>\n",
              "      <td>120</td>\n",
              "      <td>0.459300</td>\n",
              "    </tr>\n",
              "    <tr>\n",
              "      <td>130</td>\n",
              "      <td>0.414000</td>\n",
              "    </tr>\n",
              "    <tr>\n",
              "      <td>140</td>\n",
              "      <td>0.394300</td>\n",
              "    </tr>\n",
              "    <tr>\n",
              "      <td>150</td>\n",
              "      <td>0.319700</td>\n",
              "    </tr>\n",
              "    <tr>\n",
              "      <td>160</td>\n",
              "      <td>0.272200</td>\n",
              "    </tr>\n",
              "    <tr>\n",
              "      <td>170</td>\n",
              "      <td>0.281900</td>\n",
              "    </tr>\n",
              "    <tr>\n",
              "      <td>180</td>\n",
              "      <td>0.249000</td>\n",
              "    </tr>\n",
              "    <tr>\n",
              "      <td>190</td>\n",
              "      <td>0.261100</td>\n",
              "    </tr>\n",
              "    <tr>\n",
              "      <td>200</td>\n",
              "      <td>0.276000</td>\n",
              "    </tr>\n",
              "    <tr>\n",
              "      <td>210</td>\n",
              "      <td>0.127300</td>\n",
              "    </tr>\n",
              "    <tr>\n",
              "      <td>220</td>\n",
              "      <td>0.198000</td>\n",
              "    </tr>\n",
              "    <tr>\n",
              "      <td>230</td>\n",
              "      <td>0.109700</td>\n",
              "    </tr>\n",
              "    <tr>\n",
              "      <td>240</td>\n",
              "      <td>0.154400</td>\n",
              "    </tr>\n",
              "    <tr>\n",
              "      <td>250</td>\n",
              "      <td>0.163400</td>\n",
              "    </tr>\n",
              "    <tr>\n",
              "      <td>260</td>\n",
              "      <td>0.014000</td>\n",
              "    </tr>\n",
              "    <tr>\n",
              "      <td>270</td>\n",
              "      <td>0.078000</td>\n",
              "    </tr>\n",
              "    <tr>\n",
              "      <td>280</td>\n",
              "      <td>0.039000</td>\n",
              "    </tr>\n",
              "    <tr>\n",
              "      <td>290</td>\n",
              "      <td>0.074300</td>\n",
              "    </tr>\n",
              "    <tr>\n",
              "      <td>300</td>\n",
              "      <td>0.099000</td>\n",
              "    </tr>\n",
              "    <tr>\n",
              "      <td>310</td>\n",
              "      <td>0.112900</td>\n",
              "    </tr>\n",
              "    <tr>\n",
              "      <td>320</td>\n",
              "      <td>0.068500</td>\n",
              "    </tr>\n",
              "    <tr>\n",
              "      <td>330</td>\n",
              "      <td>0.033900</td>\n",
              "    </tr>\n",
              "    <tr>\n",
              "      <td>340</td>\n",
              "      <td>0.060400</td>\n",
              "    </tr>\n",
              "    <tr>\n",
              "      <td>350</td>\n",
              "      <td>0.024200</td>\n",
              "    </tr>\n",
              "    <tr>\n",
              "      <td>360</td>\n",
              "      <td>0.056400</td>\n",
              "    </tr>\n",
              "    <tr>\n",
              "      <td>370</td>\n",
              "      <td>0.035800</td>\n",
              "    </tr>\n",
              "    <tr>\n",
              "      <td>380</td>\n",
              "      <td>0.039400</td>\n",
              "    </tr>\n",
              "    <tr>\n",
              "      <td>390</td>\n",
              "      <td>0.004800</td>\n",
              "    </tr>\n",
              "    <tr>\n",
              "      <td>400</td>\n",
              "      <td>0.032700</td>\n",
              "    </tr>\n",
              "  </tbody>\n",
              "</table><p>"
            ]
          },
          "metadata": {}
        },
        {
          "output_type": "execute_result",
          "data": {
            "text/plain": [
              "TrainOutput(global_step=400, training_loss=0.2924350495543331, metrics={'train_runtime': 285.8385, 'train_samples_per_second': 22.39, 'train_steps_per_second': 1.399, 'total_flos': 847791351398400.0, 'train_loss': 0.2924350495543331, 'epoch': 8.0})"
            ]
          },
          "metadata": {},
          "execution_count": 30
        }
      ]
    },
    {
      "cell_type": "code",
      "source": [
        "input_tokens = tokenizer([\"I feel fantastic\",\n",
        "                           \"My life is going something wrong\",\n",
        "                           \"I habe note figured out what the chosen title has to do with the movie\"],\n",
        "                          truncation=True,\n",
        "                          padding=True)\n",
        "\n",
        "outputs = model(torch.tensor(input_tokens['input_ids']).to(device))\n",
        "\n",
        "label_dict = {0:'positive', 1:'negative'}\n",
        "\n",
        "print([label_dict[i] for i in torch.argmax(outputs['logits'], axis=1).cpu().numpy()])"
      ],
      "metadata": {
        "colab": {
          "base_uri": "https://localhost:8080/"
        },
        "id": "VmH5_mrskonB",
        "outputId": "5c255bb3-ee40-40e0-d101-818a1d3627dc"
      },
      "execution_count": 31,
      "outputs": [
        {
          "output_type": "stream",
          "name": "stdout",
          "text": [
            "['negative', 'positive', 'positive']\n"
          ]
        }
      ]
    },
    {
      "cell_type": "markdown",
      "source": [
        "# 파이토치 사전학습\n",
        "\n",
        "1. 사전학습 모델 및 토크나이저 불러오기\n",
        "\n",
        "2. DataLoader 인스턴스화\n",
        "\n",
        "3. 최적화 함수 정의\n",
        "\n",
        "4. 모델을 학습 모드로 전환\n",
        "\n",
        "5. 에포크 횟수만큼 루프 반복\n",
        "\n",
        "6. 최적화 함수의 gradient 초기화\n",
        "\n",
        "7. 모델을 사용한 추론\n",
        "\n",
        "8. 손실 계산\n",
        "\n",
        "9. 오차역전파(back propagation / backward)\n",
        "    optimizer.zero_grad()\n",
        "\n",
        "    loss.backward()\n",
        "10. 가중치 업데이트\n",
        "\n",
        "    optimizer.step()"
      ],
      "metadata": {
        "id": "7xTJz9GLl53x"
      }
    },
    {
      "cell_type": "code",
      "source": [
        "# 함수 생성\n",
        "def test_inference(model, tokenizer):\n",
        "  input_tokens = tokenizer([\"I fell fantastic\",\"My life is going something wrong\",\"I have not figured out what the chosen title has to do with the movie\"],truncation=True, padding=True)\n",
        "  outputs = model(torch.tensor(input_tokens['input_ids']).to(device))\n",
        "  label_dict = {0:'positive',1:'negative'}\n",
        "  return [label_dict[i] for i in torch.argmax(outputs['logits'], axis=1).cpu().numpy()]"
      ],
      "metadata": {
        "id": "kGiFMGiBl4Qv"
      },
      "execution_count": 32,
      "outputs": []
    },
    {
      "cell_type": "code",
      "source": [
        "from torch.utils.data import DataLoader\n",
        "from transformers import DistilBertForSequenceClassification, AdamW\n",
        "from transformers import DistilBertTokenizerFast\n",
        "\n",
        "# 1 사전학습 모델 및 토크나이저 불러오기\n",
        "tokenizer = DistilBertTokenizerFast.from_pretrained('distilbert-base-uncased')\n",
        "model = DistilBertForSequenceClassification.from_pretrained('distilbert-base-uncased')\n",
        "model.to(device)\n",
        "\n",
        "# 파인튜닝 이전 모델을 사용하여 test_inference 함수 실행\n",
        "print(test_inference(model, tokenizer))\n",
        "\n",
        "# 2 DataLoader 인스턴스화\n",
        "train_loader = DataLoader(train_dataset, batch_size=16, shuffle=True)\n",
        "\n",
        "# 3 최적화 함수 정의\n",
        "optim = AdamW(model.parameters(), lr=5e-5)\n",
        "\n",
        "# 4 모델을 학습 모드로 전환 (dropout, batchnorm에 영향을 미침)\n",
        "model.train()\n",
        "\n",
        "losses = []\n",
        "\n",
        "# 5 epoch 반복\n",
        "for epoch in range(8):\n",
        "  print(f'epoch:{epoch}')\n",
        "  for batch in train_loader:\n",
        "    # 최적화 함수 기울기 초기화\n",
        "    optim.zero_grad()\n",
        "\n",
        "    input_ids = batch['input_ids'].to(device)\n",
        "    attention_mask = batch['attention_mask'].to(device)\n",
        "    labels = batch['labels'].to(device)\n",
        "\n",
        "    # 7 모델을 사용한 추론\n",
        "    outputs = model(input_ids, attention_mask = attention_mask,labels=labels)\n",
        "    # print(outputs[i] for i in range(len(outputs)))\n",
        "    # 8 손실 계산\n",
        "    loss = outputs[0]\n",
        "    losses.append(loss)\n",
        "\n",
        "    # 9 오차역전파\n",
        "    loss.backward()\n",
        "\n",
        "    # 10 가중치 업데이트\n",
        "    optim.step()\n",
        "\n",
        "# 모델을 평가 모드로 변환\n",
        "model.eval()\n",
        "\n",
        "# 평가 모드로 test_inference 함수 실행\n",
        "print(test_inference(model, tokenizer))"
      ],
      "metadata": {
        "colab": {
          "base_uri": "https://localhost:8080/"
        },
        "id": "8t2MhaYEqhJb",
        "outputId": "26bd584a-d1b4-48b7-c8d3-836ffd2bd7bf"
      },
      "execution_count": 34,
      "outputs": [
        {
          "output_type": "stream",
          "name": "stderr",
          "text": [
            "Some weights of DistilBertForSequenceClassification were not initialized from the model checkpoint at distilbert-base-uncased and are newly initialized: ['pre_classifier.bias', 'pre_classifier.weight', 'classifier.weight', 'classifier.bias']\n",
            "You should probably TRAIN this model on a down-stream task to be able to use it for predictions and inference.\n"
          ]
        },
        {
          "output_type": "stream",
          "name": "stdout",
          "text": [
            "['negative', 'negative', 'negative']\n",
            "epoch:0\n",
            "epoch:1\n",
            "epoch:2\n",
            "epoch:3\n",
            "epoch:4\n",
            "epoch:5\n",
            "epoch:6\n",
            "epoch:7\n",
            "['negative', 'positive', 'positive']\n"
          ]
        }
      ]
    },
    {
      "cell_type": "code",
      "source": [
        "print(losses)\n",
        "type(losses)"
      ],
      "metadata": {
        "colab": {
          "base_uri": "https://localhost:8080/"
        },
        "id": "yenZxYcOtoGy",
        "outputId": "473328ad-43f9-4a87-e41b-d9c815f7ae86"
      },
      "execution_count": 35,
      "outputs": [
        {
          "output_type": "stream",
          "name": "stdout",
          "text": [
            "[tensor(0.6912, device='cuda:0', grad_fn=<NllLossBackward0>), tensor(0.6848, device='cuda:0', grad_fn=<NllLossBackward0>), tensor(0.6808, device='cuda:0', grad_fn=<NllLossBackward0>), tensor(0.6731, device='cuda:0', grad_fn=<NllLossBackward0>), tensor(0.6758, device='cuda:0', grad_fn=<NllLossBackward0>), tensor(0.6843, device='cuda:0', grad_fn=<NllLossBackward0>), tensor(0.7825, device='cuda:0', grad_fn=<NllLossBackward0>), tensor(0.6719, device='cuda:0', grad_fn=<NllLossBackward0>), tensor(0.7037, device='cuda:0', grad_fn=<NllLossBackward0>), tensor(0.7106, device='cuda:0', grad_fn=<NllLossBackward0>), tensor(0.6729, device='cuda:0', grad_fn=<NllLossBackward0>), tensor(0.6850, device='cuda:0', grad_fn=<NllLossBackward0>), tensor(0.6638, device='cuda:0', grad_fn=<NllLossBackward0>), tensor(0.6719, device='cuda:0', grad_fn=<NllLossBackward0>), tensor(0.6883, device='cuda:0', grad_fn=<NllLossBackward0>), tensor(0.7025, device='cuda:0', grad_fn=<NllLossBackward0>), tensor(0.6970, device='cuda:0', grad_fn=<NllLossBackward0>), tensor(0.6049, device='cuda:0', grad_fn=<NllLossBackward0>), tensor(0.7100, device='cuda:0', grad_fn=<NllLossBackward0>), tensor(0.6897, device='cuda:0', grad_fn=<NllLossBackward0>), tensor(0.6521, device='cuda:0', grad_fn=<NllLossBackward0>), tensor(0.6346, device='cuda:0', grad_fn=<NllLossBackward0>), tensor(0.6522, device='cuda:0', grad_fn=<NllLossBackward0>), tensor(0.5962, device='cuda:0', grad_fn=<NllLossBackward0>), tensor(0.5170, device='cuda:0', grad_fn=<NllLossBackward0>), tensor(0.5251, device='cuda:0', grad_fn=<NllLossBackward0>), tensor(0.5973, device='cuda:0', grad_fn=<NllLossBackward0>), tensor(0.4904, device='cuda:0', grad_fn=<NllLossBackward0>), tensor(0.3944, device='cuda:0', grad_fn=<NllLossBackward0>), tensor(0.3208, device='cuda:0', grad_fn=<NllLossBackward0>), tensor(0.2746, device='cuda:0', grad_fn=<NllLossBackward0>), tensor(0.9155, device='cuda:0', grad_fn=<NllLossBackward0>), tensor(0.6532, device='cuda:0', grad_fn=<NllLossBackward0>), tensor(0.5094, device='cuda:0', grad_fn=<NllLossBackward0>), tensor(0.3854, device='cuda:0', grad_fn=<NllLossBackward0>), tensor(0.4105, device='cuda:0', grad_fn=<NllLossBackward0>), tensor(0.6753, device='cuda:0', grad_fn=<NllLossBackward0>), tensor(0.7826, device='cuda:0', grad_fn=<NllLossBackward0>), tensor(0.5869, device='cuda:0', grad_fn=<NllLossBackward0>), tensor(0.4071, device='cuda:0', grad_fn=<NllLossBackward0>), tensor(0.4334, device='cuda:0', grad_fn=<NllLossBackward0>), tensor(0.4301, device='cuda:0', grad_fn=<NllLossBackward0>), tensor(0.5379, device='cuda:0', grad_fn=<NllLossBackward0>), tensor(0.4814, device='cuda:0', grad_fn=<NllLossBackward0>), tensor(0.7012, device='cuda:0', grad_fn=<NllLossBackward0>), tensor(0.3690, device='cuda:0', grad_fn=<NllLossBackward0>), tensor(0.3874, device='cuda:0', grad_fn=<NllLossBackward0>), tensor(0.5631, device='cuda:0', grad_fn=<NllLossBackward0>), tensor(0.5184, device='cuda:0', grad_fn=<NllLossBackward0>), tensor(0.4087, device='cuda:0', grad_fn=<NllLossBackward0>), tensor(0.4220, device='cuda:0', grad_fn=<NllLossBackward0>), tensor(0.3331, device='cuda:0', grad_fn=<NllLossBackward0>), tensor(0.2681, device='cuda:0', grad_fn=<NllLossBackward0>), tensor(0.4087, device='cuda:0', grad_fn=<NllLossBackward0>), tensor(0.3828, device='cuda:0', grad_fn=<NllLossBackward0>), tensor(0.3101, device='cuda:0', grad_fn=<NllLossBackward0>), tensor(0.3254, device='cuda:0', grad_fn=<NllLossBackward0>), tensor(0.2624, device='cuda:0', grad_fn=<NllLossBackward0>), tensor(0.1807, device='cuda:0', grad_fn=<NllLossBackward0>), tensor(0.2345, device='cuda:0', grad_fn=<NllLossBackward0>), tensor(0.2435, device='cuda:0', grad_fn=<NllLossBackward0>), tensor(0.1983, device='cuda:0', grad_fn=<NllLossBackward0>), tensor(0.3005, device='cuda:0', grad_fn=<NllLossBackward0>), tensor(0.1501, device='cuda:0', grad_fn=<NllLossBackward0>), tensor(0.1638, device='cuda:0', grad_fn=<NllLossBackward0>), tensor(0.1705, device='cuda:0', grad_fn=<NllLossBackward0>), tensor(0.5485, device='cuda:0', grad_fn=<NllLossBackward0>), tensor(0.0796, device='cuda:0', grad_fn=<NllLossBackward0>), tensor(0.2978, device='cuda:0', grad_fn=<NllLossBackward0>), tensor(0.2832, device='cuda:0', grad_fn=<NllLossBackward0>), tensor(0.2549, device='cuda:0', grad_fn=<NllLossBackward0>), tensor(0.4592, device='cuda:0', grad_fn=<NllLossBackward0>), tensor(0.5353, device='cuda:0', grad_fn=<NllLossBackward0>), tensor(0.7411, device='cuda:0', grad_fn=<NllLossBackward0>), tensor(1.2387, device='cuda:0', grad_fn=<NllLossBackward0>), tensor(0.4160, device='cuda:0', grad_fn=<NllLossBackward0>), tensor(0.4325, device='cuda:0', grad_fn=<NllLossBackward0>), tensor(0.6400, device='cuda:0', grad_fn=<NllLossBackward0>), tensor(0.4349, device='cuda:0', grad_fn=<NllLossBackward0>), tensor(0.4253, device='cuda:0', grad_fn=<NllLossBackward0>), tensor(0.4298, device='cuda:0', grad_fn=<NllLossBackward0>), tensor(0.4662, device='cuda:0', grad_fn=<NllLossBackward0>), tensor(0.3142, device='cuda:0', grad_fn=<NllLossBackward0>), tensor(0.7434, device='cuda:0', grad_fn=<NllLossBackward0>), tensor(0.6533, device='cuda:0', grad_fn=<NllLossBackward0>), tensor(0.3385, device='cuda:0', grad_fn=<NllLossBackward0>), tensor(0.6821, device='cuda:0', grad_fn=<NllLossBackward0>), tensor(0.4526, device='cuda:0', grad_fn=<NllLossBackward0>), tensor(0.3576, device='cuda:0', grad_fn=<NllLossBackward0>), tensor(0.4280, device='cuda:0', grad_fn=<NllLossBackward0>), tensor(0.4109, device='cuda:0', grad_fn=<NllLossBackward0>), tensor(0.2448, device='cuda:0', grad_fn=<NllLossBackward0>), tensor(0.2903, device='cuda:0', grad_fn=<NllLossBackward0>), tensor(0.4307, device='cuda:0', grad_fn=<NllLossBackward0>), tensor(0.7180, device='cuda:0', grad_fn=<NllLossBackward0>), tensor(0.3487, device='cuda:0', grad_fn=<NllLossBackward0>), tensor(0.6555, device='cuda:0', grad_fn=<NllLossBackward0>), tensor(0.4884, device='cuda:0', grad_fn=<NllLossBackward0>), tensor(0.4825, device='cuda:0', grad_fn=<NllLossBackward0>), tensor(0.3126, device='cuda:0', grad_fn=<NllLossBackward0>), tensor(0.1533, device='cuda:0', grad_fn=<NllLossBackward0>), tensor(0.1235, device='cuda:0', grad_fn=<NllLossBackward0>), tensor(0.1217, device='cuda:0', grad_fn=<NllLossBackward0>), tensor(0.2500, device='cuda:0', grad_fn=<NllLossBackward0>), tensor(0.0707, device='cuda:0', grad_fn=<NllLossBackward0>), tensor(0.1494, device='cuda:0', grad_fn=<NllLossBackward0>), tensor(0.0854, device='cuda:0', grad_fn=<NllLossBackward0>), tensor(0.2182, device='cuda:0', grad_fn=<NllLossBackward0>), tensor(0.1726, device='cuda:0', grad_fn=<NllLossBackward0>), tensor(0.0894, device='cuda:0', grad_fn=<NllLossBackward0>), tensor(0.0769, device='cuda:0', grad_fn=<NllLossBackward0>), tensor(0.3112, device='cuda:0', grad_fn=<NllLossBackward0>), tensor(0.3388, device='cuda:0', grad_fn=<NllLossBackward0>), tensor(0.3653, device='cuda:0', grad_fn=<NllLossBackward0>), tensor(0.0516, device='cuda:0', grad_fn=<NllLossBackward0>), tensor(0.1596, device='cuda:0', grad_fn=<NllLossBackward0>), tensor(0.0571, device='cuda:0', grad_fn=<NllLossBackward0>), tensor(0.3457, device='cuda:0', grad_fn=<NllLossBackward0>), tensor(0.0561, device='cuda:0', grad_fn=<NllLossBackward0>), tensor(0.0409, device='cuda:0', grad_fn=<NllLossBackward0>), tensor(0.7779, device='cuda:0', grad_fn=<NllLossBackward0>), tensor(0.1579, device='cuda:0', grad_fn=<NllLossBackward0>), tensor(0.2049, device='cuda:0', grad_fn=<NllLossBackward0>), tensor(0.4202, device='cuda:0', grad_fn=<NllLossBackward0>), tensor(0.4402, device='cuda:0', grad_fn=<NllLossBackward0>), tensor(0.0597, device='cuda:0', grad_fn=<NllLossBackward0>), tensor(0.3083, device='cuda:0', grad_fn=<NllLossBackward0>), tensor(0.0555, device='cuda:0', grad_fn=<NllLossBackward0>), tensor(0.0909, device='cuda:0', grad_fn=<NllLossBackward0>), tensor(0.3772, device='cuda:0', grad_fn=<NllLossBackward0>), tensor(0.3277, device='cuda:0', grad_fn=<NllLossBackward0>), tensor(0.2015, device='cuda:0', grad_fn=<NllLossBackward0>), tensor(0.2543, device='cuda:0', grad_fn=<NllLossBackward0>), tensor(0.2448, device='cuda:0', grad_fn=<NllLossBackward0>), tensor(0.0644, device='cuda:0', grad_fn=<NllLossBackward0>), tensor(0.2114, device='cuda:0', grad_fn=<NllLossBackward0>), tensor(0.2063, device='cuda:0', grad_fn=<NllLossBackward0>), tensor(0.0877, device='cuda:0', grad_fn=<NllLossBackward0>), tensor(0.2788, device='cuda:0', grad_fn=<NllLossBackward0>), tensor(0.0595, device='cuda:0', grad_fn=<NllLossBackward0>), tensor(0.1032, device='cuda:0', grad_fn=<NllLossBackward0>), tensor(0.0682, device='cuda:0', grad_fn=<NllLossBackward0>), tensor(0.2201, device='cuda:0', grad_fn=<NllLossBackward0>), tensor(0.2074, device='cuda:0', grad_fn=<NllLossBackward0>), tensor(0.1130, device='cuda:0', grad_fn=<NllLossBackward0>), tensor(0.4672, device='cuda:0', grad_fn=<NllLossBackward0>), tensor(0.2112, device='cuda:0', grad_fn=<NllLossBackward0>), tensor(0.0727, device='cuda:0', grad_fn=<NllLossBackward0>), tensor(0.2644, device='cuda:0', grad_fn=<NllLossBackward0>), tensor(0.0994, device='cuda:0', grad_fn=<NllLossBackward0>), tensor(0.0500, device='cuda:0', grad_fn=<NllLossBackward0>), tensor(0.0727, device='cuda:0', grad_fn=<NllLossBackward0>), tensor(0.3754, device='cuda:0', grad_fn=<NllLossBackward0>), tensor(0.0330, device='cuda:0', grad_fn=<NllLossBackward0>), tensor(0.0695, device='cuda:0', grad_fn=<NllLossBackward0>), tensor(0.0502, device='cuda:0', grad_fn=<NllLossBackward0>), tensor(0.0278, device='cuda:0', grad_fn=<NllLossBackward0>), tensor(0.0441, device='cuda:0', grad_fn=<NllLossBackward0>), tensor(0.2412, device='cuda:0', grad_fn=<NllLossBackward0>), tensor(0.1796, device='cuda:0', grad_fn=<NllLossBackward0>), tensor(0.2732, device='cuda:0', grad_fn=<NllLossBackward0>), tensor(0.0216, device='cuda:0', grad_fn=<NllLossBackward0>), tensor(0.0317, device='cuda:0', grad_fn=<NllLossBackward0>), tensor(0.0298, device='cuda:0', grad_fn=<NllLossBackward0>), tensor(0.0217, device='cuda:0', grad_fn=<NllLossBackward0>), tensor(0.0518, device='cuda:0', grad_fn=<NllLossBackward0>), tensor(0.0461, device='cuda:0', grad_fn=<NllLossBackward0>), tensor(0.0286, device='cuda:0', grad_fn=<NllLossBackward0>), tensor(0.0483, device='cuda:0', grad_fn=<NllLossBackward0>), tensor(0.0299, device='cuda:0', grad_fn=<NllLossBackward0>), tensor(0.0234, device='cuda:0', grad_fn=<NllLossBackward0>), tensor(0.0154, device='cuda:0', grad_fn=<NllLossBackward0>), tensor(0.0212, device='cuda:0', grad_fn=<NllLossBackward0>), tensor(0.0589, device='cuda:0', grad_fn=<NllLossBackward0>), tensor(0.1781, device='cuda:0', grad_fn=<NllLossBackward0>), tensor(0.2881, device='cuda:0', grad_fn=<NllLossBackward0>), tensor(0.0147, device='cuda:0', grad_fn=<NllLossBackward0>), tensor(0.0417, device='cuda:0', grad_fn=<NllLossBackward0>), tensor(0.0150, device='cuda:0', grad_fn=<NllLossBackward0>), tensor(0.0157, device='cuda:0', grad_fn=<NllLossBackward0>), tensor(0.0224, device='cuda:0', grad_fn=<NllLossBackward0>), tensor(0.0150, device='cuda:0', grad_fn=<NllLossBackward0>), tensor(0.3175, device='cuda:0', grad_fn=<NllLossBackward0>), tensor(0.0434, device='cuda:0', grad_fn=<NllLossBackward0>), tensor(0.1349, device='cuda:0', grad_fn=<NllLossBackward0>), tensor(0.0644, device='cuda:0', grad_fn=<NllLossBackward0>), tensor(0.0316, device='cuda:0', grad_fn=<NllLossBackward0>), tensor(0.1478, device='cuda:0', grad_fn=<NllLossBackward0>), tensor(0.0821, device='cuda:0', grad_fn=<NllLossBackward0>), tensor(0.0203, device='cuda:0', grad_fn=<NllLossBackward0>), tensor(0.0432, device='cuda:0', grad_fn=<NllLossBackward0>), tensor(0.0139, device='cuda:0', grad_fn=<NllLossBackward0>), tensor(0.0344, device='cuda:0', grad_fn=<NllLossBackward0>), tensor(0.0850, device='cuda:0', grad_fn=<NllLossBackward0>), tensor(0.0126, device='cuda:0', grad_fn=<NllLossBackward0>), tensor(0.1150, device='cuda:0', grad_fn=<NllLossBackward0>), tensor(0.0338, device='cuda:0', grad_fn=<NllLossBackward0>), tensor(0.0096, device='cuda:0', grad_fn=<NllLossBackward0>), tensor(0.0409, device='cuda:0', grad_fn=<NllLossBackward0>), tensor(0.0103, device='cuda:0', grad_fn=<NllLossBackward0>), tensor(0.0184, device='cuda:0', grad_fn=<NllLossBackward0>), tensor(0.2903, device='cuda:0', grad_fn=<NllLossBackward0>), tensor(0.0076, device='cuda:0', grad_fn=<NllLossBackward0>), tensor(0.0116, device='cuda:0', grad_fn=<NllLossBackward0>), tensor(0.0358, device='cuda:0', grad_fn=<NllLossBackward0>), tensor(0.0083, device='cuda:0', grad_fn=<NllLossBackward0>), tensor(0.0271, device='cuda:0', grad_fn=<NllLossBackward0>), tensor(0.0115, device='cuda:0', grad_fn=<NllLossBackward0>), tensor(0.1970, device='cuda:0', grad_fn=<NllLossBackward0>), tensor(0.2709, device='cuda:0', grad_fn=<NllLossBackward0>), tensor(0.3105, device='cuda:0', grad_fn=<NllLossBackward0>), tensor(0.0097, device='cuda:0', grad_fn=<NllLossBackward0>), tensor(0.0082, device='cuda:0', grad_fn=<NllLossBackward0>), tensor(0.1487, device='cuda:0', grad_fn=<NllLossBackward0>), tensor(0.1013, device='cuda:0', grad_fn=<NllLossBackward0>), tensor(0.0245, device='cuda:0', grad_fn=<NllLossBackward0>), tensor(0.0163, device='cuda:0', grad_fn=<NllLossBackward0>), tensor(0.0296, device='cuda:0', grad_fn=<NllLossBackward0>), tensor(0.0247, device='cuda:0', grad_fn=<NllLossBackward0>), tensor(0.0110, device='cuda:0', grad_fn=<NllLossBackward0>), tensor(0.0149, device='cuda:0', grad_fn=<NllLossBackward0>), tensor(0.1124, device='cuda:0', grad_fn=<NllLossBackward0>), tensor(0.0116, device='cuda:0', grad_fn=<NllLossBackward0>), tensor(0.0107, device='cuda:0', grad_fn=<NllLossBackward0>), tensor(0.0111, device='cuda:0', grad_fn=<NllLossBackward0>), tensor(0.0135, device='cuda:0', grad_fn=<NllLossBackward0>), tensor(0.1024, device='cuda:0', grad_fn=<NllLossBackward0>), tensor(0.0086, device='cuda:0', grad_fn=<NllLossBackward0>), tensor(0.0133, device='cuda:0', grad_fn=<NllLossBackward0>), tensor(0.0189, device='cuda:0', grad_fn=<NllLossBackward0>), tensor(0.0115, device='cuda:0', grad_fn=<NllLossBackward0>), tensor(0.0125, device='cuda:0', grad_fn=<NllLossBackward0>), tensor(0.2111, device='cuda:0', grad_fn=<NllLossBackward0>), tensor(0.0154, device='cuda:0', grad_fn=<NllLossBackward0>), tensor(0.0123, device='cuda:0', grad_fn=<NllLossBackward0>), tensor(0.0127, device='cuda:0', grad_fn=<NllLossBackward0>), tensor(0.0176, device='cuda:0', grad_fn=<NllLossBackward0>), tensor(0.1014, device='cuda:0', grad_fn=<NllLossBackward0>), tensor(0.0093, device='cuda:0', grad_fn=<NllLossBackward0>), tensor(0.0277, device='cuda:0', grad_fn=<NllLossBackward0>), tensor(0.0224, device='cuda:0', grad_fn=<NllLossBackward0>), tensor(0.0169, device='cuda:0', grad_fn=<NllLossBackward0>), tensor(0.0423, device='cuda:0', grad_fn=<NllLossBackward0>), tensor(0.0110, device='cuda:0', grad_fn=<NllLossBackward0>), tensor(0.1074, device='cuda:0', grad_fn=<NllLossBackward0>), tensor(0.0066, device='cuda:0', grad_fn=<NllLossBackward0>), tensor(0.0068, device='cuda:0', grad_fn=<NllLossBackward0>), tensor(0.2275, device='cuda:0', grad_fn=<NllLossBackward0>), tensor(0.0349, device='cuda:0', grad_fn=<NllLossBackward0>), tensor(0.0055, device='cuda:0', grad_fn=<NllLossBackward0>), tensor(0.0140, device='cuda:0', grad_fn=<NllLossBackward0>), tensor(0.0182, device='cuda:0', grad_fn=<NllLossBackward0>), tensor(0.0059, device='cuda:0', grad_fn=<NllLossBackward0>), tensor(0.0248, device='cuda:0', grad_fn=<NllLossBackward0>), tensor(0.0048, device='cuda:0', grad_fn=<NllLossBackward0>), tensor(0.0094, device='cuda:0', grad_fn=<NllLossBackward0>), tensor(0.0112, device='cuda:0', grad_fn=<NllLossBackward0>), tensor(0.0063, device='cuda:0', grad_fn=<NllLossBackward0>), tensor(0.0071, device='cuda:0', grad_fn=<NllLossBackward0>), tensor(0.3152, device='cuda:0', grad_fn=<NllLossBackward0>), tensor(0.0060, device='cuda:0', grad_fn=<NllLossBackward0>), tensor(0.0080, device='cuda:0', grad_fn=<NllLossBackward0>), tensor(0.0094, device='cuda:0', grad_fn=<NllLossBackward0>), tensor(0.0082, device='cuda:0', grad_fn=<NllLossBackward0>), tensor(0.0061, device='cuda:0', grad_fn=<NllLossBackward0>), tensor(0.0100, device='cuda:0', grad_fn=<NllLossBackward0>), tensor(0.2628, device='cuda:0', grad_fn=<NllLossBackward0>), tensor(0.0047, device='cuda:0', grad_fn=<NllLossBackward0>), tensor(0.0267, device='cuda:0', grad_fn=<NllLossBackward0>), tensor(0.0067, device='cuda:0', grad_fn=<NllLossBackward0>), tensor(0.1090, device='cuda:0', grad_fn=<NllLossBackward0>), tensor(0.0062, device='cuda:0', grad_fn=<NllLossBackward0>), tensor(0.0099, device='cuda:0', grad_fn=<NllLossBackward0>), tensor(0.0053, device='cuda:0', grad_fn=<NllLossBackward0>), tensor(0.1203, device='cuda:0', grad_fn=<NllLossBackward0>), tensor(0.0630, device='cuda:0', grad_fn=<NllLossBackward0>), tensor(0.0051, device='cuda:0', grad_fn=<NllLossBackward0>), tensor(0.0081, device='cuda:0', grad_fn=<NllLossBackward0>), tensor(0.0097, device='cuda:0', grad_fn=<NllLossBackward0>), tensor(0.2185, device='cuda:0', grad_fn=<NllLossBackward0>), tensor(0.0051, device='cuda:0', grad_fn=<NllLossBackward0>), tensor(0.0298, device='cuda:0', grad_fn=<NllLossBackward0>), tensor(0.0193, device='cuda:0', grad_fn=<NllLossBackward0>), tensor(0.0076, device='cuda:0', grad_fn=<NllLossBackward0>), tensor(0.1047, device='cuda:0', grad_fn=<NllLossBackward0>), tensor(0.0117, device='cuda:0', grad_fn=<NllLossBackward0>), tensor(0.0230, device='cuda:0', grad_fn=<NllLossBackward0>), tensor(0.0182, device='cuda:0', grad_fn=<NllLossBackward0>), tensor(0.0174, device='cuda:0', grad_fn=<NllLossBackward0>), tensor(0.0049, device='cuda:0', grad_fn=<NllLossBackward0>), tensor(0.0081, device='cuda:0', grad_fn=<NllLossBackward0>), tensor(0.1298, device='cuda:0', grad_fn=<NllLossBackward0>), tensor(0.0438, device='cuda:0', grad_fn=<NllLossBackward0>), tensor(0.0058, device='cuda:0', grad_fn=<NllLossBackward0>), tensor(0.3237, device='cuda:0', grad_fn=<NllLossBackward0>), tensor(0.0074, device='cuda:0', grad_fn=<NllLossBackward0>), tensor(0.0061, device='cuda:0', grad_fn=<NllLossBackward0>), tensor(0.0646, device='cuda:0', grad_fn=<NllLossBackward0>), tensor(0.2462, device='cuda:0', grad_fn=<NllLossBackward0>), tensor(0.0085, device='cuda:0', grad_fn=<NllLossBackward0>), tensor(0.0163, device='cuda:0', grad_fn=<NllLossBackward0>), tensor(0.0065, device='cuda:0', grad_fn=<NllLossBackward0>), tensor(0.0205, device='cuda:0', grad_fn=<NllLossBackward0>), tensor(0.0765, device='cuda:0', grad_fn=<NllLossBackward0>), tensor(0.0400, device='cuda:0', grad_fn=<NllLossBackward0>), tensor(0.0108, device='cuda:0', grad_fn=<NllLossBackward0>), tensor(0.0435, device='cuda:0', grad_fn=<NllLossBackward0>), tensor(0.0044, device='cuda:0', grad_fn=<NllLossBackward0>), tensor(0.0066, device='cuda:0', grad_fn=<NllLossBackward0>), tensor(0.0092, device='cuda:0', grad_fn=<NllLossBackward0>), tensor(0.0052, device='cuda:0', grad_fn=<NllLossBackward0>), tensor(0.0098, device='cuda:0', grad_fn=<NllLossBackward0>), tensor(0.0063, device='cuda:0', grad_fn=<NllLossBackward0>), tensor(0.0059, device='cuda:0', grad_fn=<NllLossBackward0>), tensor(0.0083, device='cuda:0', grad_fn=<NllLossBackward0>), tensor(0.2997, device='cuda:0', grad_fn=<NllLossBackward0>), tensor(0.0074, device='cuda:0', grad_fn=<NllLossBackward0>), tensor(0.0078, device='cuda:0', grad_fn=<NllLossBackward0>), tensor(0.0148, device='cuda:0', grad_fn=<NllLossBackward0>), tensor(0.0128, device='cuda:0', grad_fn=<NllLossBackward0>), tensor(0.0108, device='cuda:0', grad_fn=<NllLossBackward0>), tensor(0.0043, device='cuda:0', grad_fn=<NllLossBackward0>), tensor(0.0186, device='cuda:0', grad_fn=<NllLossBackward0>), tensor(0.0052, device='cuda:0', grad_fn=<NllLossBackward0>), tensor(0.0396, device='cuda:0', grad_fn=<NllLossBackward0>), tensor(0.0043, device='cuda:0', grad_fn=<NllLossBackward0>), tensor(0.0047, device='cuda:0', grad_fn=<NllLossBackward0>), tensor(0.0052, device='cuda:0', grad_fn=<NllLossBackward0>), tensor(0.0064, device='cuda:0', grad_fn=<NllLossBackward0>), tensor(0.0045, device='cuda:0', grad_fn=<NllLossBackward0>), tensor(0.0045, device='cuda:0', grad_fn=<NllLossBackward0>), tensor(0.2974, device='cuda:0', grad_fn=<NllLossBackward0>), tensor(0.0050, device='cuda:0', grad_fn=<NllLossBackward0>), tensor(0.0122, device='cuda:0', grad_fn=<NllLossBackward0>), tensor(0.0030, device='cuda:0', grad_fn=<NllLossBackward0>), tensor(0.0070, device='cuda:0', grad_fn=<NllLossBackward0>), tensor(0.0047, device='cuda:0', grad_fn=<NllLossBackward0>), tensor(0.0055, device='cuda:0', grad_fn=<NllLossBackward0>), tensor(0.1245, device='cuda:0', grad_fn=<NllLossBackward0>), tensor(0.0031, device='cuda:0', grad_fn=<NllLossBackward0>), tensor(0.0057, device='cuda:0', grad_fn=<NllLossBackward0>), tensor(0.0063, device='cuda:0', grad_fn=<NllLossBackward0>), tensor(0.0047, device='cuda:0', grad_fn=<NllLossBackward0>), tensor(0.0055, device='cuda:0', grad_fn=<NllLossBackward0>), tensor(0.0041, device='cuda:0', grad_fn=<NllLossBackward0>), tensor(0.2459, device='cuda:0', grad_fn=<NllLossBackward0>), tensor(0.0090, device='cuda:0', grad_fn=<NllLossBackward0>), tensor(0.0052, device='cuda:0', grad_fn=<NllLossBackward0>), tensor(0.1235, device='cuda:0', grad_fn=<NllLossBackward0>), tensor(0.0086, device='cuda:0', grad_fn=<NllLossBackward0>), tensor(0.0192, device='cuda:0', grad_fn=<NllLossBackward0>), tensor(0.0066, device='cuda:0', grad_fn=<NllLossBackward0>), tensor(0.0171, device='cuda:0', grad_fn=<NllLossBackward0>), tensor(0.0218, device='cuda:0', grad_fn=<NllLossBackward0>), tensor(0.0169, device='cuda:0', grad_fn=<NllLossBackward0>), tensor(0.0056, device='cuda:0', grad_fn=<NllLossBackward0>), tensor(0.0089, device='cuda:0', grad_fn=<NllLossBackward0>), tensor(0.0061, device='cuda:0', grad_fn=<NllLossBackward0>), tensor(0.2964, device='cuda:0', grad_fn=<NllLossBackward0>), tensor(0.0037, device='cuda:0', grad_fn=<NllLossBackward0>), tensor(0.0030, device='cuda:0', grad_fn=<NllLossBackward0>), tensor(0.0047, device='cuda:0', grad_fn=<NllLossBackward0>), tensor(0.0344, device='cuda:0', grad_fn=<NllLossBackward0>), tensor(0.0088, device='cuda:0', grad_fn=<NllLossBackward0>), tensor(0.0462, device='cuda:0', grad_fn=<NllLossBackward0>), tensor(0.0064, device='cuda:0', grad_fn=<NllLossBackward0>), tensor(0.0126, device='cuda:0', grad_fn=<NllLossBackward0>), tensor(0.0758, device='cuda:0', grad_fn=<NllLossBackward0>), tensor(0.0067, device='cuda:0', grad_fn=<NllLossBackward0>), tensor(0.0093, device='cuda:0', grad_fn=<NllLossBackward0>), tensor(0.0041, device='cuda:0', grad_fn=<NllLossBackward0>), tensor(0.0076, device='cuda:0', grad_fn=<NllLossBackward0>), tensor(0.0045, device='cuda:0', grad_fn=<NllLossBackward0>), tensor(0.0042, device='cuda:0', grad_fn=<NllLossBackward0>), tensor(0.0325, device='cuda:0', grad_fn=<NllLossBackward0>), tensor(0.0304, device='cuda:0', grad_fn=<NllLossBackward0>), tensor(0.0082, device='cuda:0', grad_fn=<NllLossBackward0>), tensor(0.0749, device='cuda:0', grad_fn=<NllLossBackward0>), tensor(0.0245, device='cuda:0', grad_fn=<NllLossBackward0>), tensor(0.0035, device='cuda:0', grad_fn=<NllLossBackward0>), tensor(0.0033, device='cuda:0', grad_fn=<NllLossBackward0>), tensor(0.0051, device='cuda:0', grad_fn=<NllLossBackward0>), tensor(0.0039, device='cuda:0', grad_fn=<NllLossBackward0>), tensor(0.0043, device='cuda:0', grad_fn=<NllLossBackward0>), tensor(0.0028, device='cuda:0', grad_fn=<NllLossBackward0>), tensor(0.0024, device='cuda:0', grad_fn=<NllLossBackward0>), tensor(0.0034, device='cuda:0', grad_fn=<NllLossBackward0>), tensor(0.0030, device='cuda:0', grad_fn=<NllLossBackward0>), tensor(0.0028, device='cuda:0', grad_fn=<NllLossBackward0>), tensor(0.0023, device='cuda:0', grad_fn=<NllLossBackward0>), tensor(0.0025, device='cuda:0', grad_fn=<NllLossBackward0>), tensor(0.0343, device='cuda:0', grad_fn=<NllLossBackward0>), tensor(0.0027, device='cuda:0', grad_fn=<NllLossBackward0>), tensor(0.0024, device='cuda:0', grad_fn=<NllLossBackward0>), tensor(0.0029, device='cuda:0', grad_fn=<NllLossBackward0>), tensor(0.1762, device='cuda:0', grad_fn=<NllLossBackward0>), tensor(0.0104, device='cuda:0', grad_fn=<NllLossBackward0>), tensor(0.3780, device='cuda:0', grad_fn=<NllLossBackward0>), tensor(0.0021, device='cuda:0', grad_fn=<NllLossBackward0>), tensor(0.0025, device='cuda:0', grad_fn=<NllLossBackward0>)]\n"
          ]
        },
        {
          "output_type": "execute_result",
          "data": {
            "text/plain": [
              "list"
            ]
          },
          "metadata": {},
          "execution_count": 35
        }
      ]
    },
    {
      "cell_type": "code",
      "source": [
        "# 파이토치에서 item()은 텐서의 값을 파이썬 숫자로 추출하여 CPU로 전달\n",
        "new_losses = [i.item() for i in losses]\n",
        "\n",
        "new_losses[:5]"
      ],
      "metadata": {
        "colab": {
          "base_uri": "https://localhost:8080/"
        },
        "id": "Gf1LChWNxYQ2",
        "outputId": "275518b4-0c0e-44c8-9c32-0e397deef201"
      },
      "execution_count": 36,
      "outputs": [
        {
          "output_type": "execute_result",
          "data": {
            "text/plain": [
              "[0.6912361979484558,\n",
              " 0.6848354339599609,\n",
              " 0.6807729005813599,\n",
              " 0.6731229424476624,\n",
              " 0.6757851839065552]"
            ]
          },
          "metadata": {},
          "execution_count": 36
        }
      ]
    },
    {
      "cell_type": "code",
      "source": [
        "import matplotlib.pyplot as plt\n",
        "plt.plot(new_losses)\n",
        "plt.show()"
      ],
      "metadata": {
        "colab": {
          "base_uri": "https://localhost:8080/",
          "height": 430
        },
        "id": "sRmzFuSZxl6Y",
        "outputId": "11e95e5f-cb22-4de3-e922-1db59a45aff9"
      },
      "execution_count": 37,
      "outputs": [
        {
          "output_type": "display_data",
          "data": {
            "text/plain": [
              "<Figure size 640x480 with 1 Axes>"
            ],
            "image/png": "[encoded data removed]"
          },
          "metadata": {}
        }
      ]
    }
  ]
}